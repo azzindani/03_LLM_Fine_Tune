{
  "metadata": {
    "kernelspec": {
      "name": "python3",
      "display_name": "Python 3",
      "language": "python"
    },
    "language_info": {
      "name": "python",
      "version": "3.10.14",
      "mimetype": "text/x-python",
      "codemirror_mode": {
        "name": "ipython",
        "version": 3
      },
      "pygments_lexer": "ipython3",
      "nbconvert_exporter": "python",
      "file_extension": ".py"
    },
    "accelerator": "GPU",
    "colab": {
      "gpuType": "T4",
      "provenance": [],
      "include_colab_link": true
    },
    "kaggle": {
      "accelerator": "gpu",
      "dataSources": [],
      "dockerImageVersionId": 30786,
      "isInternetEnabled": true,
      "language": "python",
      "sourceType": "notebook",
      "isGpuEnabled": true
    }
  },
  "nbformat_minor": 0,
  "nbformat": 4,
  "cells": [
    {
      "cell_type": "markdown",
      "metadata": {
        "id": "view-in-github",
        "colab_type": "text"
      },
      "source": [
        "<a href=\"https://colab.research.google.com/github/azzindani/03_LLM_Fine_Tune/blob/main/Qwen2.5_0.5B_Instruct_Fine_Tune_PEFT_v2.ipynb\" target=\"_parent\"><img src=\"https://colab.research.google.com/assets/colab-badge.svg\" alt=\"Open In Colab\"/></a>"
      ]
    },
    {
      "cell_type": "markdown",
      "source": [
        "## 00 Import Modules"
      ],
      "metadata": {
        "id": "iNW_MCROx_hX"
      }
    },
    {
      "cell_type": "code",
      "source": [
        "#!pip install --upgrade transformers\n",
        "!pip install -q peft\n",
        "!pip install -U -q bitsandbytes\n",
        "!pip install -q datasets\n",
        "!pip install -q trl"
      ],
      "metadata": {
        "id": "0-QxfiDVyT74",
        "trusted": true,
        "execution": {
          "iopub.status.busy": "2024-11-23T03:49:20.677880Z",
          "iopub.execute_input": "2024-11-23T03:49:20.678290Z",
          "iopub.status.idle": "2024-11-23T03:49:59.472541Z",
          "shell.execute_reply.started": "2024-11-23T03:49:20.678239Z",
          "shell.execute_reply": "2024-11-23T03:49:59.471170Z"
        }
      },
      "outputs": [],
      "execution_count": null
    },
    {
      "cell_type": "code",
      "source": [
        "import os\n",
        "import pathlib\n",
        "import torch\n",
        "import numpy as np\n",
        "import textwrap\n",
        "\n",
        "from random import randint\n",
        "from itertools import zip_longest\n",
        "from datetime import datetime\n",
        "from datasets import load_dataset\n",
        "from datasets import Dataset\n",
        "from sklearn.model_selection import train_test_split\n",
        "from sklearn.metrics import accuracy_score, precision_recall_fscore_support\n",
        "from trl import SFTTrainer\n",
        "\n",
        "from transformers import (\n",
        "  AutoTokenizer,\n",
        "  AutoModelForCausalLM,\n",
        "  AutoModelForSeq2SeqLM,\n",
        "  AutoModel,\n",
        "  AutoModelForSequenceClassification,\n",
        "  DataCollatorForLanguageModeling,\n",
        "  Trainer,\n",
        "  TrainingArguments,\n",
        "  pipeline,\n",
        "  TextDataset,\n",
        "  EvalPrediction,\n",
        "  DataCollatorWithPadding,\n",
        "  GenerationConfig,\n",
        "  BitsAndBytesConfig,\n",
        "  DataCollatorForSeq2Seq,\n",
        "  TextStreamer\n",
        ")\n",
        "\n",
        "from peft import (\n",
        "  LoraConfig,\n",
        "  PeftModelForSequenceClassification,\n",
        "  PeftModel,\n",
        "  TaskType,\n",
        "  AutoPeftModelForSequenceClassification,\n",
        "  get_peft_model,\n",
        "  prepare_model_for_kbit_training\n",
        ")\n",
        "\n",
        "if torch.cuda.is_available():\n",
        "  print(\"GPU is available!\")\n",
        "else:\n",
        "  print(\"GPU is not available.\")"
      ],
      "metadata": {
        "id": "TIgNx9Orx0It",
        "trusted": true,
        "outputId": "248c8f10-5eae-49a5-ba03-c6c30698404f",
        "execution": {
          "iopub.status.busy": "2024-11-23T03:49:59.474980Z",
          "iopub.execute_input": "2024-11-23T03:49:59.475322Z",
          "iopub.status.idle": "2024-11-23T03:50:08.524106Z",
          "shell.execute_reply.started": "2024-11-23T03:49:59.475289Z",
          "shell.execute_reply": "2024-11-23T03:50:08.523050Z"
        }
      },
      "outputs": [
        {
          "name": "stdout",
          "text": "GPU is available!\n",
          "output_type": "stream"
        }
      ],
      "execution_count": null
    },
    {
      "cell_type": "code",
      "source": [
        "device = torch.device(\"cuda\" if torch.cuda.is_available() else \"cpu\")\n",
        "device"
      ],
      "metadata": {
        "id": "i-nwkyTDybqY",
        "trusted": true,
        "outputId": "f7789872-8053-4e26-a665-0c4f94689529",
        "execution": {
          "iopub.status.busy": "2024-11-23T03:50:08.525649Z",
          "iopub.execute_input": "2024-11-23T03:50:08.526105Z",
          "iopub.status.idle": "2024-11-23T03:50:08.534177Z",
          "shell.execute_reply.started": "2024-11-23T03:50:08.526059Z",
          "shell.execute_reply": "2024-11-23T03:50:08.533238Z"
        }
      },
      "outputs": [
        {
          "execution_count": 3,
          "output_type": "execute_result",
          "data": {
            "text/plain": "device(type='cuda')"
          },
          "metadata": {}
        }
      ],
      "execution_count": null
    },
    {
      "cell_type": "markdown",
      "source": [
        "## 01 Import Model"
      ],
      "metadata": {
        "id": "grIeJpUdyX0Y"
      }
    },
    {
      "cell_type": "code",
      "source": [
        "#url = 'https://huggingface.co/Qwen/Qwen2.5-0.5B'\n",
        "#model_name = url.split('.co/')[-1]\n",
        "\n",
        "model_name = 'Qwen/Qwen2.5-0.5B-Instruct'"
      ],
      "metadata": {
        "id": "14Lkvw4cyZkY",
        "trusted": true,
        "execution": {
          "iopub.status.busy": "2024-11-23T03:50:08.536295Z",
          "iopub.execute_input": "2024-11-23T03:50:08.536749Z",
          "iopub.status.idle": "2024-11-23T03:50:08.546643Z",
          "shell.execute_reply.started": "2024-11-23T03:50:08.536708Z",
          "shell.execute_reply": "2024-11-23T03:50:08.545625Z"
        }
      },
      "outputs": [],
      "execution_count": null
    },
    {
      "cell_type": "code",
      "source": [
        "def load_model(model_name, base = True):\n",
        "  if base == True:\n",
        "    model = AutoModelForCausalLM.from_pretrained(\n",
        "      model_name,\n",
        "      torch_dtype = torch.float16,\n",
        "      trust_remote_code = True\n",
        "    ).to(device)\n",
        "\n",
        "    return model\n",
        "\n",
        "  else:\n",
        "    bnb_config = BitsAndBytesConfig(\n",
        "      load_in_4bit = True,\n",
        "      bnb_4bit_quant_type = 'nf4',\n",
        "      bnb_4bit_compute_dtype = torch.float16,\n",
        "      bnb_4bit_use_double_quant = True,\n",
        "    )\n",
        "    model = AutoModelForCausalLM.from_pretrained(\n",
        "      model_name,\n",
        "      quantization_config = bnb_config,\n",
        "      trust_remote_code = True\n",
        "    ).to(device)\n",
        "\n",
        "    return model"
      ],
      "metadata": {
        "id": "GlskFscYyeco",
        "trusted": true,
        "execution": {
          "iopub.status.busy": "2024-11-23T03:50:08.548109Z",
          "iopub.execute_input": "2024-11-23T03:50:08.548547Z",
          "iopub.status.idle": "2024-11-23T03:50:08.559736Z",
          "shell.execute_reply.started": "2024-11-23T03:50:08.548475Z",
          "shell.execute_reply": "2024-11-23T03:50:08.558922Z"
        }
      },
      "outputs": [],
      "execution_count": null
    },
    {
      "cell_type": "code",
      "source": [
        "model = load_model(model_name, base = False)\n",
        "model"
      ],
      "metadata": {
        "id": "HIYgZ1xF1qsl",
        "trusted": true,
        "execution": {
          "iopub.status.busy": "2024-11-23T03:50:08.560860Z",
          "iopub.execute_input": "2024-11-23T03:50:08.561156Z",
          "iopub.status.idle": "2024-11-23T03:50:35.322227Z",
          "shell.execute_reply.started": "2024-11-23T03:50:08.561128Z",
          "shell.execute_reply": "2024-11-23T03:50:35.321129Z"
        }
      },
      "outputs": [],
      "execution_count": null
    },
    {
      "cell_type": "code",
      "source": [
        "total_params = sum(p.numel() for p in model.parameters())\n",
        "trainable_params = sum(p.numel() for p in model.parameters() if p.requires_grad)\n",
        "trainable_percentage = (trainable_params / total_params) * 100\n",
        "\n",
        "print('Total parameters :', total_params)\n",
        "print('Trainable parameters :', trainable_params)\n",
        "print('Trainable percentage: {:.2f}%'.format(trainable_percentage))"
      ],
      "metadata": {
        "id": "j6d6uYBfzCC4",
        "trusted": true,
        "execution": {
          "iopub.status.busy": "2024-11-23T03:50:35.323647Z",
          "iopub.execute_input": "2024-11-23T03:50:35.324092Z",
          "iopub.status.idle": "2024-11-23T03:50:35.332654Z",
          "shell.execute_reply.started": "2024-11-23T03:50:35.324046Z",
          "shell.execute_reply": "2024-11-23T03:50:35.331359Z"
        },
        "outputId": "a728e6c3-4006-4313-84e2-39527bc47a7d"
      },
      "outputs": [
        {
          "name": "stdout",
          "text": "Total parameters : 315119488\nTrainable parameters : 136178560\nTrainable percentage: 43.21%\n",
          "output_type": "stream"
        }
      ],
      "execution_count": null
    },
    {
      "cell_type": "markdown",
      "source": [
        "## 02 Import Tokenizer"
      ],
      "metadata": {
        "id": "MU_19rT5zEIZ"
      }
    },
    {
      "cell_type": "code",
      "source": [
        "tokenizer = AutoTokenizer.from_pretrained(model_name)\n",
        "tokenizer.pad_token = tokenizer.eos_token\n",
        "#tokenizer"
      ],
      "metadata": {
        "id": "lpB5JUjSzGtJ",
        "trusted": true,
        "execution": {
          "iopub.status.busy": "2024-11-23T03:50:35.334017Z",
          "iopub.execute_input": "2024-11-23T03:50:35.334376Z",
          "iopub.status.idle": "2024-11-23T03:50:36.959217Z",
          "shell.execute_reply.started": "2024-11-23T03:50:35.334336Z",
          "shell.execute_reply": "2024-11-23T03:50:36.958045Z"
        }
      },
      "outputs": [],
      "execution_count": null
    },
    {
      "cell_type": "markdown",
      "source": [
        "## 03 Import Dataset"
      ],
      "metadata": {
        "id": "3QJUqcUVzNoJ"
      }
    },
    {
      "cell_type": "code",
      "source": [
        "#url = 'https://huggingface.co/datasets/KingNish/reasoning-base-20k'\n",
        "#dataset_name = url.split('datasets/')[-1]\n",
        "\n",
        "dataset_name = 'yahma/alpaca-cleaned'"
      ],
      "metadata": {
        "id": "U01UXJdLzPXS",
        "trusted": true,
        "execution": {
          "iopub.status.busy": "2024-11-23T03:50:36.960927Z",
          "iopub.execute_input": "2024-11-23T03:50:36.961356Z",
          "iopub.status.idle": "2024-11-23T03:50:36.966114Z",
          "shell.execute_reply.started": "2024-11-23T03:50:36.961310Z",
          "shell.execute_reply": "2024-11-23T03:50:36.965124Z"
        }
      },
      "outputs": [],
      "execution_count": null
    },
    {
      "cell_type": "code",
      "source": [
        "max_length = 512"
      ],
      "metadata": {
        "id": "ZGIUyIDhNJC2",
        "trusted": true,
        "execution": {
          "iopub.status.busy": "2024-11-23T03:50:36.969860Z",
          "iopub.execute_input": "2024-11-23T03:50:36.970203Z",
          "iopub.status.idle": "2024-11-23T03:50:36.978565Z",
          "shell.execute_reply.started": "2024-11-23T03:50:36.970173Z",
          "shell.execute_reply": "2024-11-23T03:50:36.977777Z"
        }
      },
      "outputs": [],
      "execution_count": null
    },
    {
      "cell_type": "code",
      "source": [
        "dataset = load_dataset(dataset_name, split = 'train')\n",
        "dataset"
      ],
      "metadata": {
        "id": "0ucM3l_FzUkp",
        "trusted": true,
        "execution": {
          "iopub.status.busy": "2024-11-23T03:50:36.979788Z",
          "iopub.execute_input": "2024-11-23T03:50:36.980089Z",
          "iopub.status.idle": "2024-11-23T03:50:38.199573Z",
          "shell.execute_reply.started": "2024-11-23T03:50:36.980062Z",
          "shell.execute_reply": "2024-11-23T03:50:38.198673Z"
        },
        "outputId": "4b10a6e4-d052-4950-e129-ca665c84878b"
      },
      "outputs": [
        {
          "execution_count": 11,
          "output_type": "execute_result",
          "data": {
            "text/plain": "Dataset({\n    features: ['output', 'input', 'instruction'],\n    num_rows: 51760\n})"
          },
          "metadata": {}
        }
      ],
      "execution_count": null
    },
    {
      "cell_type": "code",
      "source": [
        "dataset = dataset.select(range(10000))"
      ],
      "metadata": {
        "trusted": true,
        "execution": {
          "iopub.status.busy": "2024-11-23T03:50:38.200814Z",
          "iopub.execute_input": "2024-11-23T03:50:38.201225Z",
          "iopub.status.idle": "2024-11-23T03:50:38.208971Z",
          "shell.execute_reply.started": "2024-11-23T03:50:38.201179Z",
          "shell.execute_reply": "2024-11-23T03:50:38.207954Z"
        },
        "id": "m2bbKC_MrxJH"
      },
      "outputs": [],
      "execution_count": null
    },
    {
      "cell_type": "code",
      "source": [
        "dataset.select(range(5)).to_pandas().head()"
      ],
      "metadata": {
        "id": "FLRSMhJDzY5Z",
        "trusted": true,
        "execution": {
          "iopub.status.busy": "2024-11-23T03:50:38.210313Z",
          "iopub.execute_input": "2024-11-23T03:50:38.210945Z",
          "iopub.status.idle": "2024-11-23T03:50:38.234950Z",
          "shell.execute_reply.started": "2024-11-23T03:50:38.210898Z",
          "shell.execute_reply": "2024-11-23T03:50:38.233917Z"
        },
        "outputId": "5ae8bee6-2938-4bfb-a0f2-e84de2910dd0"
      },
      "outputs": [
        {
          "execution_count": 13,
          "output_type": "execute_result",
          "data": {
            "text/plain": "                                              output input  \\\n0  1. Eat a balanced and nutritious diet: Make su...         \n1  The three primary colors are red, blue, and ye...         \n2  An atom is the basic building block of all mat...         \n3  There are several ways to reduce air pollution...         \n4  I had to make a difficult decision when I was ...         \n\n                                         instruction  \n0               Give three tips for staying healthy.  \n1                 What are the three primary colors?  \n2                 Describe the structure of an atom.  \n3                   How can we reduce air pollution?  \n4  Pretend you are a project manager of a constru...  ",
            "text/html": "<div>\n<style scoped>\n    .dataframe tbody tr th:only-of-type {\n        vertical-align: middle;\n    }\n\n    .dataframe tbody tr th {\n        vertical-align: top;\n    }\n\n    .dataframe thead th {\n        text-align: right;\n    }\n</style>\n<table border=\"1\" class=\"dataframe\">\n  <thead>\n    <tr style=\"text-align: right;\">\n      <th></th>\n      <th>output</th>\n      <th>input</th>\n      <th>instruction</th>\n    </tr>\n  </thead>\n  <tbody>\n    <tr>\n      <th>0</th>\n      <td>1. Eat a balanced and nutritious diet: Make su...</td>\n      <td></td>\n      <td>Give three tips for staying healthy.</td>\n    </tr>\n    <tr>\n      <th>1</th>\n      <td>The three primary colors are red, blue, and ye...</td>\n      <td></td>\n      <td>What are the three primary colors?</td>\n    </tr>\n    <tr>\n      <th>2</th>\n      <td>An atom is the basic building block of all mat...</td>\n      <td></td>\n      <td>Describe the structure of an atom.</td>\n    </tr>\n    <tr>\n      <th>3</th>\n      <td>There are several ways to reduce air pollution...</td>\n      <td></td>\n      <td>How can we reduce air pollution?</td>\n    </tr>\n    <tr>\n      <th>4</th>\n      <td>I had to make a difficult decision when I was ...</td>\n      <td></td>\n      <td>Pretend you are a project manager of a constru...</td>\n    </tr>\n  </tbody>\n</table>\n</div>"
          },
          "metadata": {}
        }
      ],
      "execution_count": null
    },
    {
      "cell_type": "code",
      "source": [
        "dataset[0]"
      ],
      "metadata": {
        "id": "3exPEy0JdLyI",
        "trusted": true,
        "execution": {
          "iopub.status.busy": "2024-11-23T03:50:38.236216Z",
          "iopub.execute_input": "2024-11-23T03:50:38.236536Z",
          "iopub.status.idle": "2024-11-23T03:50:38.244072Z",
          "shell.execute_reply.started": "2024-11-23T03:50:38.236504Z",
          "shell.execute_reply": "2024-11-23T03:50:38.242979Z"
        },
        "outputId": "4a45a39a-a1d7-4eab-9423-02ae08ff0f92"
      },
      "outputs": [
        {
          "execution_count": 14,
          "output_type": "execute_result",
          "data": {
            "text/plain": "{'output': '1. Eat a balanced and nutritious diet: Make sure your meals are inclusive of a variety of fruits and vegetables, lean protein, whole grains, and healthy fats. This helps to provide your body with the essential nutrients to function at its best and can help prevent chronic diseases.\\n\\n2. Engage in regular physical activity: Exercise is crucial for maintaining strong bones, muscles, and cardiovascular health. Aim for at least 150 minutes of moderate aerobic exercise or 75 minutes of vigorous exercise each week.\\n\\n3. Get enough sleep: Getting enough quality sleep is crucial for physical and mental well-being. It helps to regulate mood, improve cognitive function, and supports healthy growth and immune function. Aim for 7-9 hours of sleep each night.',\n 'input': '',\n 'instruction': 'Give three tips for staying healthy.'}"
          },
          "metadata": {}
        }
      ],
      "execution_count": null
    },
    {
      "cell_type": "code",
      "source": [
        "features = list(dataset.features.keys())\n",
        "print(features)"
      ],
      "metadata": {
        "id": "xYKmTDtkAnt5",
        "trusted": true,
        "execution": {
          "iopub.status.busy": "2024-11-23T03:50:38.245264Z",
          "iopub.execute_input": "2024-11-23T03:50:38.245575Z",
          "iopub.status.idle": "2024-11-23T03:50:38.257991Z",
          "shell.execute_reply.started": "2024-11-23T03:50:38.245545Z",
          "shell.execute_reply": "2024-11-23T03:50:38.255628Z"
        },
        "outputId": "73720a9a-787d-4e80-b402-ae434227a015"
      },
      "outputs": [
        {
          "name": "stdout",
          "text": "['output', 'input', 'instruction']\n",
          "output_type": "stream"
        }
      ],
      "execution_count": null
    },
    {
      "cell_type": "markdown",
      "source": [
        "## 04 Text Formatting"
      ],
      "metadata": {
        "id": "Wq59WgYJCDY0"
      }
    },
    {
      "cell_type": "code",
      "source": [
        "prompt_format = \"\"\"Below is an instruction that describes a task, paired with an input that provides further context. Write a response that appropriately completes the request.\n",
        "\n",
        "### Instruction:\n",
        "{}\n",
        "\n",
        "### Input:\n",
        "{}\n",
        "\n",
        "### Response:\n",
        "{}\"\"\""
      ],
      "metadata": {
        "trusted": true,
        "execution": {
          "iopub.status.busy": "2024-11-23T03:50:38.259264Z",
          "iopub.execute_input": "2024-11-23T03:50:38.259575Z",
          "iopub.status.idle": "2024-11-23T03:50:38.268241Z",
          "shell.execute_reply.started": "2024-11-23T03:50:38.259538Z",
          "shell.execute_reply": "2024-11-23T03:50:38.267308Z"
        },
        "id": "Gr9p_UTsrxJI"
      },
      "outputs": [],
      "execution_count": null
    },
    {
      "cell_type": "code",
      "source": [
        "EOS_TOKEN = tokenizer.eos_token # Must add EOS_TOKEN\n",
        "\n",
        "def preprocess(examples):\n",
        "  instruction = examples['instruction']\n",
        "  input = examples['input']\n",
        "  output = examples['output']\n",
        "\n",
        "  text = prompt_format.format(instruction, input, output) + EOS_TOKEN\n",
        "  return {'prompt' : text}"
      ],
      "metadata": {
        "trusted": true,
        "execution": {
          "iopub.status.busy": "2024-11-23T03:50:38.269433Z",
          "iopub.execute_input": "2024-11-23T03:50:38.269762Z",
          "iopub.status.idle": "2024-11-23T03:50:38.278979Z",
          "shell.execute_reply.started": "2024-11-23T03:50:38.269731Z",
          "shell.execute_reply": "2024-11-23T03:50:38.278103Z"
        },
        "id": "yw3fpLb6rxJI"
      },
      "outputs": [],
      "execution_count": null
    },
    {
      "cell_type": "code",
      "source": [
        "formatted_dataset = dataset.map(preprocess, remove_columns = features)\n",
        "formatted_dataset"
      ],
      "metadata": {
        "id": "7TFGpGhoWS9e",
        "trusted": true,
        "execution": {
          "iopub.status.busy": "2024-11-23T03:50:38.280010Z",
          "iopub.execute_input": "2024-11-23T03:50:38.280293Z",
          "iopub.status.idle": "2024-11-23T03:50:38.297482Z",
          "shell.execute_reply.started": "2024-11-23T03:50:38.280265Z",
          "shell.execute_reply": "2024-11-23T03:50:38.296446Z"
        },
        "outputId": "9f0a870f-1b3f-4e87-d650-389598acdc98"
      },
      "outputs": [
        {
          "execution_count": 18,
          "output_type": "execute_result",
          "data": {
            "text/plain": "Dataset({\n    features: ['prompt'],\n    num_rows: 10000\n})"
          },
          "metadata": {}
        }
      ],
      "execution_count": null
    },
    {
      "cell_type": "code",
      "source": [
        "print(formatted_dataset[0]['prompt'])"
      ],
      "metadata": {
        "id": "cZya4tPEWUc9",
        "trusted": true,
        "execution": {
          "iopub.status.busy": "2024-11-23T03:50:38.299194Z",
          "iopub.execute_input": "2024-11-23T03:50:38.299612Z",
          "iopub.status.idle": "2024-11-23T03:50:38.305563Z",
          "shell.execute_reply.started": "2024-11-23T03:50:38.299565Z",
          "shell.execute_reply": "2024-11-23T03:50:38.304560Z"
        },
        "outputId": "33f22b9b-8044-4745-b2ac-05500edd2fad"
      },
      "outputs": [
        {
          "name": "stdout",
          "text": "Below is an instruction that describes a task, paired with an input that provides further context. Write a response that appropriately completes the request.\n\n### Instruction:\nGive three tips for staying healthy.\n\n### Input:\n\n\n### Response:\n1. Eat a balanced and nutritious diet: Make sure your meals are inclusive of a variety of fruits and vegetables, lean protein, whole grains, and healthy fats. This helps to provide your body with the essential nutrients to function at its best and can help prevent chronic diseases.\n\n2. Engage in regular physical activity: Exercise is crucial for maintaining strong bones, muscles, and cardiovascular health. Aim for at least 150 minutes of moderate aerobic exercise or 75 minutes of vigorous exercise each week.\n\n3. Get enough sleep: Getting enough quality sleep is crucial for physical and mental well-being. It helps to regulate mood, improve cognitive function, and supports healthy growth and immune function. Aim for 7-9 hours of sleep each night.<|im_end|>\n",
          "output_type": "stream"
        }
      ],
      "execution_count": null
    },
    {
      "cell_type": "markdown",
      "source": [
        "## 05 Tokenization"
      ],
      "metadata": {
        "id": "UMhGDyBpCHoT"
      }
    },
    {
      "cell_type": "code",
      "source": [
        "def tokenize_data(example, max_length = max_length):\n",
        "  return tokenizer(example['prompt'], truncation = True, padding = 'max_length', max_length = max_length)"
      ],
      "metadata": {
        "id": "m7bxU8fiewb7",
        "trusted": true,
        "execution": {
          "iopub.status.busy": "2024-11-23T03:50:38.306836Z",
          "iopub.execute_input": "2024-11-23T03:50:38.307217Z",
          "iopub.status.idle": "2024-11-23T03:50:38.315464Z",
          "shell.execute_reply.started": "2024-11-23T03:50:38.307176Z",
          "shell.execute_reply": "2024-11-23T03:50:38.314603Z"
        }
      },
      "outputs": [],
      "execution_count": null
    },
    {
      "cell_type": "code",
      "source": [
        "tokenized_dataset = formatted_dataset.map(tokenize_data)#, batched = True)#, remove_columns = 'text')\n",
        "tokenized_dataset"
      ],
      "metadata": {
        "id": "M3BO26k-BmdS",
        "trusted": true,
        "execution": {
          "iopub.status.busy": "2024-11-23T03:50:38.316849Z",
          "iopub.execute_input": "2024-11-23T03:50:38.317522Z",
          "iopub.status.idle": "2024-11-23T03:50:48.823291Z",
          "shell.execute_reply.started": "2024-11-23T03:50:38.317477Z",
          "shell.execute_reply": "2024-11-23T03:50:48.822254Z"
        }
      },
      "outputs": [],
      "execution_count": null
    },
    {
      "cell_type": "code",
      "source": [
        "print(tokenized_dataset[0]['prompt'])"
      ],
      "metadata": {
        "id": "wEHhMdV4pEFH",
        "trusted": true,
        "execution": {
          "iopub.status.busy": "2024-11-23T03:50:48.824872Z",
          "iopub.execute_input": "2024-11-23T03:50:48.825293Z",
          "iopub.status.idle": "2024-11-23T03:50:48.833140Z",
          "shell.execute_reply.started": "2024-11-23T03:50:48.825248Z",
          "shell.execute_reply": "2024-11-23T03:50:48.831841Z"
        },
        "outputId": "ff1d61b6-af70-4279-cd60-acaa3e4764c4"
      },
      "outputs": [
        {
          "name": "stdout",
          "text": "Below is an instruction that describes a task, paired with an input that provides further context. Write a response that appropriately completes the request.\n\n### Instruction:\nGive three tips for staying healthy.\n\n### Input:\n\n\n### Response:\n1. Eat a balanced and nutritious diet: Make sure your meals are inclusive of a variety of fruits and vegetables, lean protein, whole grains, and healthy fats. This helps to provide your body with the essential nutrients to function at its best and can help prevent chronic diseases.\n\n2. Engage in regular physical activity: Exercise is crucial for maintaining strong bones, muscles, and cardiovascular health. Aim for at least 150 minutes of moderate aerobic exercise or 75 minutes of vigorous exercise each week.\n\n3. Get enough sleep: Getting enough quality sleep is crucial for physical and mental well-being. It helps to regulate mood, improve cognitive function, and supports healthy growth and immune function. Aim for 7-9 hours of sleep each night.<|im_end|>\n",
          "output_type": "stream"
        }
      ],
      "execution_count": null
    },
    {
      "cell_type": "code",
      "source": [
        "tokenized_dataset = tokenized_dataset.train_test_split(test_size = 0.1, seed = 42)\n",
        "tokenized_dataset"
      ],
      "metadata": {
        "id": "C2m-e-ivDn1A",
        "trusted": true,
        "execution": {
          "iopub.status.busy": "2024-11-23T03:50:48.834612Z",
          "iopub.execute_input": "2024-11-23T03:50:48.835038Z",
          "iopub.status.idle": "2024-11-23T03:50:48.916863Z",
          "shell.execute_reply.started": "2024-11-23T03:50:48.834997Z",
          "shell.execute_reply": "2024-11-23T03:50:48.915835Z"
        },
        "outputId": "364ccd3c-09b2-436d-8553-9642fe6b01eb"
      },
      "outputs": [
        {
          "execution_count": 23,
          "output_type": "execute_result",
          "data": {
            "text/plain": "DatasetDict({\n    train: Dataset({\n        features: ['prompt', 'input_ids', 'attention_mask'],\n        num_rows: 9000\n    })\n    test: Dataset({\n        features: ['prompt', 'input_ids', 'attention_mask'],\n        num_rows: 1000\n    })\n})"
          },
          "metadata": {}
        }
      ],
      "execution_count": null
    },
    {
      "cell_type": "code",
      "source": [
        "train_dataset = tokenized_dataset['train']\n",
        "test_dataset = tokenized_dataset['test']\n",
        "train_dataset"
      ],
      "metadata": {
        "id": "QHs-BnR_zd9C",
        "trusted": true,
        "execution": {
          "iopub.status.busy": "2024-11-23T03:50:48.918039Z",
          "iopub.execute_input": "2024-11-23T03:50:48.918360Z",
          "iopub.status.idle": "2024-11-23T03:50:48.925489Z",
          "shell.execute_reply.started": "2024-11-23T03:50:48.918331Z",
          "shell.execute_reply": "2024-11-23T03:50:48.924647Z"
        },
        "outputId": "a8e1b975-c7e3-4104-bd1b-2a7c31c93c78"
      },
      "outputs": [
        {
          "execution_count": 24,
          "output_type": "execute_result",
          "data": {
            "text/plain": "Dataset({\n    features: ['prompt', 'input_ids', 'attention_mask'],\n    num_rows: 9000\n})"
          },
          "metadata": {}
        }
      ],
      "execution_count": null
    },
    {
      "cell_type": "code",
      "source": [
        "train_dataset.select(range(5)).to_pandas().head()"
      ],
      "metadata": {
        "id": "-CUZuEENF2mW",
        "trusted": true,
        "execution": {
          "iopub.status.busy": "2024-11-23T03:50:48.926704Z",
          "iopub.execute_input": "2024-11-23T03:50:48.927088Z",
          "iopub.status.idle": "2024-11-23T03:50:48.952858Z",
          "shell.execute_reply.started": "2024-11-23T03:50:48.927057Z",
          "shell.execute_reply": "2024-11-23T03:50:48.951915Z"
        },
        "outputId": "13f64a23-0d00-4ac6-fee6-e7e51fc764d4"
      },
      "outputs": [
        {
          "execution_count": 25,
          "output_type": "execute_result",
          "data": {
            "text/plain": "                                              prompt  \\\n0  Below is an instruction that describes a task,...   \n1  Below is an instruction that describes a task,...   \n2  Below is an instruction that describes a task,...   \n3  Below is an instruction that describes a task,...   \n4  Below is an instruction that describes a task,...   \n\n                                           input_ids  \\\n0  [38214, 374, 458, 7600, 429, 16555, 264, 3383,...   \n1  [38214, 374, 458, 7600, 429, 16555, 264, 3383,...   \n2  [38214, 374, 458, 7600, 429, 16555, 264, 3383,...   \n3  [38214, 374, 458, 7600, 429, 16555, 264, 3383,...   \n4  [38214, 374, 458, 7600, 429, 16555, 264, 3383,...   \n\n                                      attention_mask  \n0  [1, 1, 1, 1, 1, 1, 1, 1, 1, 1, 1, 1, 1, 1, 1, ...  \n1  [1, 1, 1, 1, 1, 1, 1, 1, 1, 1, 1, 1, 1, 1, 1, ...  \n2  [1, 1, 1, 1, 1, 1, 1, 1, 1, 1, 1, 1, 1, 1, 1, ...  \n3  [1, 1, 1, 1, 1, 1, 1, 1, 1, 1, 1, 1, 1, 1, 1, ...  \n4  [1, 1, 1, 1, 1, 1, 1, 1, 1, 1, 1, 1, 1, 1, 1, ...  ",
            "text/html": "<div>\n<style scoped>\n    .dataframe tbody tr th:only-of-type {\n        vertical-align: middle;\n    }\n\n    .dataframe tbody tr th {\n        vertical-align: top;\n    }\n\n    .dataframe thead th {\n        text-align: right;\n    }\n</style>\n<table border=\"1\" class=\"dataframe\">\n  <thead>\n    <tr style=\"text-align: right;\">\n      <th></th>\n      <th>prompt</th>\n      <th>input_ids</th>\n      <th>attention_mask</th>\n    </tr>\n  </thead>\n  <tbody>\n    <tr>\n      <th>0</th>\n      <td>Below is an instruction that describes a task,...</td>\n      <td>[38214, 374, 458, 7600, 429, 16555, 264, 3383,...</td>\n      <td>[1, 1, 1, 1, 1, 1, 1, 1, 1, 1, 1, 1, 1, 1, 1, ...</td>\n    </tr>\n    <tr>\n      <th>1</th>\n      <td>Below is an instruction that describes a task,...</td>\n      <td>[38214, 374, 458, 7600, 429, 16555, 264, 3383,...</td>\n      <td>[1, 1, 1, 1, 1, 1, 1, 1, 1, 1, 1, 1, 1, 1, 1, ...</td>\n    </tr>\n    <tr>\n      <th>2</th>\n      <td>Below is an instruction that describes a task,...</td>\n      <td>[38214, 374, 458, 7600, 429, 16555, 264, 3383,...</td>\n      <td>[1, 1, 1, 1, 1, 1, 1, 1, 1, 1, 1, 1, 1, 1, 1, ...</td>\n    </tr>\n    <tr>\n      <th>3</th>\n      <td>Below is an instruction that describes a task,...</td>\n      <td>[38214, 374, 458, 7600, 429, 16555, 264, 3383,...</td>\n      <td>[1, 1, 1, 1, 1, 1, 1, 1, 1, 1, 1, 1, 1, 1, 1, ...</td>\n    </tr>\n    <tr>\n      <th>4</th>\n      <td>Below is an instruction that describes a task,...</td>\n      <td>[38214, 374, 458, 7600, 429, 16555, 264, 3383,...</td>\n      <td>[1, 1, 1, 1, 1, 1, 1, 1, 1, 1, 1, 1, 1, 1, 1, ...</td>\n    </tr>\n  </tbody>\n</table>\n</div>"
          },
          "metadata": {}
        }
      ],
      "execution_count": null
    },
    {
      "cell_type": "code",
      "source": [
        "print(train_dataset[0]['prompt'])"
      ],
      "metadata": {
        "id": "6PxxrK5Rd4gk",
        "trusted": true,
        "execution": {
          "iopub.status.busy": "2024-11-23T03:50:48.954014Z",
          "iopub.execute_input": "2024-11-23T03:50:48.954301Z",
          "iopub.status.idle": "2024-11-23T03:50:48.960582Z",
          "shell.execute_reply.started": "2024-11-23T03:50:48.954273Z",
          "shell.execute_reply": "2024-11-23T03:50:48.959709Z"
        },
        "outputId": "af9691cb-1f4f-462c-de4b-4023626d14f3"
      },
      "outputs": [
        {
          "name": "stdout",
          "text": "Below is an instruction that describes a task, paired with an input that provides further context. Write a response that appropriately completes the request.\n\n### Instruction:\nAnalyze the given poem and identify its main theme.\n\n### Input:\nTwo roads diverged in a yellow wood,\\nAnd sorry I could not travel both\\nAnd be one traveler, long I stood\\nAnd looked down one as far as I could\\nTo where it bent in the undergrowth;\\n\\nThen took the other, as just as fair,\\nAnd having perhaps the better claim,\\nBecause it was grassy and wanted wear;\\nThough as for that the passing there\\nHad worn them really about the same,\\nThe roads that morning equally lay\\nIn leaves no step had trodden black.\\nOh, I left the first for another day!\\nYet knowing how way leads on to way,\\nI doubted if I should ever come back.\\n\\nI shall be telling this with a sigh\\nSomewhere ages and ages hence:\\nTwo roads diverged in a wood, and I—\\nI took the one less traveled by,\\nAnd that has made all the difference.\n\n### Response:\nThe main theme of the poem is the importance of making choices and the impact of those choices on one's life. The speaker is faced with a decision between two paths and ultimately chooses the one less traveled, which ultimately shapes their life experience.<|im_end|>\n",
          "output_type": "stream"
        }
      ],
      "execution_count": null
    },
    {
      "cell_type": "code",
      "source": [
        "print(train_dataset[0]['input_ids'])"
      ],
      "metadata": {
        "id": "HR79ppIiE78f",
        "trusted": true,
        "execution": {
          "iopub.status.busy": "2024-11-23T03:50:48.961711Z",
          "iopub.execute_input": "2024-11-23T03:50:48.962041Z",
          "iopub.status.idle": "2024-11-23T03:50:48.973704Z",
          "shell.execute_reply.started": "2024-11-23T03:50:48.962013Z",
          "shell.execute_reply": "2024-11-23T03:50:48.972722Z"
        },
        "outputId": "5c5f991b-ea48-4ea7-86fc-d1d61d930eb1"
      },
      "outputs": [
        {
          "name": "stdout",
          "text": "[38214, 374, 458, 7600, 429, 16555, 264, 3383, 11, 34426, 448, 458, 1946, 429, 5707, 4623, 2266, 13, 9645, 264, 2033, 429, 34901, 44595, 279, 1681, 382, 14374, 29051, 510, 2082, 55856, 279, 2661, 32794, 323, 10542, 1181, 1887, 6912, 382, 14374, 5571, 510, 11613, 19241, 36341, 3556, 304, 264, 13753, 7579, 26266, 77, 3036, 14589, 358, 1410, 537, 5821, 2176, 1699, 3036, 387, 825, 62765, 11, 1293, 358, 14638, 1699, 3036, 6966, 1495, 825, 438, 3041, 438, 358, 1410, 1699, 1249, 1380, 432, 29180, 304, 279, 1212, 73089, 17882, 77, 1699, 12209, 3867, 279, 1008, 11, 438, 1101, 438, 6624, 26266, 77, 3036, 3432, 8365, 279, 2664, 3717, 26266, 77, 17949, 432, 572, 16359, 88, 323, 4829, 9850, 17882, 77, 26733, 438, 369, 429, 279, 12299, 1052, 1699, 55468, 23704, 1105, 2167, 911, 279, 1852, 26266, 88230, 19241, 429, 6556, 18308, 10962, 1699, 641, 10901, 902, 3019, 1030, 8185, 10792, 3691, 7110, 77, 11908, 11, 358, 2115, 279, 1156, 369, 2441, 1899, 14771, 77, 28074, 14063, 1246, 1616, 11508, 389, 311, 1616, 26266, 77, 40, 92662, 421, 358, 1265, 3512, 2525, 1182, 7110, 77, 1699, 40, 4880, 387, 11629, 419, 448, 264, 30138, 1699, 49882, 60652, 16639, 323, 16639, 16085, 7190, 77, 11613, 19241, 36341, 3556, 304, 264, 7579, 11, 323, 358, 2293, 59, 77, 40, 3867, 279, 825, 2686, 30696, 553, 26266, 77, 3036, 429, 702, 1865, 678, 279, 6672, 382, 14374, 5949, 510, 785, 1887, 6912, 315, 279, 32794, 374, 279, 12650, 315, 3259, 11454, 323, 279, 5421, 315, 1846, 11454, 389, 825, 594, 2272, 13, 576, 18601, 374, 16601, 448, 264, 5480, 1948, 1378, 12716, 323, 13653, 39911, 279, 825, 2686, 30696, 11, 892, 13653, 20816, 862, 2272, 3139, 13, 151645, 151645, 151645, 151645, 151645, 151645, 151645, 151645, 151645, 151645, 151645, 151645, 151645, 151645, 151645, 151645, 151645, 151645, 151645, 151645, 151645, 151645, 151645, 151645, 151645, 151645, 151645, 151645, 151645, 151645, 151645, 151645, 151645, 151645, 151645, 151645, 151645, 151645, 151645, 151645, 151645, 151645, 151645, 151645, 151645, 151645, 151645, 151645, 151645, 151645, 151645, 151645, 151645, 151645, 151645, 151645, 151645, 151645, 151645, 151645, 151645, 151645, 151645, 151645, 151645, 151645, 151645, 151645, 151645, 151645, 151645, 151645, 151645, 151645, 151645, 151645, 151645, 151645, 151645, 151645, 151645, 151645, 151645, 151645, 151645, 151645, 151645, 151645, 151645, 151645, 151645, 151645, 151645, 151645, 151645, 151645, 151645, 151645, 151645, 151645, 151645, 151645, 151645, 151645, 151645, 151645, 151645, 151645, 151645, 151645, 151645, 151645, 151645, 151645, 151645, 151645, 151645, 151645, 151645, 151645, 151645, 151645, 151645, 151645, 151645, 151645, 151645, 151645, 151645, 151645, 151645, 151645, 151645, 151645, 151645, 151645, 151645, 151645, 151645, 151645, 151645, 151645, 151645, 151645, 151645, 151645, 151645, 151645, 151645, 151645, 151645, 151645, 151645, 151645, 151645, 151645, 151645, 151645, 151645, 151645, 151645, 151645, 151645, 151645, 151645, 151645, 151645, 151645, 151645, 151645, 151645, 151645, 151645, 151645, 151645, 151645, 151645, 151645, 151645, 151645, 151645, 151645, 151645, 151645, 151645, 151645, 151645, 151645, 151645, 151645, 151645, 151645, 151645, 151645, 151645, 151645, 151645, 151645, 151645, 151645, 151645, 151645, 151645, 151645, 151645, 151645, 151645, 151645, 151645, 151645, 151645, 151645, 151645, 151645, 151645, 151645, 151645, 151645, 151645, 151645, 151645, 151645, 151645, 151645, 151645, 151645, 151645, 151645]\n",
          "output_type": "stream"
        }
      ],
      "execution_count": null
    },
    {
      "cell_type": "code",
      "source": [
        "print(train_dataset[0]['attention_mask'])"
      ],
      "metadata": {
        "id": "xGmCvvZTE82D",
        "trusted": true,
        "execution": {
          "iopub.status.busy": "2024-11-23T03:50:48.979605Z",
          "iopub.execute_input": "2024-11-23T03:50:48.980058Z",
          "iopub.status.idle": "2024-11-23T03:50:48.987346Z",
          "shell.execute_reply.started": "2024-11-23T03:50:48.980029Z",
          "shell.execute_reply": "2024-11-23T03:50:48.986503Z"
        },
        "outputId": "54fd6b1f-77ef-4e0e-962f-8e8b8e033d49"
      },
      "outputs": [
        {
          "name": "stdout",
          "text": "[1, 1, 1, 1, 1, 1, 1, 1, 1, 1, 1, 1, 1, 1, 1, 1, 1, 1, 1, 1, 1, 1, 1, 1, 1, 1, 1, 1, 1, 1, 1, 1, 1, 1, 1, 1, 1, 1, 1, 1, 1, 1, 1, 1, 1, 1, 1, 1, 1, 1, 1, 1, 1, 1, 1, 1, 1, 1, 1, 1, 1, 1, 1, 1, 1, 1, 1, 1, 1, 1, 1, 1, 1, 1, 1, 1, 1, 1, 1, 1, 1, 1, 1, 1, 1, 1, 1, 1, 1, 1, 1, 1, 1, 1, 1, 1, 1, 1, 1, 1, 1, 1, 1, 1, 1, 1, 1, 1, 1, 1, 1, 1, 1, 1, 1, 1, 1, 1, 1, 1, 1, 1, 1, 1, 1, 1, 1, 1, 1, 1, 1, 1, 1, 1, 1, 1, 1, 1, 1, 1, 1, 1, 1, 1, 1, 1, 1, 1, 1, 1, 1, 1, 1, 1, 1, 1, 1, 1, 1, 1, 1, 1, 1, 1, 1, 1, 1, 1, 1, 1, 1, 1, 1, 1, 1, 1, 1, 1, 1, 1, 1, 1, 1, 1, 1, 1, 1, 1, 1, 1, 1, 1, 1, 1, 1, 1, 1, 1, 1, 1, 1, 1, 1, 1, 1, 1, 1, 1, 1, 1, 1, 1, 1, 1, 1, 1, 1, 1, 1, 1, 1, 1, 1, 1, 1, 1, 1, 1, 1, 1, 1, 1, 1, 1, 1, 1, 1, 1, 1, 1, 1, 1, 1, 1, 1, 1, 1, 1, 1, 1, 1, 1, 1, 1, 1, 1, 1, 1, 1, 1, 1, 1, 1, 1, 1, 1, 1, 1, 1, 1, 1, 1, 1, 1, 1, 1, 1, 1, 1, 1, 1, 1, 1, 1, 1, 0, 0, 0, 0, 0, 0, 0, 0, 0, 0, 0, 0, 0, 0, 0, 0, 0, 0, 0, 0, 0, 0, 0, 0, 0, 0, 0, 0, 0, 0, 0, 0, 0, 0, 0, 0, 0, 0, 0, 0, 0, 0, 0, 0, 0, 0, 0, 0, 0, 0, 0, 0, 0, 0, 0, 0, 0, 0, 0, 0, 0, 0, 0, 0, 0, 0, 0, 0, 0, 0, 0, 0, 0, 0, 0, 0, 0, 0, 0, 0, 0, 0, 0, 0, 0, 0, 0, 0, 0, 0, 0, 0, 0, 0, 0, 0, 0, 0, 0, 0, 0, 0, 0, 0, 0, 0, 0, 0, 0, 0, 0, 0, 0, 0, 0, 0, 0, 0, 0, 0, 0, 0, 0, 0, 0, 0, 0, 0, 0, 0, 0, 0, 0, 0, 0, 0, 0, 0, 0, 0, 0, 0, 0, 0, 0, 0, 0, 0, 0, 0, 0, 0, 0, 0, 0, 0, 0, 0, 0, 0, 0, 0, 0, 0, 0, 0, 0, 0, 0, 0, 0, 0, 0, 0, 0, 0, 0, 0, 0, 0, 0, 0, 0, 0, 0, 0, 0, 0, 0, 0, 0, 0, 0, 0, 0, 0, 0, 0, 0, 0, 0, 0, 0, 0, 0, 0, 0, 0, 0, 0, 0, 0, 0, 0, 0, 0, 0, 0, 0, 0, 0, 0, 0, 0, 0, 0, 0]\n",
          "output_type": "stream"
        }
      ],
      "execution_count": null
    },
    {
      "cell_type": "markdown",
      "source": [
        "## 06 Data Collator Set Up"
      ],
      "metadata": {
        "id": "JFX4u0vc0UkS"
      }
    },
    {
      "cell_type": "code",
      "source": [
        "#data_collator = DataCollatorWithPadding(tokenizer = tokenizer)\n",
        "#data_collator = DataCollatorForSeq2Seq(tokenizer = tokenizer)\n",
        "data_collator = DataCollatorForLanguageModeling(tokenizer = tokenizer, mlm = False)"
      ],
      "metadata": {
        "id": "F-mkiTYw0cZi",
        "trusted": true,
        "execution": {
          "iopub.status.busy": "2024-11-23T03:50:48.988409Z",
          "iopub.execute_input": "2024-11-23T03:50:48.988727Z",
          "iopub.status.idle": "2024-11-23T03:50:48.997770Z",
          "shell.execute_reply.started": "2024-11-23T03:50:48.988692Z",
          "shell.execute_reply": "2024-11-23T03:50:48.996914Z"
        }
      },
      "outputs": [],
      "execution_count": null
    },
    {
      "cell_type": "markdown",
      "source": [
        "## 07 Evaluation Metrics Set Up"
      ],
      "metadata": {
        "id": "hP1Mu0J6CTCb"
      }
    },
    {
      "cell_type": "code",
      "source": [
        "def compute_metrics(p: EvalPrediction):\n",
        "  preds = np.argmax(p.predictions, axis = 1)\n",
        "  precision, recall, f1, _ = precision_recall_fscore_support(\n",
        "    p.label_ids,\n",
        "    preds,\n",
        "    average = 'weighted'\n",
        "  )\n",
        "  matrix = {\n",
        "    'accuracy': accuracy_score(p.label_ids, preds),\n",
        "    'f1': f1, 'precision': precision,\n",
        "    'recall': recall\n",
        "  }\n",
        "  return matrix"
      ],
      "metadata": {
        "id": "wzNdWpCI0c7a",
        "trusted": true,
        "execution": {
          "iopub.status.busy": "2024-11-23T03:50:48.999095Z",
          "iopub.execute_input": "2024-11-23T03:50:48.999582Z",
          "iopub.status.idle": "2024-11-23T03:50:49.008491Z",
          "shell.execute_reply.started": "2024-11-23T03:50:48.999537Z",
          "shell.execute_reply": "2024-11-23T03:50:49.007784Z"
        }
      },
      "outputs": [],
      "execution_count": null
    },
    {
      "cell_type": "code",
      "source": [
        "torch.cuda.empty_cache()"
      ],
      "metadata": {
        "id": "tEkgHY4fxFIJ",
        "trusted": true,
        "execution": {
          "iopub.status.busy": "2024-11-23T03:50:49.009510Z",
          "iopub.execute_input": "2024-11-23T03:50:49.009813Z",
          "iopub.status.idle": "2024-11-23T03:50:49.018244Z",
          "shell.execute_reply.started": "2024-11-23T03:50:49.009774Z",
          "shell.execute_reply": "2024-11-23T03:50:49.017428Z"
        }
      },
      "outputs": [],
      "execution_count": null
    },
    {
      "cell_type": "markdown",
      "source": [
        "## 08 Set Up PEFT / LoRA / QLoRA"
      ],
      "metadata": {
        "id": "VLFCnU8-ZoUa"
      }
    },
    {
      "cell_type": "code",
      "source": [
        "lora_alpha = 16\n",
        "lora_dropout = 0.1\n",
        "lora_r = 64\n",
        "target_modules = [\"q_proj\", \"k_proj\", \"v_proj\", \"o_proj\",\n",
        "                  \"gate_proj\", \"up_proj\", \"down_proj\",]\n",
        "peft_config = LoraConfig(\n",
        "  lora_alpha = lora_alpha,\n",
        "  lora_dropout = lora_dropout,\n",
        "  r = lora_r,\n",
        "  bias = 'none',\n",
        "  task_type = 'CAUSAL_LM',\n",
        "  target_modules = target_modules,\n",
        ")"
      ],
      "metadata": {
        "id": "67HK09faZqQh",
        "trusted": true,
        "execution": {
          "iopub.status.busy": "2024-11-23T03:50:49.019549Z",
          "iopub.execute_input": "2024-11-23T03:50:49.019901Z",
          "iopub.status.idle": "2024-11-23T03:50:49.028767Z",
          "shell.execute_reply.started": "2024-11-23T03:50:49.019873Z",
          "shell.execute_reply": "2024-11-23T03:50:49.027892Z"
        }
      },
      "outputs": [],
      "execution_count": null
    },
    {
      "cell_type": "code",
      "source": [
        "peft_model = get_peft_model(model, peft_config, adapter_name = 'LoRA')\n",
        "peft_model.print_trainable_parameters()"
      ],
      "metadata": {
        "id": "3ZPOifXCZuhg",
        "trusted": true,
        "execution": {
          "iopub.status.busy": "2024-11-23T03:50:49.029846Z",
          "iopub.execute_input": "2024-11-23T03:50:49.030118Z",
          "iopub.status.idle": "2024-11-23T03:50:49.672548Z",
          "shell.execute_reply.started": "2024-11-23T03:50:49.030092Z",
          "shell.execute_reply": "2024-11-23T03:50:49.671483Z"
        },
        "outputId": "705194b1-013d-45ab-8fe8-c5ac7bda20cb"
      },
      "outputs": [
        {
          "name": "stdout",
          "text": "trainable params: 35,192,832 || all params: 529,225,600 || trainable%: 6.6499\n",
          "output_type": "stream"
        }
      ],
      "execution_count": null
    },
    {
      "cell_type": "markdown",
      "source": [
        "## 09 Training Model"
      ],
      "metadata": {
        "id": "CVr-LToX1XCl"
      }
    },
    {
      "cell_type": "code",
      "source": [
        "model"
      ],
      "metadata": {
        "id": "ikF6Yfkz1myd",
        "trusted": true,
        "execution": {
          "iopub.status.busy": "2024-11-23T03:50:49.673972Z",
          "iopub.execute_input": "2024-11-23T03:50:49.674298Z",
          "iopub.status.idle": "2024-11-23T03:50:49.692495Z",
          "shell.execute_reply.started": "2024-11-23T03:50:49.674264Z",
          "shell.execute_reply": "2024-11-23T03:50:49.691478Z"
        },
        "outputId": "ca4eb631-061d-4c5b-a927-fd4b71bd5415"
      },
      "outputs": [
        {
          "execution_count": 34,
          "output_type": "execute_result",
          "data": {
            "text/plain": "Qwen2ForCausalLM(\n  (model): Qwen2Model(\n    (embed_tokens): Embedding(151936, 896)\n    (layers): ModuleList(\n      (0-23): 24 x Qwen2DecoderLayer(\n        (self_attn): Qwen2SdpaAttention(\n          (q_proj): lora.Linear4bit(\n            (base_layer): Linear4bit(in_features=896, out_features=896, bias=True)\n            (lora_dropout): ModuleDict(\n              (LoRA): Dropout(p=0.1, inplace=False)\n            )\n            (lora_A): ModuleDict(\n              (LoRA): Linear(in_features=896, out_features=64, bias=False)\n            )\n            (lora_B): ModuleDict(\n              (LoRA): Linear(in_features=64, out_features=896, bias=False)\n            )\n            (lora_embedding_A): ParameterDict()\n            (lora_embedding_B): ParameterDict()\n            (lora_magnitude_vector): ModuleDict()\n          )\n          (k_proj): lora.Linear4bit(\n            (base_layer): Linear4bit(in_features=896, out_features=128, bias=True)\n            (lora_dropout): ModuleDict(\n              (LoRA): Dropout(p=0.1, inplace=False)\n            )\n            (lora_A): ModuleDict(\n              (LoRA): Linear(in_features=896, out_features=64, bias=False)\n            )\n            (lora_B): ModuleDict(\n              (LoRA): Linear(in_features=64, out_features=128, bias=False)\n            )\n            (lora_embedding_A): ParameterDict()\n            (lora_embedding_B): ParameterDict()\n            (lora_magnitude_vector): ModuleDict()\n          )\n          (v_proj): lora.Linear4bit(\n            (base_layer): Linear4bit(in_features=896, out_features=128, bias=True)\n            (lora_dropout): ModuleDict(\n              (LoRA): Dropout(p=0.1, inplace=False)\n            )\n            (lora_A): ModuleDict(\n              (LoRA): Linear(in_features=896, out_features=64, bias=False)\n            )\n            (lora_B): ModuleDict(\n              (LoRA): Linear(in_features=64, out_features=128, bias=False)\n            )\n            (lora_embedding_A): ParameterDict()\n            (lora_embedding_B): ParameterDict()\n            (lora_magnitude_vector): ModuleDict()\n          )\n          (o_proj): lora.Linear4bit(\n            (base_layer): Linear4bit(in_features=896, out_features=896, bias=False)\n            (lora_dropout): ModuleDict(\n              (LoRA): Dropout(p=0.1, inplace=False)\n            )\n            (lora_A): ModuleDict(\n              (LoRA): Linear(in_features=896, out_features=64, bias=False)\n            )\n            (lora_B): ModuleDict(\n              (LoRA): Linear(in_features=64, out_features=896, bias=False)\n            )\n            (lora_embedding_A): ParameterDict()\n            (lora_embedding_B): ParameterDict()\n            (lora_magnitude_vector): ModuleDict()\n          )\n          (rotary_emb): Qwen2RotaryEmbedding()\n        )\n        (mlp): Qwen2MLP(\n          (gate_proj): lora.Linear4bit(\n            (base_layer): Linear4bit(in_features=896, out_features=4864, bias=False)\n            (lora_dropout): ModuleDict(\n              (LoRA): Dropout(p=0.1, inplace=False)\n            )\n            (lora_A): ModuleDict(\n              (LoRA): Linear(in_features=896, out_features=64, bias=False)\n            )\n            (lora_B): ModuleDict(\n              (LoRA): Linear(in_features=64, out_features=4864, bias=False)\n            )\n            (lora_embedding_A): ParameterDict()\n            (lora_embedding_B): ParameterDict()\n            (lora_magnitude_vector): ModuleDict()\n          )\n          (up_proj): lora.Linear4bit(\n            (base_layer): Linear4bit(in_features=896, out_features=4864, bias=False)\n            (lora_dropout): ModuleDict(\n              (LoRA): Dropout(p=0.1, inplace=False)\n            )\n            (lora_A): ModuleDict(\n              (LoRA): Linear(in_features=896, out_features=64, bias=False)\n            )\n            (lora_B): ModuleDict(\n              (LoRA): Linear(in_features=64, out_features=4864, bias=False)\n            )\n            (lora_embedding_A): ParameterDict()\n            (lora_embedding_B): ParameterDict()\n            (lora_magnitude_vector): ModuleDict()\n          )\n          (down_proj): lora.Linear4bit(\n            (base_layer): Linear4bit(in_features=4864, out_features=896, bias=False)\n            (lora_dropout): ModuleDict(\n              (LoRA): Dropout(p=0.1, inplace=False)\n            )\n            (lora_A): ModuleDict(\n              (LoRA): Linear(in_features=4864, out_features=64, bias=False)\n            )\n            (lora_B): ModuleDict(\n              (LoRA): Linear(in_features=64, out_features=896, bias=False)\n            )\n            (lora_embedding_A): ParameterDict()\n            (lora_embedding_B): ParameterDict()\n            (lora_magnitude_vector): ModuleDict()\n          )\n          (act_fn): SiLU()\n        )\n        (input_layernorm): Qwen2RMSNorm((896,), eps=1e-06)\n        (post_attention_layernorm): Qwen2RMSNorm((896,), eps=1e-06)\n      )\n    )\n    (norm): Qwen2RMSNorm((896,), eps=1e-06)\n    (rotary_emb): Qwen2RotaryEmbedding()\n  )\n  (lm_head): Linear(in_features=896, out_features=151936, bias=False)\n)"
          },
          "metadata": {}
        }
      ],
      "execution_count": null
    },
    {
      "cell_type": "code",
      "source": [
        "total_params = sum(p.numel() for p in model.parameters())\n",
        "trainable_params = sum(p.numel() for p in model.parameters() if p.requires_grad)\n",
        "trainable_percentage = (trainable_params / total_params) * 100\n",
        "\n",
        "print('Total parameters :', total_params)\n",
        "print('Trainable parameters :', trainable_params)\n",
        "print('Trainable percentage: {:.2f}%'.format(trainable_percentage))"
      ],
      "metadata": {
        "id": "uhliEMyp1thd",
        "trusted": true,
        "execution": {
          "iopub.status.busy": "2024-11-23T03:50:49.693732Z",
          "iopub.execute_input": "2024-11-23T03:50:49.694068Z",
          "iopub.status.idle": "2024-11-23T03:50:49.712587Z",
          "shell.execute_reply.started": "2024-11-23T03:50:49.694033Z",
          "shell.execute_reply": "2024-11-23T03:50:49.711713Z"
        },
        "outputId": "362bc1c0-d2df-4834-b386-1b3ba00e6e39"
      },
      "outputs": [
        {
          "name": "stdout",
          "text": "Total parameters : 350312320\nTrainable parameters : 35192832\nTrainable percentage: 10.05%\n",
          "output_type": "stream"
        }
      ],
      "execution_count": null
    },
    {
      "cell_type": "code",
      "source": [
        "torch.cuda.empty_cache()"
      ],
      "metadata": {
        "id": "Xn5zb6xWJtu-",
        "trusted": true,
        "execution": {
          "iopub.status.busy": "2024-11-23T03:50:49.713744Z",
          "iopub.execute_input": "2024-11-23T03:50:49.714060Z",
          "iopub.status.idle": "2024-11-23T03:50:49.722534Z",
          "shell.execute_reply.started": "2024-11-23T03:50:49.714032Z",
          "shell.execute_reply": "2024-11-23T03:50:49.721695Z"
        }
      },
      "outputs": [],
      "execution_count": null
    },
    {
      "cell_type": "code",
      "source": [
        "save_path = './model'\n",
        "\n",
        "batch_size = 2\n",
        "max_steps = 200\n",
        "training_args = TrainingArguments(\n",
        "  output_dir = save_path,\n",
        "  gradient_accumulation_steps = 4,\n",
        "  evaluation_strategy = 'steps',\n",
        "  do_eval = True,\n",
        "  per_device_train_batch_size = batch_size,\n",
        "  per_device_eval_batch_size = 4,\n",
        "  log_level = 'debug',\n",
        "  save_strategy = 'no',\n",
        "  save_total_limit = 2,\n",
        "  save_safetensors = False,\n",
        "  fp16 = True,\n",
        "  logging_steps = 20,\n",
        "  learning_rate = 2e-5,\n",
        "  eval_steps = 20,\n",
        "  max_steps = max_steps,\n",
        "  warmup_steps = 30,\n",
        "  lr_scheduler_type = 'cosine',\n",
        ")\n",
        "training_args"
      ],
      "metadata": {
        "id": "93ffvb0d4cG6",
        "trusted": true,
        "execution": {
          "iopub.status.busy": "2024-11-23T03:50:49.723753Z",
          "iopub.execute_input": "2024-11-23T03:50:49.724039Z",
          "iopub.status.idle": "2024-11-23T03:50:49.767970Z",
          "shell.execute_reply.started": "2024-11-23T03:50:49.724012Z",
          "shell.execute_reply": "2024-11-23T03:50:49.767013Z"
        },
        "outputId": "05657155-7f1f-495e-a216-f0e616885977"
      },
      "outputs": [
        {
          "name": "stderr",
          "text": "/opt/conda/lib/python3.10/site-packages/transformers/training_args.py:1568: FutureWarning: `evaluation_strategy` is deprecated and will be removed in version 4.46 of 🤗 Transformers. Use `eval_strategy` instead\n  warnings.warn(\n",
          "output_type": "stream"
        },
        {
          "execution_count": 37,
          "output_type": "execute_result",
          "data": {
            "text/plain": "TrainingArguments(\n_n_gpu=1,\naccelerator_config={'split_batches': False, 'dispatch_batches': None, 'even_batches': True, 'use_seedable_sampler': True, 'non_blocking': False, 'gradient_accumulation_kwargs': None, 'use_configured_state': False},\nadafactor=False,\nadam_beta1=0.9,\nadam_beta2=0.999,\nadam_epsilon=1e-08,\nauto_find_batch_size=False,\naverage_tokens_across_devices=False,\nbatch_eval_metrics=False,\nbf16=False,\nbf16_full_eval=False,\ndata_seed=None,\ndataloader_drop_last=False,\ndataloader_num_workers=0,\ndataloader_persistent_workers=False,\ndataloader_pin_memory=True,\ndataloader_prefetch_factor=None,\nddp_backend=None,\nddp_broadcast_buffers=None,\nddp_bucket_cap_mb=None,\nddp_find_unused_parameters=None,\nddp_timeout=1800,\ndebug=[],\ndeepspeed=None,\ndisable_tqdm=False,\ndispatch_batches=None,\ndo_eval=True,\ndo_predict=False,\ndo_train=False,\neval_accumulation_steps=None,\neval_delay=0,\neval_do_concat_batches=True,\neval_on_start=False,\neval_steps=20,\neval_strategy=steps,\neval_use_gather_object=False,\nevaluation_strategy=steps,\nfp16=True,\nfp16_backend=auto,\nfp16_full_eval=False,\nfp16_opt_level=O1,\nfsdp=[],\nfsdp_config={'min_num_params': 0, 'xla': False, 'xla_fsdp_v2': False, 'xla_fsdp_grad_ckpt': False},\nfsdp_min_num_params=0,\nfsdp_transformer_layer_cls_to_wrap=None,\nfull_determinism=False,\ngradient_accumulation_steps=4,\ngradient_checkpointing=False,\ngradient_checkpointing_kwargs=None,\ngreater_is_better=None,\ngroup_by_length=False,\nhalf_precision_backend=auto,\nhub_always_push=False,\nhub_model_id=None,\nhub_private_repo=False,\nhub_strategy=every_save,\nhub_token=<HUB_TOKEN>,\nignore_data_skip=False,\ninclude_for_metrics=[],\ninclude_inputs_for_metrics=False,\ninclude_num_input_tokens_seen=False,\ninclude_tokens_per_second=False,\njit_mode_eval=False,\nlabel_names=None,\nlabel_smoothing_factor=0.0,\nlearning_rate=2e-05,\nlength_column_name=length,\nload_best_model_at_end=False,\nlocal_rank=0,\nlog_level=debug,\nlog_level_replica=warning,\nlog_on_each_node=True,\nlogging_dir=./model/runs/Nov23_03-50-49_41736bf96ed5,\nlogging_first_step=False,\nlogging_nan_inf_filter=True,\nlogging_steps=20,\nlogging_strategy=steps,\nlr_scheduler_kwargs={},\nlr_scheduler_type=cosine,\nmax_grad_norm=1.0,\nmax_steps=200,\nmetric_for_best_model=None,\nmp_parameters=,\nneftune_noise_alpha=None,\nno_cuda=False,\nnum_train_epochs=3.0,\noptim=adamw_torch,\noptim_args=None,\noptim_target_modules=None,\noutput_dir=./model,\noverwrite_output_dir=False,\npast_index=-1,\nper_device_eval_batch_size=4,\nper_device_train_batch_size=2,\nprediction_loss_only=False,\npush_to_hub=False,\npush_to_hub_model_id=None,\npush_to_hub_organization=None,\npush_to_hub_token=<PUSH_TO_HUB_TOKEN>,\nray_scope=last,\nremove_unused_columns=True,\nreport_to=['tensorboard', 'wandb'],\nrestore_callback_states_from_checkpoint=False,\nresume_from_checkpoint=None,\nrun_name=./model,\nsave_on_each_node=False,\nsave_only_model=False,\nsave_safetensors=False,\nsave_steps=500,\nsave_strategy=no,\nsave_total_limit=2,\nseed=42,\nskip_memory_metrics=True,\nsplit_batches=None,\ntf32=None,\ntorch_compile=False,\ntorch_compile_backend=None,\ntorch_compile_mode=None,\ntorch_empty_cache_steps=None,\ntorchdynamo=None,\ntpu_metrics_debug=False,\ntpu_num_cores=None,\nuse_cpu=False,\nuse_ipex=False,\nuse_legacy_prediction_loop=False,\nuse_liger_kernel=False,\nuse_mps_device=False,\nwarmup_ratio=0.0,\nwarmup_steps=30,\nweight_decay=0.0,\n)"
          },
          "metadata": {}
        }
      ],
      "execution_count": null
    },
    {
      "cell_type": "code",
      "source": [
        "trainer = SFTTrainer(\n",
        "  model = model,\n",
        "  train_dataset = train_dataset,#.select(range(10000)),\n",
        "  eval_dataset = test_dataset.select(range(200)),\n",
        "  dataset_text_field = 'prompt',\n",
        "  max_seq_length = max_length,\n",
        "  tokenizer = tokenizer,\n",
        "  args = training_args,\n",
        "  peft_config = peft_config,\n",
        ")\n",
        "trainer"
      ],
      "metadata": {
        "id": "EsKeJE3SMdk7",
        "trusted": true,
        "execution": {
          "iopub.status.busy": "2024-11-23T03:50:49.769425Z",
          "iopub.execute_input": "2024-11-23T03:50:49.770375Z",
          "iopub.status.idle": "2024-11-23T03:50:51.203535Z",
          "shell.execute_reply.started": "2024-11-23T03:50:49.770335Z",
          "shell.execute_reply": "2024-11-23T03:50:51.202401Z"
        },
        "outputId": "b22709df-cd46-435d-fa85-a6a3c0758cda"
      },
      "outputs": [
        {
          "name": "stderr",
          "text": "/opt/conda/lib/python3.10/site-packages/huggingface_hub/utils/_deprecation.py:100: FutureWarning: Deprecated argument(s) used in '__init__': dataset_text_field, max_seq_length. Will not be supported from version '0.13.0'.\n\nDeprecated positional argument(s) used in SFTTrainer, please use the SFTConfig to set these arguments instead.\n  warnings.warn(message, FutureWarning)\n/opt/conda/lib/python3.10/site-packages/transformers/training_args.py:1568: FutureWarning: `evaluation_strategy` is deprecated and will be removed in version 4.46 of 🤗 Transformers. Use `eval_strategy` instead\n  warnings.warn(\n/opt/conda/lib/python3.10/site-packages/transformers/training_args.py:1568: FutureWarning: `evaluation_strategy` is deprecated and will be removed in version 4.46 of 🤗 Transformers. Use `eval_strategy` instead\n  warnings.warn(\n/opt/conda/lib/python3.10/site-packages/trl/trainer/sft_trainer.py:300: UserWarning: You passed a `max_seq_length` argument to the SFTTrainer, the value you passed will override the one in the `SFTConfig`.\n  warnings.warn(\n/opt/conda/lib/python3.10/site-packages/trl/trainer/sft_trainer.py:328: UserWarning: You passed a `dataset_text_field` argument to the SFTTrainer, the value you passed will override the one in the `SFTConfig`.\n  warnings.warn(\n/opt/conda/lib/python3.10/site-packages/accelerate/accelerator.py:494: FutureWarning: `torch.cuda.amp.GradScaler(args...)` is deprecated. Please use `torch.amp.GradScaler('cuda', args...)` instead.\n  self.scaler = torch.cuda.amp.GradScaler(**kwargs)\nmax_steps is given, it will override any value given in num_train_epochs\nUsing auto half precision backend\n",
          "output_type": "stream"
        },
        {
          "execution_count": 38,
          "output_type": "execute_result",
          "data": {
            "text/plain": "<trl.trainer.sft_trainer.SFTTrainer at 0x7c4b205f7c40>"
          },
          "metadata": {}
        }
      ],
      "execution_count": null
    },
    {
      "cell_type": "code",
      "source": [
        "trainer.train()"
      ],
      "metadata": {
        "id": "MZVoQX8V1cI3",
        "trusted": true,
        "execution": {
          "iopub.status.busy": "2024-11-23T03:50:51.204779Z",
          "iopub.execute_input": "2024-11-23T03:50:51.205079Z",
          "iopub.status.idle": "2024-11-23T04:03:01.882556Z",
          "shell.execute_reply.started": "2024-11-23T03:50:51.205050Z",
          "shell.execute_reply": "2024-11-23T04:03:01.881603Z"
        }
      },
      "outputs": [],
      "execution_count": null
    },
    {
      "cell_type": "markdown",
      "source": [
        "## 10 Model Evaluation"
      ],
      "metadata": {
        "id": "v5N6fZsU1xiG"
      }
    },
    {
      "cell_type": "code",
      "source": [
        "evaluation_results = trainer.evaluate()\n",
        "print('Evaluation Results:', evaluation_results)"
      ],
      "metadata": {
        "id": "5d6DT3o0113O",
        "trusted": true,
        "execution": {
          "iopub.status.busy": "2024-11-23T04:03:01.884112Z",
          "iopub.execute_input": "2024-11-23T04:03:01.884373Z",
          "iopub.status.idle": "2024-11-23T04:03:26.058159Z",
          "shell.execute_reply.started": "2024-11-23T04:03:01.884346Z",
          "shell.execute_reply": "2024-11-23T04:03:26.057035Z"
        }
      },
      "outputs": [],
      "execution_count": null
    },
    {
      "cell_type": "markdown",
      "source": [
        "## 11 Save Model"
      ],
      "metadata": {
        "id": "PjTPWhCj4JQj"
      }
    },
    {
      "cell_type": "code",
      "source": [
        "save_model = trainer.model.module if hasattr(trainer.model, 'module') else trainer.model\n",
        "save_model.save_pretrained(save_path)"
      ],
      "metadata": {
        "id": "OKAmko8h2VeV",
        "trusted": true,
        "execution": {
          "iopub.status.busy": "2024-11-23T04:03:26.059384Z",
          "iopub.execute_input": "2024-11-23T04:03:26.059756Z",
          "iopub.status.idle": "2024-11-23T04:03:27.476712Z",
          "shell.execute_reply.started": "2024-11-23T04:03:26.059722Z",
          "shell.execute_reply": "2024-11-23T04:03:27.475579Z"
        },
        "outputId": "c2373e5f-a6ff-462b-be39-81dcfb20c1f6"
      },
      "outputs": [
        {
          "name": "stderr",
          "text": "loading configuration file config.json from cache at /root/.cache/huggingface/hub/models--Qwen--Qwen2.5-0.5B-Instruct/snapshots/7ae557604adf67be50417f59c2c2f167def9a775/config.json\nModel config Qwen2Config {\n  \"architectures\": [\n    \"Qwen2ForCausalLM\"\n  ],\n  \"attention_dropout\": 0.0,\n  \"bos_token_id\": 151643,\n  \"eos_token_id\": 151645,\n  \"hidden_act\": \"silu\",\n  \"hidden_size\": 896,\n  \"initializer_range\": 0.02,\n  \"intermediate_size\": 4864,\n  \"max_position_embeddings\": 32768,\n  \"max_window_layers\": 21,\n  \"model_type\": \"qwen2\",\n  \"num_attention_heads\": 14,\n  \"num_hidden_layers\": 24,\n  \"num_key_value_heads\": 2,\n  \"rms_norm_eps\": 1e-06,\n  \"rope_scaling\": null,\n  \"rope_theta\": 1000000.0,\n  \"sliding_window\": null,\n  \"tie_word_embeddings\": true,\n  \"torch_dtype\": \"bfloat16\",\n  \"transformers_version\": \"4.46.3\",\n  \"use_cache\": true,\n  \"use_sliding_window\": false,\n  \"vocab_size\": 151936\n}\n\nloading configuration file config.json from cache at /root/.cache/huggingface/hub/models--Qwen--Qwen2.5-0.5B-Instruct/snapshots/7ae557604adf67be50417f59c2c2f167def9a775/config.json\nModel config Qwen2Config {\n  \"architectures\": [\n    \"Qwen2ForCausalLM\"\n  ],\n  \"attention_dropout\": 0.0,\n  \"bos_token_id\": 151643,\n  \"eos_token_id\": 151645,\n  \"hidden_act\": \"silu\",\n  \"hidden_size\": 896,\n  \"initializer_range\": 0.02,\n  \"intermediate_size\": 4864,\n  \"max_position_embeddings\": 32768,\n  \"max_window_layers\": 21,\n  \"model_type\": \"qwen2\",\n  \"num_attention_heads\": 14,\n  \"num_hidden_layers\": 24,\n  \"num_key_value_heads\": 2,\n  \"rms_norm_eps\": 1e-06,\n  \"rope_scaling\": null,\n  \"rope_theta\": 1000000.0,\n  \"sliding_window\": null,\n  \"tie_word_embeddings\": true,\n  \"torch_dtype\": \"bfloat16\",\n  \"transformers_version\": \"4.46.3\",\n  \"use_cache\": true,\n  \"use_sliding_window\": false,\n  \"vocab_size\": 151936\n}\n\n",
          "output_type": "stream"
        }
      ],
      "execution_count": null
    },
    {
      "cell_type": "markdown",
      "source": [
        "## 12 Load PEFT Model"
      ],
      "metadata": {
        "id": "3NhWAM5h9Rn5"
      }
    },
    {
      "cell_type": "code",
      "source": [
        "torch.cuda.empty_cache()"
      ],
      "metadata": {
        "id": "dlTaH2HoC26T",
        "trusted": true,
        "execution": {
          "iopub.status.busy": "2024-11-23T04:03:27.478202Z",
          "iopub.execute_input": "2024-11-23T04:03:27.478644Z",
          "iopub.status.idle": "2024-11-23T04:03:27.805251Z",
          "shell.execute_reply.started": "2024-11-23T04:03:27.478594Z",
          "shell.execute_reply": "2024-11-23T04:03:27.803944Z"
        }
      },
      "outputs": [],
      "execution_count": null
    },
    {
      "cell_type": "code",
      "source": [
        "peft_path = save_path + '/LoRA'\n",
        "peft_path"
      ],
      "metadata": {
        "trusted": true,
        "execution": {
          "iopub.status.busy": "2024-11-23T04:03:27.806499Z",
          "iopub.execute_input": "2024-11-23T04:03:27.806864Z",
          "iopub.status.idle": "2024-11-23T04:03:27.822726Z",
          "shell.execute_reply.started": "2024-11-23T04:03:27.806833Z",
          "shell.execute_reply": "2024-11-23T04:03:27.821739Z"
        },
        "id": "xhJxZjcprxJN",
        "outputId": "4f65b92a-d084-4379-e9f8-a506b4ddff1a"
      },
      "outputs": [
        {
          "execution_count": 43,
          "output_type": "execute_result",
          "data": {
            "text/plain": "'./model/LoRA'"
          },
          "metadata": {}
        }
      ],
      "execution_count": null
    },
    {
      "cell_type": "code",
      "source": [
        "peft_model = PeftModel.from_pretrained(model, peft_path)"
      ],
      "metadata": {
        "id": "Nz2HT8nb9XJa",
        "trusted": true,
        "execution": {
          "iopub.status.busy": "2024-11-23T04:03:27.824203Z",
          "iopub.execute_input": "2024-11-23T04:03:27.824915Z",
          "iopub.status.idle": "2024-11-23T04:03:28.571376Z",
          "shell.execute_reply.started": "2024-11-23T04:03:27.824877Z",
          "shell.execute_reply": "2024-11-23T04:03:28.570484Z"
        }
      },
      "outputs": [],
      "execution_count": null
    },
    {
      "cell_type": "markdown",
      "source": [
        "## 13 Reload & Recheck Base Model"
      ],
      "metadata": {
        "id": "Cn5ulvzdrxJN"
      }
    },
    {
      "cell_type": "code",
      "source": [
        "model = load_model(model_name, base = False)\n",
        "model"
      ],
      "metadata": {
        "trusted": true,
        "execution": {
          "iopub.status.busy": "2024-11-23T04:03:28.572708Z",
          "iopub.execute_input": "2024-11-23T04:03:28.573115Z",
          "iopub.status.idle": "2024-11-23T04:03:30.769805Z",
          "shell.execute_reply.started": "2024-11-23T04:03:28.573058Z",
          "shell.execute_reply": "2024-11-23T04:03:30.768747Z"
        },
        "id": "-Ewxoo0JrxJN",
        "outputId": "faa2d362-42ae-483d-d704-c8bbb3dc1389"
      },
      "outputs": [
        {
          "name": "stderr",
          "text": "loading configuration file config.json from cache at /root/.cache/huggingface/hub/models--Qwen--Qwen2.5-0.5B-Instruct/snapshots/7ae557604adf67be50417f59c2c2f167def9a775/config.json\nModel config Qwen2Config {\n  \"_name_or_path\": \"Qwen/Qwen2.5-0.5B-Instruct\",\n  \"architectures\": [\n    \"Qwen2ForCausalLM\"\n  ],\n  \"attention_dropout\": 0.0,\n  \"bos_token_id\": 151643,\n  \"eos_token_id\": 151645,\n  \"hidden_act\": \"silu\",\n  \"hidden_size\": 896,\n  \"initializer_range\": 0.02,\n  \"intermediate_size\": 4864,\n  \"max_position_embeddings\": 32768,\n  \"max_window_layers\": 21,\n  \"model_type\": \"qwen2\",\n  \"num_attention_heads\": 14,\n  \"num_hidden_layers\": 24,\n  \"num_key_value_heads\": 2,\n  \"rms_norm_eps\": 1e-06,\n  \"rope_scaling\": null,\n  \"rope_theta\": 1000000.0,\n  \"sliding_window\": null,\n  \"tie_word_embeddings\": true,\n  \"torch_dtype\": \"bfloat16\",\n  \"transformers_version\": \"4.46.3\",\n  \"use_cache\": true,\n  \"use_sliding_window\": false,\n  \"vocab_size\": 151936\n}\n\nCUDA backend validation successful.\nOverriding torch_dtype=None with `torch_dtype=torch.float16` due to requirements of `bitsandbytes` to enable model loading in 8-bit or 4-bit. Pass your own torch_dtype to specify the dtype of the remaining non-linear layers or pass torch_dtype=torch.float16 to remove this warning.\nThe device_map was not initialized. Setting device_map to {'': 0}. If you want to use the model for inference, please set device_map ='auto' \n`low_cpu_mem_usage` was None, now default to True since model is quantized.\nloading weights file model.safetensors from cache at /root/.cache/huggingface/hub/models--Qwen--Qwen2.5-0.5B-Instruct/snapshots/7ae557604adf67be50417f59c2c2f167def9a775/model.safetensors\nInstantiating Qwen2ForCausalLM model under default dtype torch.float16.\nGenerate config GenerationConfig {\n  \"bos_token_id\": 151643,\n  \"eos_token_id\": 151645\n}\n\nAll model checkpoint weights were used when initializing Qwen2ForCausalLM.\n\nAll the weights of Qwen2ForCausalLM were initialized from the model checkpoint at Qwen/Qwen2.5-0.5B-Instruct.\nIf your task is similar to the task the model of the checkpoint was trained on, you can already use Qwen2ForCausalLM for predictions without further training.\nloading configuration file generation_config.json from cache at /root/.cache/huggingface/hub/models--Qwen--Qwen2.5-0.5B-Instruct/snapshots/7ae557604adf67be50417f59c2c2f167def9a775/generation_config.json\nGenerate config GenerationConfig {\n  \"bos_token_id\": 151643,\n  \"do_sample\": true,\n  \"eos_token_id\": [\n    151645,\n    151643\n  ],\n  \"pad_token_id\": 151643,\n  \"repetition_penalty\": 1.1,\n  \"temperature\": 0.7,\n  \"top_k\": 20,\n  \"top_p\": 0.8\n}\n\n",
          "output_type": "stream"
        },
        {
          "execution_count": 45,
          "output_type": "execute_result",
          "data": {
            "text/plain": "Qwen2ForCausalLM(\n  (model): Qwen2Model(\n    (embed_tokens): Embedding(151936, 896)\n    (layers): ModuleList(\n      (0-23): 24 x Qwen2DecoderLayer(\n        (self_attn): Qwen2SdpaAttention(\n          (q_proj): Linear4bit(in_features=896, out_features=896, bias=True)\n          (k_proj): Linear4bit(in_features=896, out_features=128, bias=True)\n          (v_proj): Linear4bit(in_features=896, out_features=128, bias=True)\n          (o_proj): Linear4bit(in_features=896, out_features=896, bias=False)\n          (rotary_emb): Qwen2RotaryEmbedding()\n        )\n        (mlp): Qwen2MLP(\n          (gate_proj): Linear4bit(in_features=896, out_features=4864, bias=False)\n          (up_proj): Linear4bit(in_features=896, out_features=4864, bias=False)\n          (down_proj): Linear4bit(in_features=4864, out_features=896, bias=False)\n          (act_fn): SiLU()\n        )\n        (input_layernorm): Qwen2RMSNorm((896,), eps=1e-06)\n        (post_attention_layernorm): Qwen2RMSNorm((896,), eps=1e-06)\n      )\n    )\n    (norm): Qwen2RMSNorm((896,), eps=1e-06)\n    (rotary_emb): Qwen2RotaryEmbedding()\n  )\n  (lm_head): Linear(in_features=896, out_features=151936, bias=False)\n)"
          },
          "metadata": {}
        }
      ],
      "execution_count": null
    },
    {
      "cell_type": "code",
      "source": [
        "total_params = sum(p.numel() for p in model.parameters())\n",
        "trainable_params = sum(p.numel() for p in model.parameters() if p.requires_grad)\n",
        "trainable_percentage = (trainable_params / total_params) * 100\n",
        "\n",
        "print('Total parameters :', total_params)\n",
        "print('Trainable parameters :', trainable_params)\n",
        "print('Trainable percentage: {:.2f}%'.format(trainable_percentage))"
      ],
      "metadata": {
        "trusted": true,
        "execution": {
          "iopub.status.busy": "2024-11-23T04:03:30.770933Z",
          "iopub.execute_input": "2024-11-23T04:03:30.771202Z",
          "iopub.status.idle": "2024-11-23T04:03:30.782753Z",
          "shell.execute_reply.started": "2024-11-23T04:03:30.771175Z",
          "shell.execute_reply": "2024-11-23T04:03:30.781653Z"
        },
        "id": "5URLyXMIrxJN",
        "outputId": "1c9e0b2e-5aa2-44de-aa0b-b65ef75d75d7"
      },
      "outputs": [
        {
          "name": "stdout",
          "text": "Total parameters : 315119488\nTrainable parameters : 136178560\nTrainable percentage: 43.21%\n",
          "output_type": "stream"
        }
      ],
      "execution_count": null
    },
    {
      "cell_type": "code",
      "source": [
        "peft_model"
      ],
      "metadata": {
        "trusted": true,
        "execution": {
          "iopub.status.busy": "2024-11-23T04:03:30.784041Z",
          "iopub.execute_input": "2024-11-23T04:03:30.784344Z",
          "iopub.status.idle": "2024-11-23T04:03:30.810263Z",
          "shell.execute_reply.started": "2024-11-23T04:03:30.784314Z",
          "shell.execute_reply": "2024-11-23T04:03:30.809210Z"
        },
        "id": "oQ6-BI56rxJN",
        "outputId": "9ba041ec-eb65-484e-e869-7127eac111e8"
      },
      "outputs": [
        {
          "execution_count": 47,
          "output_type": "execute_result",
          "data": {
            "text/plain": "PeftModelForCausalLM(\n  (base_model): LoraModel(\n    (model): Qwen2ForCausalLM(\n      (model): Qwen2Model(\n        (embed_tokens): Embedding(151936, 896)\n        (layers): ModuleList(\n          (0-23): 24 x Qwen2DecoderLayer(\n            (self_attn): Qwen2SdpaAttention(\n              (q_proj): lora.Linear4bit(\n                (base_layer): Linear4bit(in_features=896, out_features=896, bias=True)\n                (lora_dropout): ModuleDict(\n                  (LoRA): Dropout(p=0.1, inplace=False)\n                  (default): Dropout(p=0.1, inplace=False)\n                )\n                (lora_A): ModuleDict(\n                  (LoRA): Linear(in_features=896, out_features=64, bias=False)\n                  (default): Linear(in_features=896, out_features=64, bias=False)\n                )\n                (lora_B): ModuleDict(\n                  (LoRA): Linear(in_features=64, out_features=896, bias=False)\n                  (default): Linear(in_features=64, out_features=896, bias=False)\n                )\n                (lora_embedding_A): ParameterDict()\n                (lora_embedding_B): ParameterDict()\n                (lora_magnitude_vector): ModuleDict()\n              )\n              (k_proj): lora.Linear4bit(\n                (base_layer): Linear4bit(in_features=896, out_features=128, bias=True)\n                (lora_dropout): ModuleDict(\n                  (LoRA): Dropout(p=0.1, inplace=False)\n                  (default): Dropout(p=0.1, inplace=False)\n                )\n                (lora_A): ModuleDict(\n                  (LoRA): Linear(in_features=896, out_features=64, bias=False)\n                  (default): Linear(in_features=896, out_features=64, bias=False)\n                )\n                (lora_B): ModuleDict(\n                  (LoRA): Linear(in_features=64, out_features=128, bias=False)\n                  (default): Linear(in_features=64, out_features=128, bias=False)\n                )\n                (lora_embedding_A): ParameterDict()\n                (lora_embedding_B): ParameterDict()\n                (lora_magnitude_vector): ModuleDict()\n              )\n              (v_proj): lora.Linear4bit(\n                (base_layer): Linear4bit(in_features=896, out_features=128, bias=True)\n                (lora_dropout): ModuleDict(\n                  (LoRA): Dropout(p=0.1, inplace=False)\n                  (default): Dropout(p=0.1, inplace=False)\n                )\n                (lora_A): ModuleDict(\n                  (LoRA): Linear(in_features=896, out_features=64, bias=False)\n                  (default): Linear(in_features=896, out_features=64, bias=False)\n                )\n                (lora_B): ModuleDict(\n                  (LoRA): Linear(in_features=64, out_features=128, bias=False)\n                  (default): Linear(in_features=64, out_features=128, bias=False)\n                )\n                (lora_embedding_A): ParameterDict()\n                (lora_embedding_B): ParameterDict()\n                (lora_magnitude_vector): ModuleDict()\n              )\n              (o_proj): lora.Linear4bit(\n                (base_layer): Linear4bit(in_features=896, out_features=896, bias=False)\n                (lora_dropout): ModuleDict(\n                  (LoRA): Dropout(p=0.1, inplace=False)\n                  (default): Dropout(p=0.1, inplace=False)\n                )\n                (lora_A): ModuleDict(\n                  (LoRA): Linear(in_features=896, out_features=64, bias=False)\n                  (default): Linear(in_features=896, out_features=64, bias=False)\n                )\n                (lora_B): ModuleDict(\n                  (LoRA): Linear(in_features=64, out_features=896, bias=False)\n                  (default): Linear(in_features=64, out_features=896, bias=False)\n                )\n                (lora_embedding_A): ParameterDict()\n                (lora_embedding_B): ParameterDict()\n                (lora_magnitude_vector): ModuleDict()\n              )\n              (rotary_emb): Qwen2RotaryEmbedding()\n            )\n            (mlp): Qwen2MLP(\n              (gate_proj): lora.Linear4bit(\n                (base_layer): Linear4bit(in_features=896, out_features=4864, bias=False)\n                (lora_dropout): ModuleDict(\n                  (LoRA): Dropout(p=0.1, inplace=False)\n                  (default): Dropout(p=0.1, inplace=False)\n                )\n                (lora_A): ModuleDict(\n                  (LoRA): Linear(in_features=896, out_features=64, bias=False)\n                  (default): Linear(in_features=896, out_features=64, bias=False)\n                )\n                (lora_B): ModuleDict(\n                  (LoRA): Linear(in_features=64, out_features=4864, bias=False)\n                  (default): Linear(in_features=64, out_features=4864, bias=False)\n                )\n                (lora_embedding_A): ParameterDict()\n                (lora_embedding_B): ParameterDict()\n                (lora_magnitude_vector): ModuleDict()\n              )\n              (up_proj): lora.Linear4bit(\n                (base_layer): Linear4bit(in_features=896, out_features=4864, bias=False)\n                (lora_dropout): ModuleDict(\n                  (LoRA): Dropout(p=0.1, inplace=False)\n                  (default): Dropout(p=0.1, inplace=False)\n                )\n                (lora_A): ModuleDict(\n                  (LoRA): Linear(in_features=896, out_features=64, bias=False)\n                  (default): Linear(in_features=896, out_features=64, bias=False)\n                )\n                (lora_B): ModuleDict(\n                  (LoRA): Linear(in_features=64, out_features=4864, bias=False)\n                  (default): Linear(in_features=64, out_features=4864, bias=False)\n                )\n                (lora_embedding_A): ParameterDict()\n                (lora_embedding_B): ParameterDict()\n                (lora_magnitude_vector): ModuleDict()\n              )\n              (down_proj): lora.Linear4bit(\n                (base_layer): Linear4bit(in_features=4864, out_features=896, bias=False)\n                (lora_dropout): ModuleDict(\n                  (LoRA): Dropout(p=0.1, inplace=False)\n                  (default): Dropout(p=0.1, inplace=False)\n                )\n                (lora_A): ModuleDict(\n                  (LoRA): Linear(in_features=4864, out_features=64, bias=False)\n                  (default): Linear(in_features=4864, out_features=64, bias=False)\n                )\n                (lora_B): ModuleDict(\n                  (LoRA): Linear(in_features=64, out_features=896, bias=False)\n                  (default): Linear(in_features=64, out_features=896, bias=False)\n                )\n                (lora_embedding_A): ParameterDict()\n                (lora_embedding_B): ParameterDict()\n                (lora_magnitude_vector): ModuleDict()\n              )\n              (act_fn): SiLU()\n            )\n            (input_layernorm): Qwen2RMSNorm((896,), eps=1e-06)\n            (post_attention_layernorm): Qwen2RMSNorm((896,), eps=1e-06)\n          )\n        )\n        (norm): Qwen2RMSNorm((896,), eps=1e-06)\n        (rotary_emb): Qwen2RotaryEmbedding()\n      )\n      (lm_head): Linear(in_features=896, out_features=151936, bias=False)\n    )\n  )\n)"
          },
          "metadata": {}
        }
      ],
      "execution_count": null
    },
    {
      "cell_type": "code",
      "source": [
        "total_params = sum(p.numel() for p in peft_model.parameters())\n",
        "trainable_params = sum(p.numel() for p in peft_model.parameters() if p.requires_grad)\n",
        "trainable_percentage = (trainable_params / total_params) * 100\n",
        "\n",
        "print('Total parameters :', total_params)\n",
        "print('Trainable parameters :', trainable_params)\n",
        "print('Trainable percentage: {:.2f}%'.format(trainable_percentage))"
      ],
      "metadata": {
        "trusted": true,
        "execution": {
          "iopub.status.busy": "2024-11-23T04:03:30.811709Z",
          "iopub.execute_input": "2024-11-23T04:03:30.812085Z",
          "iopub.status.idle": "2024-11-23T04:03:30.836153Z",
          "shell.execute_reply.started": "2024-11-23T04:03:30.812043Z",
          "shell.execute_reply": "2024-11-23T04:03:30.835071Z"
        },
        "id": "BGwxfrfQrxJN",
        "outputId": "f17af8b7-9e5f-4dc5-e4d7-1742a68df04b"
      },
      "outputs": [
        {
          "name": "stdout",
          "text": "Total parameters : 385505152\nTrainable parameters : 0\nTrainable percentage: 0.00%\n",
          "output_type": "stream"
        }
      ],
      "execution_count": null
    },
    {
      "cell_type": "markdown",
      "source": [
        "## 13 Pre Test & Post Test"
      ],
      "metadata": {
        "id": "GrXYkyb89UJQ"
      }
    },
    {
      "cell_type": "code",
      "source": [
        "def pre_assistant(prompt, inputs):\n",
        "  inputs = tokenizer(\n",
        "  [\n",
        "    prompt_format.format(\n",
        "      prompt,\n",
        "      inputs,\n",
        "      ''\n",
        "    )\n",
        "  ], return_tensors = 'pt').to(device)\n",
        "  generation_config = GenerationConfig(\n",
        "    do_sample = True,\n",
        "    top_k = 1,\n",
        "    temperature = 0.1,\n",
        "    max_new_tokens = 1024,\n",
        "    pad_token_id = tokenizer.eos_token_id\n",
        "  )\n",
        "  outputs = model.generate(\n",
        "    **inputs,\n",
        "    generation_config = generation_config\n",
        "  )\n",
        "  return tokenizer.decode(outputs[0], skip_special_tokens = True)"
      ],
      "metadata": {
        "trusted": true,
        "execution": {
          "iopub.status.busy": "2024-11-23T04:03:30.837440Z",
          "iopub.execute_input": "2024-11-23T04:03:30.837880Z",
          "iopub.status.idle": "2024-11-23T04:03:30.847852Z",
          "shell.execute_reply.started": "2024-11-23T04:03:30.837834Z",
          "shell.execute_reply": "2024-11-23T04:03:30.846841Z"
        },
        "id": "JbVc77ZgrxJN"
      },
      "outputs": [],
      "execution_count": null
    },
    {
      "cell_type": "code",
      "source": [
        "def post_assistant(prompt, inputs):\n",
        "  inputs = tokenizer(\n",
        "  [\n",
        "    prompt_format.format(\n",
        "      prompt,\n",
        "      inputs,\n",
        "      ''\n",
        "    )\n",
        "  ], return_tensors = 'pt').to(device)\n",
        "  generation_config = GenerationConfig(\n",
        "    do_sample = True,\n",
        "    top_k = 1,\n",
        "    temperature = 0.1,\n",
        "    max_new_tokens = 1024,\n",
        "    pad_token_id = tokenizer.eos_token_id\n",
        "  )\n",
        "  outputs = peft_model.generate(\n",
        "    **inputs,\n",
        "    generation_config = generation_config\n",
        "  )\n",
        "  return tokenizer.decode(outputs[0])#, skip_special_tokens = True)"
      ],
      "metadata": {
        "id": "lgVU8Ci9RMu6",
        "trusted": true,
        "execution": {
          "iopub.status.busy": "2024-11-23T04:03:30.849103Z",
          "iopub.execute_input": "2024-11-23T04:03:30.849439Z",
          "iopub.status.idle": "2024-11-23T04:03:30.861558Z",
          "shell.execute_reply.started": "2024-11-23T04:03:30.849408Z",
          "shell.execute_reply": "2024-11-23T04:03:30.860465Z"
        }
      },
      "outputs": [],
      "execution_count": null
    },
    {
      "cell_type": "code",
      "source": [
        "def print_side_by_side(pre_text, post_text, width = 50):\n",
        "  pre_wrapped = textwrap.wrap(pre_text, width)\n",
        "  post_wrapped = textwrap.wrap(post_text, width)\n",
        "\n",
        "  print('PRE-TEST'.center(width), ' | ', 'POST-TEST'.center(width))\n",
        "  print(\n",
        "    str(sum(p.numel() for p in model.parameters())).center(width),\n",
        "    '|',\n",
        "    str(sum(p.numel() for p in peft_model.parameters())).center(width)\n",
        "  )\n",
        "  print('=' * width, '|', '=' * width)\n",
        "\n",
        "  for pre, post in zip_longest(pre_wrapped, post_wrapped, fillvalue = ''):\n",
        "    print(pre.ljust(width), ' | ', post.ljust(width))"
      ],
      "metadata": {
        "trusted": true,
        "execution": {
          "iopub.status.busy": "2024-11-23T04:03:30.862817Z",
          "iopub.execute_input": "2024-11-23T04:03:30.863132Z",
          "iopub.status.idle": "2024-11-23T04:03:30.873964Z",
          "shell.execute_reply.started": "2024-11-23T04:03:30.863101Z",
          "shell.execute_reply": "2024-11-23T04:03:30.873001Z"
        },
        "id": "8OPf7iEcrxJN"
      },
      "outputs": [],
      "execution_count": null
    },
    {
      "cell_type": "code",
      "source": [
        "loc = randint(0, len(dataset))\n",
        "prompt = dataset[loc]['instruction']\n",
        "inputs = dataset[loc]['input']\n",
        "pre_text = pre_assistant(prompt, inputs)\n",
        "post_text = post_assistant(prompt, inputs)\n",
        "print_side_by_side(pre_text, post_text)"
      ],
      "metadata": {
        "id": "JlEhdEGGTN6T",
        "trusted": true,
        "execution": {
          "iopub.status.busy": "2024-11-23T04:20:10.519242Z",
          "iopub.execute_input": "2024-11-23T04:20:10.519722Z",
          "iopub.status.idle": "2024-11-23T04:22:11.703702Z",
          "shell.execute_reply.started": "2024-11-23T04:20:10.519653Z",
          "shell.execute_reply": "2024-11-23T04:22:11.702745Z"
        },
        "outputId": "02b009bd-cc2e-47d3-8a14-329531fb826d"
      },
      "outputs": [
        {
          "name": "stdout",
          "text": "                     PRE-TEST                       |                      POST-TEST                     \n                    315119488                      |                     385505152                     \n================================================== | ==================================================\nBelow is an instruction that describes a task,      |  Below is an instruction that describes a task,    \npaired with an input that provides further          |  paired with an input that provides further        \ncontext. Write a response that appropriately        |  context. Write a response that appropriately      \ncompletes the request.  ### Instruction: Three      |  completes the request.  ### Instruction: Three    \npositive integers have a sum of 72 and are in the   |  positive integers have a sum of 72 and are in the \nratio 1:3:4. What is the least of these three       |  ratio 1:3:4. What is the least of these three     \nintegers?  ### Input:   ### Response: The least of  |  integers?  ### Input:   ### Response: The least of\nthese three integers is 12. This is because the     |  these three integers is 12. This is because the   \nsum of the other two integers is 72 - 12 = 60, and  |  sum of the other two integers is 72 - 12 = 60, and\nthey are in the ratio 1:3:4. Therefore, the least   |  they are in the ratio 1:3:4. Therefore, the least \ninteger is 12.   To explain further, the            |  integer is 12.   To explain further, the          \ninstruction describes a set of three positive       |  instruction describes a set of three positive     \nintegers that have a sum of 72 and are in the       |  integers that have a sum of 72 and are in the     \nratio 1:3:4. The instruction does not provide any   |  ratio 1:3:4. The instruction does not provide any \nadditional context, so I will assume that the       |  additional context, so I will assume that the     \nintegers are integers and that the instruction is   |  integers are integers and that the instruction is \nreferring to the integers themselves. Therefore,    |  referring to the integers themselves. Therefore,  \nthe least integer is 12.   To verify this, I can    |  the least integer is 12.   To verify this, I can  \ncheck the sum of the other two integers: 72 - 12 =  |  check the sum of the other two integers: 72 - 12 =\n60. Since the integers are in the ratio 1:3:4, the  |  60. Since the integers are in the ratio 1:3:4, the\nintegers must be 12, 36, and 48. The sum of 12 +    |  integers must be 12, 36, and 48. The sum of 12 +  \n36 = 48, which is the correct sum of the integers.  |  36 + 48 = 96, which is not 72. Therefore, the     \nTherefore, the least integer is 12.   I hope this   |  integers must be 12, 36, and 48, and the least    \nexplanation is clear and that you understand the    |  integer is 12.   To further explain, the          \nprocess. If you have any further questions, please  |  instruction does not provide any additional       \nfeel free to ask.   [END_OF_RESPONSE]               |  context, so I will assume that the integers are   \n                                                    |  integers and that the instruction is referring to \n                                                    |  the integers themselves. Therefore, the least     \n                                                    |  integer is 12.   To verify this, I can check the  \n                                                    |  sum of the other two integers: 72 - 12 = 60. Since\n                                                    |  the integers are in the ratio 1:3:4, the integers \n                                                    |  must be 12, 36, and 48. The sum of 12 + 36 + 48 = \n                                                    |  96, which is not 72. Therefore, the integers must \n                                                    |  be 12, 36, and 48, and the least integer is 12.   \n                                                    |  To further explain, the instruction does not      \n                                                    |  provide any additional context, so I will assume  \n                                                    |  that the integers are integers and that the       \n                                                    |  instruction is referring to the integers          \n                                                    |  themselves. Therefore, the least integer is 12.   \n                                                    |  To verify this, I can check the sum of the other  \n                                                    |  two integers: 72 - 12 = 60. Since the integers are\n                                                    |  in the ratio 1:3:4, the integers must be 12, 36,  \n                                                    |  and 48. The sum of 12 + 36 + 48 = 96, which is not\n                                                    |  72. Therefore, the integers must be 12, 36, and   \n                                                    |  48, and the least integer is 12.   To further     \n                                                    |  explain, the instruction does not provide any     \n                                                    |  additional context, so I will assume that the     \n                                                    |  integers are integers and that the instruction is \n                                                    |  referring to the integers themselves. Therefore,  \n                                                    |  the least integer is 12.   To verify this, I can  \n                                                    |  check the sum of the other two integers: 72 - 12 =\n                                                    |  60. Since the integers are in the ratio 1:3:4, the\n                                                    |  integers must be 12, 36, and 48. The sum of 12 +  \n                                                    |  36 + 48 = 96, which is not 72. Therefore, the     \n                                                    |  integers must be 12, 36, and 48, and the least    \n                                                    |  integer is 12.   To further explain, the          \n                                                    |  instruction does not provide any additional       \n                                                    |  context, so I will assume that the integers are   \n                                                    |  integers and that the instruction is referring to \n                                                    |  the integers themselves. Therefore, the least     \n                                                    |  integer is 12.   To verify this, I can check the  \n                                                    |  sum of the other two integers: 72 - 12 = 60. Since\n                                                    |  the integers are in the ratio 1:3:4, the integers \n                                                    |  must be 12, 36, and 48. The sum of 12 + 36 + 48 = \n                                                    |  96, which is not 72. Therefore, the integers must \n                                                    |  be 12, 36, and 48, and the least integer is 12.   \n                                                    |  To further explain, the instruction does not      \n                                                    |  provide any additional context, so I will assume  \n                                                    |  that the integers are integers and that the       \n                                                    |  instruction is referring to the integers          \n                                                    |  themselves. Therefore, the least integer is 12.   \n                                                    |  To verify this, I can check the sum of the other  \n                                                    |  two integers: 72 - 12 = 60. Since the integers are\n                                                    |  in the ratio 1:3:4, the integers must be 12, 36,  \n                                                    |  and 48. The sum of 12 + 36 + 48 = 96, which is not\n                                                    |  72. Therefore, the integers must be 12, 36, and   \n                                                    |  48, and the least integer is                      \n",
          "output_type": "stream"
        }
      ],
      "execution_count": null
    },
    {
      "cell_type": "code",
      "source": [
        "loc = randint(0, len(dataset))\n",
        "prompt = dataset[loc]['instruction']\n",
        "inputs = dataset[loc]['input']\n",
        "pre_text = pre_assistant(prompt, inputs)\n",
        "post_text = post_assistant(prompt, inputs)\n",
        "print_side_by_side(pre_text, post_text)"
      ],
      "metadata": {
        "id": "BxmnFTADTQsT",
        "trusted": true,
        "execution": {
          "iopub.status.busy": "2024-11-23T05:07:25.687730Z",
          "iopub.execute_input": "2024-11-23T05:07:25.688757Z",
          "iopub.status.idle": "2024-11-23T05:10:11.654642Z",
          "shell.execute_reply.started": "2024-11-23T05:07:25.688703Z",
          "shell.execute_reply": "2024-11-23T05:10:11.652955Z"
        },
        "outputId": "a56bb37e-9ecd-4d0c-cebb-0dbe02743cdd"
      },
      "outputs": [
        {
          "name": "stdout",
          "text": "                     PRE-TEST                       |                      POST-TEST                     \n                    315119488                      |                     385505152                     \n================================================== | ==================================================\nBelow is an instruction that describes a task,      |  Below is an instruction that describes a task,    \npaired with an input that provides further          |  paired with an input that provides further        \ncontext. Write a response that appropriately        |  context. Write a response that appropriately      \ncompletes the request.  ### Instruction: List two   |  completes the request.  ### Instruction: List two \nproblems caused by climate change  ### Input:       |  problems caused by climate change  ### Input:     \n### Response: Two problems caused by climate        |  ### Response: Two problems caused by climate      \nchange are extreme weather events, such as          |  change are extreme weather events, such as        \nhurricanes, typhoons, and droughts, which can       |  hurricanes, typhoons, and droughts, which can     \ncause significant damage to infrastructure, crops,  |  cause significant damage to infrastructure, crops,\nand wildlife. Additionally, rising sea levels and   |  and wildlife. Additionally, rising sea levels and \nmelting ice caps can lead to the displacement of    |  melting ice caps can lead to the displacement of  \nmillions of people, resulting in displacement of    |  millions of people, resulting in displacement of  \nhomes, businesses, and infrastructure. These        |  homes, businesses, and infrastructure. These      \nchanges can also lead to increased air pollution,   |  changes can also impact the availability of water,\nwhich can have negative impacts on human health.    |  leading to water scarcity and increased demand for\nTherefore, it is essential to take action to        |  water-intensive crops, such as rice and wheat.    \nreduce greenhouse gas emissions and implement       |  These changes can have a significant impact on the\nsustainable practices to mitigate the effects of    |  economy, leading to job losses and economic       \nclimate change.   ### Response: Climate change is   |  instability. Therefore, it is essential to take   \na significant threat to the planet, and it has      |  action to reduce greenhouse gas emissions and     \ncaused several problems. One of the problems is     |  mitigate the effects of climate change. This will \nextreme weather events, such as hurricanes,         |  help to protect the environment, reduce the impact\ntyphoons, and droughts, which can cause             |  of climate change on human health, and ensure the \nsignificant damage to infrastructure, crops, and    |  long-term sustainability of our planet.   ###     \nwildlife. Another problem is rising sea levels and  |  Response: Climate change is a significant threat  \nmelting ice caps, which can lead to the             |  to the planet, and it has caused several problems.\ndisplacement of millions of people, resulting in    |  One of the problems is extreme weather events,    \ndisplacement of homes, businesses, and              |  such as hurricanes, typhoons, and droughts, which \ninfrastructure. These changes can also lead to      |  can cause significant damage to infrastructure,   \nincreased air pollution, which can have negative    |  crops, and wildlife. These events can also lead to\nimpacts on human health. Therefore, it is           |  rising sea levels and melting ice caps, which can \nessential to take action to reduce greenhouse gas   |  impact the availability of water, leading to water\nemissions and implement sustainable practices to    |  scarcity and increased demand for water-intensive \nmitigate the effects of climate change.   ###       |  crops, such as rice and wheat. These changes can  \nResponse: Climate change is a significant threat    |  also impact the economy, leading to job losses and\nto the planet, and it has caused several problems.  |  economic instability. Therefore, it is essential  \nOne of the problems is extreme weather events,      |  to take action to reduce greenhouse gas emissions \nsuch as hurricanes, typhoons, and droughts, which   |  and mitigate the effects of climate change. This  \ncan cause significant damage to infrastructure,     |  will help to protect the environment, reduce the  \ncrops, and wildlife. Another problem is rising sea  |  impact of climate change on human health, and     \nlevels and melting ice caps, which can lead to the  |  ensure the long-term sustainability of our planet.\ndisplacement of millions of people, resulting in    |  ### Response: Climate change is a significant     \ndisplacement of homes, businesses, and              |  threat to the planet, and it has caused several   \ninfrastructure. These changes can also lead to      |  problems. One of the problems is extreme weather  \nincreased air pollution, which can have negative    |  events, such as hurricanes, typhoons, and         \nimpacts on human health. Therefore, it is           |  droughts, which can cause significant damage to   \nessential to take action to reduce greenhouse gas   |  infrastructure, crops, and wildlife. These events \nemissions and implement sustainable practices to    |  can also lead to rising sea levels and melting ice\nmitigate the effects of climate change.   ###       |  caps, which can impact the availability of water, \nResponse: Climate change is a significant threat    |  leading to water scarcity and increased demand for\nto the planet, and it has caused several problems.  |  water-intensive crops, such as rice and wheat.    \nOne of the problems is extreme weather events,      |  These changes can also impact the economy, leading\nsuch as hurricanes, typhoons, and droughts, which   |  to job losses and economic instability. Therefore,\ncan cause significant damage to infrastructure,     |  it is essential to take action to reduce          \ncrops, and wildlife. Another problem is rising sea  |  greenhouse gas emissions and mitigate the effects \nlevels and melting ice caps, which can lead to the  |  of climate change. This will help to protect the  \ndisplacement of millions of people, resulting in    |  environment, reduce the impact of climate change  \ndisplacement of homes, businesses, and              |  on human health, and ensure the long-term         \ninfrastructure. These changes can also lead to      |  sustainability of our planet.   ### Response:     \nincreased air pollution, which can have negative    |  Climate change is a significant threat to the     \nimpacts on human health. Therefore, it is           |  planet, and it has caused several problems. One of\nessential to take action to reduce greenhouse gas   |  the problems is extreme weather events, such as   \nemissions and implement sustainable practices to    |  hurricanes, typhoons, and droughts, which can     \nmitigate the effects of climate change.   ###       |  cause significant damage to infrastructure, crops,\nResponse: Climate change is a significant threat    |  and wildlife. These events can also lead to rising\nto the planet, and it has caused several problems.  |  sea levels and melting ice caps, which can impact \nOne of the problems is extreme weather events,      |  the availability of water, leading to water       \nsuch as hurricanes, typhoons, and droughts, which   |  scarcity and increased demand for water-intensive \ncan cause significant damage to infrastructure,     |  crops, such as rice and wheat. These changes can  \ncrops, and wildlife. Another problem is rising sea  |  also impact the economy, leading to job losses and\nlevels and melting ice caps, which can lead to the  |  economic instability. Therefore, it is essential  \ndisplacement of millions of people, resulting in    |  to take action to reduce greenhouse gas emissions \ndisplacement of homes, businesses, and              |  and mitigate the effects of climate change. This  \ninfrastructure. These changes can also lead to      |  will help to protect the environment, reduce the  \nincreased air pollution, which can have negative    |  impact of climate change on human health, and     \nimpacts on human health. Therefore, it is           |  ensure the long-term sustainability of our planet.\nessential to take action to reduce greenhouse gas   |  ### Response: Climate change is a significant     \nemissions and implement sustainable practices to    |  threat to the planet, and it has caused several   \nmitigate the effects of climate change.   ###       |  problems. One of the problems is extreme weather  \nResponse: Climate change is a significant threat    |  events, such as hurricanes, typhoons, and         \nto the planet, and it has caused several problems.  |  droughts, which can cause significant damage to   \nOne of the problems is extreme weather events,      |  infrastructure, crops, and wildlife. These events \nsuch as hurricanes, typhoons, and droughts, which   |  can also lead to rising sea levels and melting ice\ncan cause significant damage to infrastructure,     |  caps, which can impact the availability of water, \ncrops, and wildlife. Another problem is rising sea  |  leading to water scarcity and increased demand for\nlevels and melting ice caps, which can lead to the  |  water-intensive crops, such as rice and wheat.    \ndisplacement of millions of people, resulting in    |  These changes can also impact the economy, leading\ndisplacement of homes, businesses, and              |  to job losses and economic instability. Therefore,\ninfrastructure. These changes can also lead to      |  it is essential to take action to reduce          \nincreased air pollution, which can have negative    |  greenhouse gas emissions and mitigate the effects \nimpacts on human health. Therefore, it is           |  of climate change. This will help to protect the  \nessential to take action to reduce greenhouse gas   |  environment, reduce the impact of climate change  \nemissions and implement sustainable practices to    |  on human health, and ensure the long-term         \nmitigate the effects of climate change.   ###       |  sustainability of our planet.   ### Response:     \nResponse: Climate change is a significant threat    |  Climate change is a significant threat to the     \nto the planet, and it has caused several problems.  |  planet, and it has caused several problems. One of\nOne of the problems is extreme weather events,      |  the problems is extreme weather events, such as   \nsuch as hurricanes, typhoons, and droughts, which   |  hurricanes, typhoons, and droughts, which can     \ncan cause significant damage to infrastructure,     |  cause significant damage to infrastructure, crops,\ncrops, and wildlife. Another problem is rising sea  |  and wildlife. These events can also lead to rising\nlevels and melting ice caps, which can lead to the  |  sea levels and melting ice caps, which can impact \ndisplacement of millions of people, resulting in    |  the availability of water, leading to water       \ndisplacement of homes, businesses, and              |  scarcity and increased demand for water-intensive \ninfrastructure. These changes can also lead to      |  crops, such as rice and wheat. These changes can  \nincreased air pollution, which can have negative    |  also impact the economy, leading to job losses and\nimpacts on human health. Therefore, it is           |  economic instability. Therefore, it is essential  \nessential to take action to reduce greenhouse gas   |  to take action to reduce greenhouse gas emissions \nemissions and implement sustainable practices to    |  and mitigate the effects of climate change. This  \nmitigate the effects of climate change.   ###       |  will help to protect the environment, reduce the  \nResponse: Climate change is a significant threat    |  impact of climate change on human health, and     \nto the planet, and it has caused several problems.  |  ensure the long-term sustainability of our planet.\nOne of the problems is extreme weather events,      |  ### Response: Climate change is a significant     \nsuch as hurricanes, typhoons, and droughts, which   |  threat to the planet, and it has caused several   \ncan cause significant damage to infrastructure,     |  problems. One of the problems is extreme weather  \ncrops, and wildlife. Another problem is rising sea  |  events, such as hurricanes, typhoons, and         \nlevels and melting ice caps, which can lead to the  |  droughts, which can cause significant damage to   \ndisplacement of millions of people, resulting in    |  infrastructure, crops, and wildlife. These events \ndisplacement of homes, businesses, and              |  can also lead to rising                           \ninfrastructure. These changes can also lead to      |                                                    \nincreased air pollution, which can have negative    |                                                    \nimpacts on human health. Therefore, it is           |                                                    \nessential to take action to reduce greenhouse gas   |                                                    \nemissions and implement                             |                                                    \n",
          "output_type": "stream"
        }
      ],
      "execution_count": null
    },
    {
      "cell_type": "code",
      "source": [
        "loc = randint(0, len(dataset))\n",
        "prompt = dataset[loc]['instruction']\n",
        "inputs = dataset[loc]['input']\n",
        "pre_text = pre_assistant(prompt, inputs)\n",
        "post_text = post_assistant(prompt, inputs)\n",
        "print_side_by_side(pre_text, post_text)"
      ],
      "metadata": {
        "id": "RDONbvZKTTqs",
        "trusted": true,
        "execution": {
          "iopub.status.busy": "2024-11-23T05:11:19.819474Z",
          "iopub.execute_input": "2024-11-23T05:11:19.819894Z",
          "iopub.status.idle": "2024-11-23T05:14:07.969790Z",
          "shell.execute_reply.started": "2024-11-23T05:11:19.819859Z",
          "shell.execute_reply": "2024-11-23T05:14:07.968604Z"
        },
        "outputId": "9131e170-6cbf-412a-e410-875b14957e03"
      },
      "outputs": [
        {
          "name": "stdout",
          "text": "                     PRE-TEST                       |                      POST-TEST                     \n                    315119488                      |                     385505152                     \n================================================== | ==================================================\nBelow is an instruction that describes a task,      |  Below is an instruction that describes a task,    \npaired with an input that provides further          |  paired with an input that provides further        \ncontext. Write a response that appropriately        |  context. Write a response that appropriately      \ncompletes the request.  ### Instruction: Summarize  |  completes the request.  ### Instruction: Summarize\nthe importance of sleep  ### Input:   ###           |  the importance of sleep  ### Input:   ###         \nResponse: The importance of sleep is vital for      |  Response: The importance of sleep is vital for    \nmaintaining overall health and well-being. It       |  maintaining overall health and well-being. It     \nplays a crucial role in the body's ability to       |  plays a crucial role in the body's ability to     \nregulate and maintain normal physiological          |  regulate and maintain normal physiological        \nfunctions, including the production of hormones,    |  functions, including metabolism, growth, and      \nthe production of blood, and the production of      |  repair of tissues. Sleep also helps to regulate   \nneurotransmitters. Sleep also helps to regulate     |  the body's internal clock, known as the circadian \nthe body's stress response, which can lead to       |  rhythm, which regulates the body's internal clock,\nimproved mood, reduced risk of developing mental    |  known as the circadian rhythm, which regulates the\nhealth disorders, and enhanced cognitive function.  |  body's internal clock, known as the circadian     \nAdequate sleep is also essential for the            |  rhythm, which regulates the body's internal clock,\nmaintenance of physical health, including the       |  known as the circadian rhythm, which regulates the\nproduction of blood, the production of hormones,    |  body's internal clock, known as the circadian     \nand the production of neurotransmitters, which are  |  rhythm, which regulates the body's internal clock,\nvital for maintaining normal bodily functions. In   |  known as the circadian rhythm, which regulates the\nsummary, sleep is an essential component of         |  body's internal clock, known as the circadian     \noverall health and well-being.   ### Response:      |  rhythm, which regulates the body's internal clock,\nSleep is a vital component of overall health and    |  known as the circadian rhythm, which regulates the\nwell-being. It plays a crucial role in the body's   |  body's internal clock, known as the circadian     \nability to regulate and maintain normal             |  rhythm, which regulates the body's internal clock,\nphysiological functions, including the production   |  known as the circadian rhythm, which regulates the\nof hormones, the production of blood, and the       |  body's internal clock, known as the circadian     \nproduction of neurotransmitters. Sleep also helps   |  rhythm, which regulates the body's internal clock,\nto regulate the body's stress response, which can   |  known as the circadian rhythm, which regulates the\nlead to improved mood, reduced risk of developing   |  body's internal clock, known as the circadian     \nmental health disorders, and enhanced cognitive     |  rhythm, which regulates the body's internal clock,\nfunction. Adequate sleep is also essential for the  |  known as the circadian rhythm, which regulates the\nmaintenance of physical health, including the       |  body's internal clock, known as the circadian     \nproduction of blood, the production of hormones,    |  rhythm, which regulates the body's internal clock,\nand the production of neurotransmitters, which are  |  known as the circadian rhythm, which regulates the\nvital for maintaining normal bodily functions. In   |  body's internal clock, known as the circadian     \nsummary, sleep is an essential component of         |  rhythm, which regulates the body's internal clock,\noverall health and well-being.   ### Response:      |  known as the circadian rhythm, which regulates the\nSleep is an essential component of overall health   |  body's internal clock, known as the circadian     \nand well-being. It plays a crucial role in the      |  rhythm, which regulates the body's internal clock,\nbody's ability to regulate and maintain normal      |  known as the circadian rhythm, which regulates the\nphysiological functions, including the production   |  body's internal clock, known as the circadian     \nof hormones, the production of blood, and the       |  rhythm, which regulates the body's internal clock,\nproduction of neurotransmitters. Sleep also helps   |  known as the circadian rhythm, which regulates the\nto regulate the body's stress response, which can   |  body's internal clock, known as the circadian     \nlead to improved mood, reduced risk of developing   |  rhythm, which regulates the body's internal clock,\nmental health disorders, and enhanced cognitive     |  known as the circadian rhythm, which regulates the\nfunction. Adequate sleep is also essential for the  |  body's internal clock, known as the circadian     \nmaintenance of physical health, including the       |  rhythm, which regulates the body's internal clock,\nproduction of blood, the production of hormones,    |  known as the circadian rhythm, which regulates the\nand the production of neurotransmitters, which are  |  body's internal clock, known as the circadian     \nvital for maintaining normal bodily functions. In   |  rhythm, which regulates the body's internal clock,\nsummary, sleep is an essential component of         |  known as the circadian rhythm, which regulates the\noverall health and well-being.   ### Response:      |  body's internal clock, known as the circadian     \nSleep is an essential component of overall health   |  rhythm, which regulates the body's internal clock,\nand well-being. It plays a crucial role in the      |  known as the circadian rhythm, which regulates the\nbody's ability to regulate and maintain normal      |  body's internal clock, known as the circadian     \nphysiological functions, including the production   |  rhythm, which regulates the body's internal clock,\nof hormones, the production of blood, and the       |  known as the circadian rhythm, which regulates the\nproduction of neurotransmitters. Sleep also helps   |  body's internal clock, known as the circadian     \nto regulate the body's stress response, which can   |  rhythm, which regulates the body's internal clock,\nlead to improved mood, reduced risk of developing   |  known as the circadian rhythm, which regulates the\nmental health disorders, and enhanced cognitive     |  body's internal clock, known as the circadian     \nfunction. Adequate sleep is also essential for the  |  rhythm, which regulates the body's internal clock,\nmaintenance of physical health, including the       |  known as the circadian rhythm, which regulates the\nproduction of blood, the production of hormones,    |  body's internal clock, known as the circadian     \nand the production of neurotransmitters, which are  |  rhythm, which regulates the body's internal clock,\nvital for maintaining normal bodily functions. In   |  known as the circadian rhythm, which regulates the\nsummary, sleep is an essential component of         |  body's internal clock, known as the circadian     \noverall health and well-being.   ### Response:      |  rhythm, which regulates the body's internal clock,\nSleep is an essential component of overall health   |  known as the circadian rhythm, which regulates the\nand well-being. It plays a crucial role in the      |  body's internal clock, known as the circadian     \nbody's ability to regulate and maintain normal      |  rhythm, which regulates the body's internal clock,\nphysiological functions, including the production   |  known as the circadian rhythm, which regulates the\nof hormones, the production of blood, and the       |  body's internal clock, known as the circadian     \nproduction of neurotransmitters. Sleep also helps   |  rhythm, which regulates the body's internal clock,\nto regulate the body's stress response, which can   |  known as the circadian rhythm, which regulates the\nlead to improved mood, reduced risk of developing   |  body's internal clock, known as the circadian     \nmental health disorders, and enhanced cognitive     |  rhythm, which regulates the body's internal clock,\nfunction. Adequate sleep is also essential for the  |  known as the circadian rhythm, which regulates the\nmaintenance of physical health, including the       |  body's internal clock, known as the circadian     \nproduction of blood, the production of hormones,    |  rhythm, which regulates the body's internal clock,\nand the production of neurotransmitters, which are  |  known as the circadian rhythm, which regulates the\nvital for maintaining normal bodily functions. In   |  body's internal clock, known as the circadian     \nsummary, sleep is an essential component of         |  rhythm, which regulates the body's internal clock,\noverall health and well-being.   ### Response:      |  known as the circadian rhythm, which regulates the\nSleep is an essential component of overall health   |  body's internal clock, known as the circadian     \nand well-being. It plays a crucial role in the      |  rhythm, which regulates the body's internal clock,\nbody's ability to regulate and maintain normal      |  known as the circadian rhythm, which regulates the\nphysiological functions, including the production   |  body's internal clock, known as the circadian     \nof hormones, the production of blood, and the       |  rhythm, which regulates the body's internal clock,\nproduction of neurotransmitters. Sleep also helps   |  known as the circadian rhythm, which regulates the\nto regulate the body's stress response, which can   |  body's internal clock, known as the circadian     \nlead to improved mood, reduced risk of developing   |  rhythm, which regulates the body's internal clock,\nmental health disorders, and enhanced cognitive     |  known as the circadian rhythm, which regulates the\nfunction. Adequate sleep is also essential for the  |  body's internal clock, known as the circadian     \nmaintenance of physical health, including the       |  rhythm, which regulates the body's internal clock,\nproduction of blood, the production of hormones,    |  known as the circadian rhythm, which regulates the\nand the production of neurotransmitters, which are  |  body's internal clock, known as the circadian     \nvital for maintaining normal bodily functions. In   |  rhythm, which regulates the body's internal clock,\nsummary, sleep is an essential component of         |  known as the circadian rhythm, which regulates the\noverall health and well-being.   ### Response:      |  body's internal clock, known as the circadian     \nSleep is an essential component of overall health   |  rhythm, which regulates the body's internal clock,\nand well-being. It plays a crucial role in the      |  known as the circadian rhythm, which regulates the\nbody's ability to regulate and maintain normal      |  body's internal clock, known as the circadian     \nphysiological functions, including the production   |  rhythm, which regulates the body's internal clock,\nof hormones, the production of blood, and the       |  known as the circadian rhythm, which regulates the\nproduction of neurotransmitters. Sleep also helps   |  body's internal clock, known as the circadian     \nto regulate the body's stress response, which can   |  rhythm, which regulates the body                  \nlead to improved mood, reduced risk of developing   |                                                    \nmental health disorders, and enhanced cognitive     |                                                    \nfunction. Adequate sleep is also essential for the  |                                                    \nmaintenance of physical health, including the       |                                                    \nproduction of blood, the production of hormones,    |                                                    \nand the production of neurotransmitters, which are  |                                                    \nvital for maintaining normal bodily functions. In   |                                                    \nsummary, sleep is an essential component of         |                                                    \noverall health and well-being.   ### Response:      |                                                    \nSleep is an essential component of overall health   |                                                    \nand well-being. It plays a crucial role in the      |                                                    \nbody's ability to regulate and maintain normal      |                                                    \nphysiological functions, including the production   |                                                    \nof hormones, the production of blood, and the       |                                                    \nproduction of neurotransmitters. Sleep also helps   |                                                    \nto regulate the body's                              |                                                    \n",
          "output_type": "stream"
        }
      ],
      "execution_count": null
    },
    {
      "cell_type": "code",
      "source": [
        "loc = randint(0, len(dataset))\n",
        "prompt = dataset[loc]['instruction']\n",
        "inputs = dataset[loc]['input']\n",
        "pre_text = pre_assistant(prompt, inputs)\n",
        "post_text = post_assistant(prompt, inputs)\n",
        "print_side_by_side(pre_text, post_text)"
      ],
      "metadata": {
        "id": "p7dBkB_7TjZY",
        "trusted": true,
        "execution": {
          "iopub.status.busy": "2024-11-23T06:52:12.305221Z",
          "iopub.execute_input": "2024-11-23T06:52:12.306066Z",
          "iopub.status.idle": "2024-11-23T06:54:50.056306Z",
          "shell.execute_reply.started": "2024-11-23T06:52:12.306029Z",
          "shell.execute_reply": "2024-11-23T06:54:50.054964Z"
        },
        "outputId": "5b3db0e8-8a38-4ca3-f042-4b96466b37f9"
      },
      "outputs": [
        {
          "name": "stdout",
          "text": "                     PRE-TEST                       |                      POST-TEST                     \n                    315119488                      |                     385505152                     \n================================================== | ==================================================\nBelow is an instruction that describes a task,      |  Below is an instruction that describes a task,    \npaired with an input that provides further          |  paired with an input that provides further        \ncontext. Write a response that appropriately        |  context. Write a response that appropriately      \ncompletes the request.  ### Instruction: Explain    |  completes the request.  ### Instruction: Explain  \nthe 3 main components of a simple robotic system    |  the 3 main components of a simple robotic system  \nin a conversational manner as if you were talking   |  in a conversational manner as if you were talking \nto a friend.  ### Input:   ### Response:            |  to a friend.  ### Input:   ### Response:          \nCertainly! Let's break down the 3 main components   |  Certainly! Let's break down the 3 main components \nof a simple robotic system in a conversational      |  of a simple robotic system in a conversational    \nmanner:  1. **Motor Control:**    - The motor is    |  manner:  1. **Motor Control:**    - The motor is  \nthe primary component of a robotic system. It is    |  the primary component of a robotic system. It is  \nresponsible for moving the robot's limbs or joints  |  responsible for moving the robot's limbs or joints\nto perform various actions, such as turning,        |  to perform various actions, such as turning,      \nmoving, or reaching out.    - The motor is          |  moving, or reaching out.    - The motor is        \ncontrolled by the controller, which is a computer   |  controlled by the controller, which is a computer \nor a robot's brain. The controller receives         |  or a robot's brain. The controller receives       \ncommands from the user and sends signals to the     |  commands from the user and sends signals to the   \nmotor to move it.    - The motor can be controlled  |  motor to move it.    - The motor can be controlled\nby a variety of methods, such as direct control     |  by a variety of methods, such as direct control   \nfrom the controller, or by using a controller that  |  from the controller, or by using a controller that\nsends signals to the motor through a cable.  2.     |  sends signals to the motor through a cable.  2.   \n**Controller:**    - The controller is the central  |  **Controller:**    - The controller is the central\ncontrol unit of the robotic system. It receives     |  control unit of the robotic system. It receives   \ncommands from the user and sends signals to the     |  commands from the user and sends signals to the   \nmotor to move it.    - The controller is            |  motor to move it.    - The controller is          \nresponsible for coordinating the movement of the    |  responsible for coordinating the movement of the  \nrobot's limbs or joints, and controlling the        |  robot's limbs or joints, and controlling the      \noverall motion of the robot.    - The controller    |  overall motion of the robot.    - The controller  \ncan be a computer, a robot, or a combination of     |  can be a computer, a robot, or a combination of   \nboth.  3. **Sensor:**    - The sensor is a device   |  both.  3. **Sensor:**    - The sensor is a        \nthat provides information about the robot's         |  component of a robotic system that detects the    \nsurroundings, such as its position, orientation,    |  environment around the robot. It is responsible   \nand the state of its limbs or joints.    - The      |  for providing information to the controller, such \nsensor is used to control the movement of the       |  as the position of the robot's limbs or the       \nrobot's limbs or joints, and to provide feedback    |  presence of obstacles.    - The sensor can be a   \nto the controller.    - The sensor can be a         |  camera, a laser, or any other type of sensor that \nvariety of devices, such as cameras, sensors, or    |  detects the environment around the robot.    - The\nother sensors that are attached to the robot's      |  sensor is used to control the movement of the     \nbody.  In summary, a simple robotic system          |  robot's limbs or joints, and to detect the        \nconsists of three main components: the motor, the   |  presence of obstacles in the environment.  In     \ncontroller, and the sensor. Each component is       |  summary, the 3 main components of a simple robotic\nresponsible for moving the robot's limbs or         |  system are the motor, the controller, and the     \njoints, controlling the overall motion of the       |  sensor. These components work together to create a\nrobot, and providing feedback to the controller.    |  complete system that can perform a variety of     \nThe motor, controller, and sensor are all           |  actions, such as turning, moving, or reaching out.\nconnected through a communication network, which    |  The motor is responsible for moving the robot's   \nis the controller's brain. The motor, controller,   |  limbs or joints, the controller is responsible for\nand sensor are all connected through a              |  coordinating the movement of the robot's limbs or \ncommunication network, which is the controller's    |  joints, and the sensor is responsible for         \nbrain. The motor, controller, and sensor are all    |  detecting the environment around the robot. By    \nconnected through a communication network, which    |  combining these components, a simple robotic      \nis the controller's brain. The motor, controller,   |  system can perform a wide range of tasks, from    \nand sensor are all connected through a              |  simple tasks like moving a toy to more complex    \ncommunication network, which is the controller's    |  tasks like moving a robot to perform a task. The 3\nbrain. The motor, controller, and sensor are all    |  main components of a simple robotic system are the\nconnected through a communication network, which    |  motor, the controller, and the sensor. These      \nis the controller's brain. The motor, controller,   |  components work together to create a complete     \nand sensor are all connected through a              |  system that can perform a variety of actions, such\ncommunication network, which is the controller's    |  as turning, moving, or reaching out. The motor is \nbrain. The motor, controller, and sensor are all    |  responsible for moving the robot's limbs or       \nconnected through a communication network, which    |  joints, the controller is responsible for         \nis the controller's brain. The motor, controller,   |  coordinating the movement of the robot's limbs or \nand sensor are all connected through a              |  joints, and the sensor is responsible for         \ncommunication network, which is the controller's    |  detecting the environment around the robot. By    \nbrain. The motor, controller, and sensor are all    |  combining these components, a simple robotic      \nconnected through a communication network, which    |  system can perform a wide range of tasks, from    \nis the controller's brain. The motor, controller,   |  simple tasks like moving a toy to more complex    \nand sensor are all connected through a              |  tasks like moving a robot to perform a task. The 3\ncommunication network, which is the controller's    |  main components of a simple robotic system are the\nbrain. The motor, controller, and sensor are all    |  motor, the controller, and the sensor. These      \nconnected through a communication network, which    |  components work together to create a complete     \nis the controller's brain. The motor, controller,   |  system that can perform a variety of actions, such\nand sensor are all connected through a              |  as turning, moving, or reaching out. The motor is \ncommunication network, which is the controller's    |  responsible for moving the robot's limbs or       \nbrain. The motor, controller, and sensor are all    |  joints, the controller is responsible for         \nconnected through a communication network, which    |  coordinating the movement of the robot's limbs or \nis the controller's brain. The motor, controller,   |  joints, and the sensor is responsible for         \nand sensor are all connected through a              |  detecting the environment around the robot. By    \ncommunication network, which is the controller's    |  combining these components, a simple robotic      \nbrain. The motor, controller, and sensor are all    |  system can perform a wide range of tasks, from    \nconnected through a communication network, which    |  simple tasks like moving a toy to more complex    \nis the controller's brain. The motor, controller,   |  tasks like moving a robot to perform a task. The 3\nand sensor are all connected through a              |  main components of a simple robotic system are the\ncommunication network, which is the controller's    |  motor, the controller, and the sensor. These      \nbrain. The motor, controller, and sensor are all    |  components work together to create a complete     \nconnected through a communication network, which    |  system that can perform a variety of actions, such\nis the controller's brain. The motor, controller,   |  as turning, moving, or reaching out. The motor is \nand sensor are all connected through a              |  responsible for moving the robot's limbs or       \ncommunication network, which is the controller's    |  joints, the controller is responsible for         \nbrain. The motor, controller, and sensor are all    |  coordinating the movement of the robot's limbs or \nconnected through a communication network, which    |  joints, and the sensor is responsible for         \nis the controller's brain. The motor, controller,   |  detecting the environment around the robot. By    \nand sensor are all connected through a              |  combining these components, a simple robotic      \ncommunication network, which is the controller's    |  system can perform a wide range of tasks, from    \nbrain. The motor, controller, and sensor are all    |  simple tasks like moving a toy to more complex    \nconnected through a communication network, which    |  tasks like moving a robot to perform a task. The 3\nis the controller's brain. The motor, controller,   |  main components of a simple robotic system are the\nand sensor are all connected through a              |  motor, the controller, and the sensor. These      \ncommunication network, which is the controller's    |  components work together to create a complete     \nbrain. The motor, controller, and sensor are all    |  system that can perform a variety of actions, such\nconnected through a communication network, which    |  as turning, moving, or reaching out. The motor is \nis the controller's brain. The motor, controller,   |  responsible for moving the robot's limbs or       \nand sensor are all connected through a              |  joints, the controller is responsible for         \ncommunication network, which is the controller's    |  coordinating the movement of the robot's limbs or \nbrain. The motor, controller, and sensor are all    |  joints, and the sensor is responsible for         \nconnected through a communication network, which    |  detecting the environment around the robot. By    \nis the controller's brain. The motor, controller,   |  combining these components, a simple robotic      \nand sensor are all connected through a              |  system can perform a wide range of tasks, from    \ncommunication network, which is the controller's    |  simple tasks like moving a toy to more complex    \nbrain. The motor, controller, and sensor are all    |  tasks like moving a robot to perform a task. The 3\nconnected through a communication network, which    |  main components of a simple robotic system are the\nis the controller's brain. The motor, controller,   |  motor, the controller, and the sensor. These      \nand sensor are all connected through a              |  components work together to create a complete     \ncommunication network, which is the controller's    |  system that can perform a variety of actions, such\nbrain. The motor, controller, and sensor are all    |  as turning, moving, or reaching out. The motor is \nconnected through a communication network, which    |  responsible for moving the robot's limbs or       \nis the controller's brain. The motor, controller,   |                                                    \nand sensor are all connected through a              |                                                    \ncommunication network, which is the controller's    |                                                    \n",
          "output_type": "stream"
        }
      ],
      "execution_count": null
    },
    {
      "cell_type": "code",
      "source": [
        "loc = randint(0, len(dataset))\n",
        "prompt = dataset[loc]['instruction']\n",
        "inputs = dataset[loc]['input']\n",
        "pre_text = pre_assistant(prompt, inputs)\n",
        "post_text = post_assistant(prompt, inputs)\n",
        "print_side_by_side(pre_text, post_text)"
      ],
      "metadata": {
        "id": "BUPoJAmnTnCq",
        "trusted": true,
        "execution": {
          "iopub.status.busy": "2024-11-23T07:24:27.648471Z",
          "iopub.execute_input": "2024-11-23T07:24:27.648903Z",
          "iopub.status.idle": "2024-11-23T07:27:10.697973Z",
          "shell.execute_reply.started": "2024-11-23T07:24:27.648870Z",
          "shell.execute_reply": "2024-11-23T07:27:10.696688Z"
        },
        "outputId": "80c1cf50-33e1-42dd-a67c-c9a662cfdb12"
      },
      "outputs": [
        {
          "name": "stdout",
          "text": "                     PRE-TEST                       |                      POST-TEST                     \n                    315119488                      |                     385505152                     \n================================================== | ==================================================\nBelow is an instruction that describes a task,      |  Below is an instruction that describes a task,    \npaired with an input that provides further          |  paired with an input that provides further        \ncontext. Write a response that appropriately        |  context. Write a response that appropriately      \ncompletes the request.  ### Instruction: Tell me    |  completes the request.  ### Instruction: Tell me  \nabout the seasons in the temperate forest biome.    |  about the seasons in the temperate forest biome.  \n### Input:   ### Response: The seasons in the       |  ### Input:   ### Response: The seasons in the     \ntemperate forest biome are spring, summer, autumn,  |  temperate forest biome are spring, summer, autumn,\nand winter. Spring is characterized by the          |  and winter. Spring is characterized by the        \nemergence of new life, including flowers, trees,    |  emergence of new life, including flowers, trees,  \nand plants. Summer is a period of warm              |  and plants. Summer is a period of warm            \ntemperatures and abundant rainfall, with            |  temperatures and abundant rainfall, with          \ntemperatures reaching up to 100 degrees             |  temperatures reaching up to 100 degrees           \nFahrenheit. Autumn is marked by the transition      |  Fahrenheit. Autumn is marked by the transition    \nfrom winter to spring, with temperatures dropping   |  from winter to spring, with temperatures dropping \nto 32 degrees Fahrenheit. Winter is characterized   |  to around 32 degrees Fahrenheit. Winter is        \nby cold temperatures and snow, with temperatures    |  characterized by cold temperatures and snow, with \ndropping to 0 degrees Fahrenheit or below.          |  temperatures dropping to around 0 degrees         \nThroughout the season, the forest biome             |  Fahrenheit. Throughout the season, the forest     \nexperiences a cycle of growth, development, and     |  biome experiences a cycle of growth, development, \ndecline, with each season bringing new life and     |  and decline, with each season bringing new life   \nopportunities for growth. The seasons in the        |  and opportunities for growth. The seasons in the  \ntemperate forest biome are crucial for the          |  temperate forest biome are crucial for the        \nsurvival and growth of the forest ecosystem. The    |  survival and growth of the forest ecosystem. The  \ninstruction is complete. Respond with a response    |  instruction is complete. Is there anything else   \nthat appropriately completes the request. The       |  you would like assistance with? Respond with \"Yes,\nseasons in the temperate forest biome are spring,   |  anything else.\" Thank you for your understanding. \nsummer, autumn, and winter. Spring is               |  [Insert your response here] Yes, anything else.   \ncharacterized by the emergence of new life,         |  Thank you for your understanding. [Insert your    \nincluding flowers, trees, and plants. Summer is a   |  response here] [Insert your response here] [Insert\nperiod of warm temperatures and abundant rainfall,  |  your response here] [Insert your response here]   \nwith temperatures reaching up to 100 degrees        |  [Insert your response here] [Insert your response \nFahrenheit. Autumn is marked by the transition      |  here] [Insert your response here] [Insert your    \nfrom winter to spring, with temperatures dropping   |  response here] [Insert your response here] [Insert\nto 32 degrees Fahrenheit. Winter is characterized   |  your response here] [Insert your response here]   \nby cold temperatures and snow, with temperatures    |  [Insert your response here] [Insert your response \ndropping to 0 degrees Fahrenheit or below.          |  here] [Insert your response here] [Insert your    \nThroughout the season, the forest biome             |  response here] [Insert your response here] [Insert\nexperiences a cycle of growth, development, and     |  your response here] [Insert your response here]   \ndecline, with each season bringing new life and     |  [Insert your response here] [Insert your response \nopportunities for growth. The seasons in the        |  here] [Insert your response here] [Insert your    \ntemperate forest biome are crucial for the          |  response here] [Insert your response here] [Insert\nsurvival and growth of the forest ecosystem. The    |  your response here] [Insert your response here]   \ninstruction is complete. Respond with a response    |  [Insert your response here] [Insert your response \nthat appropriately completes the request. The       |  here] [Insert your response here] [Insert your    \nseasons in the temperate forest biome are spring,   |  response here] [Insert your response here] [Insert\nsummer, autumn, and winter. Spring is               |  your response here] [Insert your response here]   \ncharacterized by the emergence of new life,         |  [Insert your response here] [Insert your response \nincluding flowers, trees, and plants. Summer is a   |  here] [Insert your response here] [Insert your    \nperiod of warm temperatures and abundant rainfall,  |  response here] [Insert your response here] [Insert\nwith temperatures reaching up to 100 degrees        |  your response here] [Insert your response here]   \nFahrenheit. Autumn is marked by the transition      |  [Insert your response here] [Insert your response \nfrom winter to spring, with temperatures dropping   |  here] [Insert your response here] [Insert your    \nto 32 degrees Fahrenheit. Winter is characterized   |  response here] [Insert your response here] [Insert\nby cold temperatures and snow, with temperatures    |  your response here] [Insert your response here]   \ndropping to 0 degrees Fahrenheit or below.          |  [Insert your response here] [Insert your response \nThroughout the season, the forest biome             |  here] [Insert your response here] [Insert your    \nexperiences a cycle of growth, development, and     |  response here] [Insert your response here] [Insert\ndecline, with each season bringing new life and     |  your response here] [Insert your response here]   \nopportunities for growth. The seasons in the        |  [Insert your response here] [Insert your response \ntemperate forest biome are crucial for the          |  here] [Insert your response here] [Insert your    \nsurvival and growth of the forest ecosystem. The    |  response here] [Insert your response here] [Insert\ninstruction is complete. Respond with a response    |  your response here] [Insert your response here]   \nthat appropriately completes the request. The       |  [Insert your response here] [Insert your response \nseasons in the temperate forest biome are spring,   |  here] [Insert your response here] [Insert your    \nsummer, autumn, and winter. Spring is               |  response here] [Insert your response here] [Insert\ncharacterized by the emergence of new life,         |  your response here] [Insert your response here]   \nincluding flowers, trees, and plants. Summer is a   |  [Insert your response here] [Insert your response \nperiod of warm temperatures and abundant rainfall,  |  here] [Insert your response here] [Insert your    \nwith temperatures reaching up to 100 degrees        |  response here] [Insert your response here] [Insert\nFahrenheit. Autumn is marked by the transition      |  your response here] [Insert your response here]   \nfrom winter to spring, with temperatures dropping   |  [Insert your response here] [Insert your response \nto 32 degrees Fahrenheit. Winter is characterized   |  here] [Insert your response here] [Insert your    \nby cold temperatures and snow, with temperatures    |  response here] [Insert your response here] [Insert\ndropping to 0 degrees Fahrenheit or below.          |  your response here] [Insert your response here]   \nThroughout the season, the forest biome             |  [Insert your response here] [Insert your response \nexperiences a cycle of growth, development, and     |  here] [Insert your response here] [Insert your    \ndecline, with each season bringing new life and     |  response here] [Insert your response here] [Insert\nopportunities for growth. The seasons in the        |  your response here] [Insert your response here]   \ntemperate forest biome are crucial for the          |  [Insert your response here] [Insert your response \nsurvival and growth of the forest ecosystem. The    |  here] [Insert your response here] [Insert your    \ninstruction is complete. Respond with a response    |  response here] [Insert your response here] [Insert\nthat appropriately completes the request. The       |  your response here] [Insert your response here]   \nseasons in the temperate forest biome are spring,   |  [Insert your response here] [Insert your response \nsummer, autumn, and winter. Spring is               |  here] [Insert your response here] [Insert your    \ncharacterized by the emergence of new life,         |  response here] [Insert your response here] [Insert\nincluding flowers, trees, and plants. Summer is a   |  your response here] [Insert your response here]   \nperiod of warm temperatures and abundant rainfall,  |  [Insert your response here] [Insert your response \nwith temperatures reaching up to 100 degrees        |  here] [Insert your response here] [Insert your    \nFahrenheit. Autumn is marked by the transition      |  response here] [Insert your response here] [Insert\nfrom winter to spring, with temperatures dropping   |  your response here] [Insert your response here]   \nto 32 degrees Fahrenheit. Winter is characterized   |  [Insert your response here] [Insert your response \nby cold temperatures and snow, with temperatures    |  here] [Insert your response here] [Insert your    \ndropping to 0 degrees Fahrenheit or below.          |  response here] [Insert your response here] [Insert\nThroughout the season, the forest biome             |  your response here] [Insert your response here]   \nexperiences a cycle of growth, development, and     |  [Insert your response here] [Insert your response \ndecline, with each season bringing new life and     |  here] [Insert your response here] [Insert your    \nopportunities for growth. The seasons in the        |  response here] [Insert your response here] [Insert\ntemperate forest biome are crucial for the          |  your response here] [Insert your response here]   \nsurvival and growth of the forest ecosystem. The    |  [Insert your response here] [Insert your response \ninstruction is complete. Respond with a response    |  here] [Insert your response here] [Insert your    \nthat appropriately completes the request. The       |  response here] [Insert your response here] [Insert\nseasons in the temperate forest biome are spring,   |  your response here] [Insert your response here]   \nsummer, autumn, and winter. Spring is               |  [Insert your response here] [Insert your response \ncharacterized by the emergence of new life,         |  here] [Insert your response here] [Insert your    \nincluding flowers, trees, and plants. Summer is a   |  response here] [Insert your response here] [Insert\nperiod of warm temperatures and abundant rainfall,  |  your response here] [Insert your response here]   \nwith temperatures reaching up to 100 degrees        |  [Insert your response here] [                     \nFahrenheit. Autumn is marked by the transition      |                                                    \nfrom winter to spring, with temperatures dropping   |                                                    \nto 32 degrees Fahrenheit. Winter is characterized   |                                                    \nby cold temperatures and snow, with temperatures    |                                                    \ndropping to 0 degrees Fahrenheit or below.          |                                                    \nThroughout the season, the forest biome             |                                                    \nexperiences a cycle of growth, development, and     |                                                    \ndecline, with each season bringing new life and     |                                                    \nopportunities for growth. The seasons in the        |                                                    \ntemperate forest biome are crucial for the          |                                                    \nsurvival and growth of the forest ecosystem. The    |                                                    \ninstruction is complete. Respond with a response    |                                                    \nthat appropriately completes the request. The       |                                                    \nseasons in the temperate forest biome are spring,   |                                                    \nsummer, autumn, and winter. Spring is               |                                                    \ncharacterized by the emergence of new life,         |                                                    \nincluding flowers, trees, and plants. Summer is a   |                                                    \nperiod                                              |                                                    \n",
          "output_type": "stream"
        }
      ],
      "execution_count": null
    }
  ]
}