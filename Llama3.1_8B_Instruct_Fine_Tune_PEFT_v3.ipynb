{
  "metadata": {
    "kernelspec": {
      "name": "python3",
      "display_name": "Python 3",
      "language": "python"
    },
    "language_info": {
      "name": "python",
      "version": "3.10.14",
      "mimetype": "text/x-python",
      "codemirror_mode": {
        "name": "ipython",
        "version": 3
      },
      "pygments_lexer": "ipython3",
      "nbconvert_exporter": "python",
      "file_extension": ".py"
    },
    "accelerator": "GPU",
    "colab": {
      "gpuType": "T4",
      "provenance": [],
      "include_colab_link": true
    },
    "kaggle": {
      "accelerator": "gpu",
      "dataSources": [],
      "dockerImageVersionId": 30805,
      "isInternetEnabled": true,
      "language": "python",
      "sourceType": "notebook",
      "isGpuEnabled": true
    }
  },
  "nbformat_minor": 0,
  "nbformat": 4,
  "cells": [
    {
      "cell_type": "markdown",
      "metadata": {
        "id": "view-in-github",
        "colab_type": "text"
      },
      "source": [
        "<a href=\"https://colab.research.google.com/github/azzindani/03_LLM_Fine_Tune/blob/main/Llama3.1_8B_Instruct_Fine_Tune_PEFT_v3.ipynb\" target=\"_parent\"><img src=\"https://colab.research.google.com/assets/colab-badge.svg\" alt=\"Open In Colab\"/></a>"
      ]
    },
    {
      "cell_type": "markdown",
      "source": [
        "## 00 Import Modules"
      ],
      "metadata": {
        "id": "iNW_MCROx_hX"
      }
    },
    {
      "cell_type": "code",
      "source": [
        "!pip install -q --upgrade transformers\n",
        "!pip install -q peft\n",
        "!pip install -U -q bitsandbytes\n",
        "!pip install -q datasets\n",
        "!pip install -q trl"
      ],
      "metadata": {
        "id": "0-QxfiDVyT74",
        "trusted": true,
        "outputId": "69d52dc0-ca27-4fd1-81c4-bc2f70300670",
        "execution": {
          "iopub.status.busy": "2024-12-14T05:23:36.284070Z",
          "iopub.execute_input": "2024-12-14T05:23:36.284447Z",
          "iopub.status.idle": "2024-12-14T05:24:32.566889Z",
          "shell.execute_reply.started": "2024-12-14T05:23:36.284412Z",
          "shell.execute_reply": "2024-12-14T05:24:32.565675Z"
        }
      },
      "outputs": [
        {
          "name": "stdout",
          "text": "\u001b[31mERROR: pip's dependency resolver does not currently take into account all the packages that are installed. This behaviour is the source of the following dependency conflicts.\ntrl 0.12.2 requires transformers<4.47.0, but you have transformers 4.47.0 which is incompatible.\u001b[0m\u001b[31m\n\u001b[0m",
          "output_type": "stream"
        }
      ],
      "execution_count": null
    },
    {
      "cell_type": "code",
      "source": [
        "import os\n",
        "import pathlib\n",
        "import torch\n",
        "import numpy as np\n",
        "import textwrap\n",
        "\n",
        "from random import randint\n",
        "from itertools import zip_longest\n",
        "from datetime import datetime\n",
        "from datasets import load_dataset\n",
        "from datasets import Dataset\n",
        "from sklearn.model_selection import train_test_split\n",
        "from sklearn.metrics import accuracy_score, precision_recall_fscore_support\n",
        "from trl import SFTTrainer\n",
        "\n",
        "from transformers import (\n",
        "  AutoTokenizer,\n",
        "  AutoModelForCausalLM,\n",
        "  AutoModelForSeq2SeqLM,\n",
        "  AutoModel,\n",
        "  AutoModelForSequenceClassification,\n",
        "  DataCollatorForLanguageModeling,\n",
        "  Trainer,\n",
        "  TrainingArguments,\n",
        "  pipeline,\n",
        "  TextDataset,\n",
        "  EvalPrediction,\n",
        "  DataCollatorWithPadding,\n",
        "  GenerationConfig,\n",
        "  BitsAndBytesConfig,\n",
        "  DataCollatorForSeq2Seq,\n",
        "  TextStreamer\n",
        ")\n",
        "\n",
        "from peft import (\n",
        "  LoraConfig,\n",
        "  PeftModelForSequenceClassification,\n",
        "  PeftModel,\n",
        "  TaskType,\n",
        "  AutoPeftModelForSequenceClassification,\n",
        "  get_peft_model,\n",
        "  prepare_model_for_kbit_training\n",
        ")\n",
        "\n",
        "if torch.cuda.is_available():\n",
        "  print(\"GPU is available!\")\n",
        "else:\n",
        "  print(\"GPU is not available.\")"
      ],
      "metadata": {
        "id": "TIgNx9Orx0It",
        "trusted": true,
        "outputId": "248c8f10-5eae-49a5-ba03-c6c30698404f",
        "execution": {
          "iopub.status.busy": "2024-12-14T05:24:32.569571Z",
          "iopub.execute_input": "2024-12-14T05:24:32.570313Z",
          "iopub.status.idle": "2024-12-14T05:24:40.423108Z",
          "shell.execute_reply.started": "2024-12-14T05:24:32.570243Z",
          "shell.execute_reply": "2024-12-14T05:24:40.422233Z"
        }
      },
      "outputs": [
        {
          "name": "stdout",
          "text": "GPU is available!\n",
          "output_type": "stream"
        }
      ],
      "execution_count": null
    },
    {
      "cell_type": "code",
      "source": [
        "device = torch.device(\"cuda\" if torch.cuda.is_available() else \"cpu\")\n",
        "device"
      ],
      "metadata": {
        "id": "i-nwkyTDybqY",
        "trusted": true,
        "outputId": "f7789872-8053-4e26-a665-0c4f94689529",
        "execution": {
          "iopub.status.busy": "2024-12-14T05:24:40.424467Z",
          "iopub.execute_input": "2024-12-14T05:24:40.424848Z",
          "iopub.status.idle": "2024-12-14T05:24:40.431919Z",
          "shell.execute_reply.started": "2024-12-14T05:24:40.424805Z",
          "shell.execute_reply": "2024-12-14T05:24:40.431007Z"
        }
      },
      "outputs": [
        {
          "execution_count": 3,
          "output_type": "execute_result",
          "data": {
            "text/plain": "device(type='cuda')"
          },
          "metadata": {}
        }
      ],
      "execution_count": null
    },
    {
      "cell_type": "markdown",
      "source": [
        "## 01 Import Model"
      ],
      "metadata": {
        "id": "grIeJpUdyX0Y"
      }
    },
    {
      "cell_type": "code",
      "source": [
        "model_name = 'unsloth/Meta-Llama-3.1-8B-Instruct'"
      ],
      "metadata": {
        "id": "14Lkvw4cyZkY",
        "trusted": true,
        "execution": {
          "iopub.status.busy": "2024-12-14T05:24:40.432860Z",
          "iopub.execute_input": "2024-12-14T05:24:40.433079Z",
          "iopub.status.idle": "2024-12-14T05:24:40.444407Z",
          "shell.execute_reply.started": "2024-12-14T05:24:40.433056Z",
          "shell.execute_reply": "2024-12-14T05:24:40.443620Z"
        }
      },
      "outputs": [],
      "execution_count": null
    },
    {
      "cell_type": "code",
      "source": [
        "def load_model(model_name, base = True):\n",
        "  if base == True:\n",
        "    model = AutoModelForCausalLM.from_pretrained(\n",
        "      model_name,\n",
        "      torch_dtype = torch.float16,\n",
        "      trust_remote_code = True\n",
        "    ).to(device)\n",
        "\n",
        "    return model\n",
        "\n",
        "  else:\n",
        "    bnb_config = BitsAndBytesConfig(\n",
        "      load_in_4bit = True,\n",
        "      bnb_4bit_quant_type = 'nf4',\n",
        "      bnb_4bit_compute_dtype = torch.float16,\n",
        "      bnb_4bit_use_double_quant = True,\n",
        "    )\n",
        "    model = AutoModelForCausalLM.from_pretrained(\n",
        "      model_name,\n",
        "      quantization_config = bnb_config,\n",
        "      trust_remote_code = True\n",
        "    ).to(device)\n",
        "\n",
        "    return model"
      ],
      "metadata": {
        "id": "GlskFscYyeco",
        "trusted": true,
        "execution": {
          "iopub.status.busy": "2024-12-14T05:24:40.446214Z",
          "iopub.execute_input": "2024-12-14T05:24:40.446498Z",
          "iopub.status.idle": "2024-12-14T05:24:40.456477Z",
          "shell.execute_reply.started": "2024-12-14T05:24:40.446472Z",
          "shell.execute_reply": "2024-12-14T05:24:40.455823Z"
        }
      },
      "outputs": [],
      "execution_count": null
    },
    {
      "cell_type": "code",
      "source": [
        "model = load_model(model_name, base = False)\n",
        "model"
      ],
      "metadata": {
        "id": "HIYgZ1xF1qsl",
        "trusted": true,
        "execution": {
          "iopub.status.busy": "2024-12-14T05:24:40.457177Z",
          "iopub.execute_input": "2024-12-14T05:24:40.457425Z",
          "iopub.status.idle": "2024-12-14T05:25:54.951435Z",
          "shell.execute_reply.started": "2024-12-14T05:24:40.457400Z",
          "shell.execute_reply": "2024-12-14T05:25:54.950610Z"
        }
      },
      "outputs": [],
      "execution_count": null
    },
    {
      "cell_type": "code",
      "source": [
        "total_params = sum(p.numel() for p in model.parameters())\n",
        "trainable_params = sum(p.numel() for p in model.parameters() if p.requires_grad)\n",
        "trainable_percentage = (trainable_params / total_params) * 100\n",
        "\n",
        "print('Total parameters :', total_params)\n",
        "print('Trainable parameters :', trainable_params)\n",
        "print('Trainable percentage: {:.2f}%'.format(trainable_percentage))"
      ],
      "metadata": {
        "id": "j6d6uYBfzCC4",
        "trusted": true,
        "execution": {
          "iopub.status.busy": "2024-12-14T05:25:54.952361Z",
          "iopub.execute_input": "2024-12-14T05:25:54.952604Z",
          "iopub.status.idle": "2024-12-14T05:25:54.959996Z",
          "shell.execute_reply.started": "2024-12-14T05:25:54.952575Z",
          "shell.execute_reply": "2024-12-14T05:25:54.959159Z"
        },
        "outputId": "b086afbd-2dbe-4d5b-bde3-8290f4fc7c25"
      },
      "outputs": [
        {
          "name": "stdout",
          "text": "Total parameters : 4540600320\nTrainable parameters : 1050939392\nTrainable percentage: 23.15%\n",
          "output_type": "stream"
        }
      ],
      "execution_count": null
    },
    {
      "cell_type": "markdown",
      "source": [
        "## 02 Import Tokenizer"
      ],
      "metadata": {
        "id": "MU_19rT5zEIZ"
      }
    },
    {
      "cell_type": "code",
      "source": [
        "tokenizer = AutoTokenizer.from_pretrained(model_name)\n",
        "#tokenizer"
      ],
      "metadata": {
        "id": "lpB5JUjSzGtJ",
        "trusted": true,
        "execution": {
          "iopub.status.busy": "2024-12-14T05:25:54.961032Z",
          "iopub.execute_input": "2024-12-14T05:25:54.961343Z",
          "iopub.status.idle": "2024-12-14T05:25:55.602956Z",
          "shell.execute_reply.started": "2024-12-14T05:25:54.961311Z",
          "shell.execute_reply": "2024-12-14T05:25:55.601949Z"
        }
      },
      "outputs": [],
      "execution_count": null
    },
    {
      "cell_type": "markdown",
      "source": [
        "## 03 Import Dataset"
      ],
      "metadata": {
        "id": "3QJUqcUVzNoJ"
      }
    },
    {
      "cell_type": "code",
      "source": [
        "dataset_name = 'microsoft/orca-math-word-problems-200k'"
      ],
      "metadata": {
        "id": "U01UXJdLzPXS",
        "trusted": true,
        "execution": {
          "iopub.status.busy": "2024-12-14T05:25:55.604117Z",
          "iopub.execute_input": "2024-12-14T05:25:55.604445Z",
          "iopub.status.idle": "2024-12-14T05:25:55.608415Z",
          "shell.execute_reply.started": "2024-12-14T05:25:55.604409Z",
          "shell.execute_reply": "2024-12-14T05:25:55.607544Z"
        }
      },
      "outputs": [],
      "execution_count": null
    },
    {
      "cell_type": "code",
      "source": [
        "max_length = 384"
      ],
      "metadata": {
        "id": "ZGIUyIDhNJC2",
        "trusted": true,
        "execution": {
          "iopub.status.busy": "2024-12-14T05:25:55.609361Z",
          "iopub.execute_input": "2024-12-14T05:25:55.609604Z",
          "iopub.status.idle": "2024-12-14T05:25:55.621660Z",
          "shell.execute_reply.started": "2024-12-14T05:25:55.609579Z",
          "shell.execute_reply": "2024-12-14T05:25:55.621006Z"
        }
      },
      "outputs": [],
      "execution_count": null
    },
    {
      "cell_type": "code",
      "source": [
        "dataset = load_dataset(dataset_name, split = 'train')\n",
        "dataset"
      ],
      "metadata": {
        "id": "0ucM3l_FzUkp",
        "trusted": true,
        "execution": {
          "iopub.status.busy": "2024-12-14T05:25:55.622690Z",
          "iopub.execute_input": "2024-12-14T05:25:55.622947Z",
          "iopub.status.idle": "2024-12-14T05:25:57.530028Z",
          "shell.execute_reply.started": "2024-12-14T05:25:55.622921Z",
          "shell.execute_reply": "2024-12-14T05:25:57.529131Z"
        },
        "outputId": "1ef5047d-a210-4494-f312-c02b44628001"
      },
      "outputs": [
        {
          "execution_count": 11,
          "output_type": "execute_result",
          "data": {
            "text/plain": "Dataset({\n    features: ['question', 'answer'],\n    num_rows: 200035\n})"
          },
          "metadata": {}
        }
      ],
      "execution_count": null
    },
    {
      "cell_type": "code",
      "source": [
        "dataset = dataset.select(range(10000))"
      ],
      "metadata": {
        "trusted": true,
        "execution": {
          "iopub.status.busy": "2024-12-14T05:25:57.531130Z",
          "iopub.execute_input": "2024-12-14T05:25:57.531494Z",
          "iopub.status.idle": "2024-12-14T05:25:57.537843Z",
          "shell.execute_reply.started": "2024-12-14T05:25:57.531463Z",
          "shell.execute_reply": "2024-12-14T05:25:57.537204Z"
        },
        "id": "NmtIiy6pW9Wm"
      },
      "outputs": [],
      "execution_count": null
    },
    {
      "cell_type": "code",
      "source": [
        "dataset.select(range(5)).to_pandas().head()"
      ],
      "metadata": {
        "id": "FLRSMhJDzY5Z",
        "trusted": true,
        "execution": {
          "iopub.status.busy": "2024-12-14T05:25:57.538773Z",
          "iopub.execute_input": "2024-12-14T05:25:57.539049Z",
          "iopub.status.idle": "2024-12-14T05:25:58.023084Z",
          "shell.execute_reply.started": "2024-12-14T05:25:57.539023Z",
          "shell.execute_reply": "2024-12-14T05:25:58.022226Z"
        },
        "outputId": "ab35198d-7b7c-4acc-cacc-74437bf5ddf8"
      },
      "outputs": [
        {
          "execution_count": 13,
          "output_type": "execute_result",
          "data": {
            "text/plain": "                                            question  \\\n0  Jungkook is the 5th place. Find the number of ...   \n1  A number divided by 10 is 6. Yoongi got the re...   \n2  Dongju selects a piece of paper with a number ...   \n3  You wanted to subtract 46 from a number, but y...   \n4  The length of one span of Jinseo is about 12 c...   \n\n                                              answer  \n0  If Jungkook is in 5th place, then 4 people cro...  \n1  Let's call the certain number \"x\". According t...  \n2  To find the second smallest and third smallest...  \n3  If you accidentally subtracted 59 instead of 4...  \n4  If one span of Jinseo is about 12 centimeters ...  ",
            "text/html": "<div>\n<style scoped>\n    .dataframe tbody tr th:only-of-type {\n        vertical-align: middle;\n    }\n\n    .dataframe tbody tr th {\n        vertical-align: top;\n    }\n\n    .dataframe thead th {\n        text-align: right;\n    }\n</style>\n<table border=\"1\" class=\"dataframe\">\n  <thead>\n    <tr style=\"text-align: right;\">\n      <th></th>\n      <th>question</th>\n      <th>answer</th>\n    </tr>\n  </thead>\n  <tbody>\n    <tr>\n      <th>0</th>\n      <td>Jungkook is the 5th place. Find the number of ...</td>\n      <td>If Jungkook is in 5th place, then 4 people cro...</td>\n    </tr>\n    <tr>\n      <th>1</th>\n      <td>A number divided by 10 is 6. Yoongi got the re...</td>\n      <td>Let's call the certain number \"x\". According t...</td>\n    </tr>\n    <tr>\n      <th>2</th>\n      <td>Dongju selects a piece of paper with a number ...</td>\n      <td>To find the second smallest and third smallest...</td>\n    </tr>\n    <tr>\n      <th>3</th>\n      <td>You wanted to subtract 46 from a number, but y...</td>\n      <td>If you accidentally subtracted 59 instead of 4...</td>\n    </tr>\n    <tr>\n      <th>4</th>\n      <td>The length of one span of Jinseo is about 12 c...</td>\n      <td>If one span of Jinseo is about 12 centimeters ...</td>\n    </tr>\n  </tbody>\n</table>\n</div>"
          },
          "metadata": {}
        }
      ],
      "execution_count": null
    },
    {
      "cell_type": "code",
      "source": [
        "dataset[0]"
      ],
      "metadata": {
        "id": "3exPEy0JdLyI",
        "trusted": true,
        "execution": {
          "iopub.status.busy": "2024-12-14T05:25:58.027722Z",
          "iopub.execute_input": "2024-12-14T05:25:58.027994Z",
          "iopub.status.idle": "2024-12-14T05:25:58.033342Z",
          "shell.execute_reply.started": "2024-12-14T05:25:58.027968Z",
          "shell.execute_reply": "2024-12-14T05:25:58.032546Z"
        },
        "outputId": "491ac576-cb80-4b65-d09a-ed60fdaaff13"
      },
      "outputs": [
        {
          "execution_count": 14,
          "output_type": "execute_result",
          "data": {
            "text/plain": "{'question': 'Jungkook is the 5th place. Find the number of people who crossed the finish line faster than Jungkook.',\n 'answer': 'If Jungkook is in 5th place, then 4 people crossed the finish line faster than him.'}"
          },
          "metadata": {}
        }
      ],
      "execution_count": null
    },
    {
      "cell_type": "code",
      "source": [
        "features = list(dataset.features.keys())\n",
        "print(features)"
      ],
      "metadata": {
        "id": "xYKmTDtkAnt5",
        "trusted": true,
        "execution": {
          "iopub.status.busy": "2024-12-14T05:25:58.034619Z",
          "iopub.execute_input": "2024-12-14T05:25:58.035252Z",
          "iopub.status.idle": "2024-12-14T05:25:58.042767Z",
          "shell.execute_reply.started": "2024-12-14T05:25:58.035211Z",
          "shell.execute_reply": "2024-12-14T05:25:58.041914Z"
        },
        "outputId": "8320a6b9-01bf-4143-e12a-b5e66d43a304"
      },
      "outputs": [
        {
          "name": "stdout",
          "text": "['question', 'answer']\n",
          "output_type": "stream"
        }
      ],
      "execution_count": null
    },
    {
      "cell_type": "markdown",
      "source": [
        "## 04 Text Formatting"
      ],
      "metadata": {
        "id": "Wq59WgYJCDY0"
      }
    },
    {
      "cell_type": "code",
      "source": [
        "prompt_format = \"\"\"### Question:\\n{}\\n### Answer:\\n{}\"\"\""
      ],
      "metadata": {
        "trusted": true,
        "execution": {
          "iopub.status.busy": "2024-12-14T05:25:58.043954Z",
          "iopub.execute_input": "2024-12-14T05:25:58.044330Z",
          "iopub.status.idle": "2024-12-14T05:25:58.052831Z",
          "shell.execute_reply.started": "2024-12-14T05:25:58.044270Z",
          "shell.execute_reply": "2024-12-14T05:25:58.051981Z"
        },
        "id": "OQdkyEUMW9Wm"
      },
      "outputs": [],
      "execution_count": null
    },
    {
      "cell_type": "code",
      "source": [
        "EOS_TOKEN = tokenizer.eos_token # Must add EOS_TOKEN\n",
        "\n",
        "def preprocess(examples):\n",
        "  input = examples['question']\n",
        "  output = examples['answer']\n",
        "\n",
        "  text = prompt_format.format(input, output) + EOS_TOKEN\n",
        "  return {'prompt' : text}"
      ],
      "metadata": {
        "id": "0wXJNFBWWNYP",
        "trusted": true,
        "execution": {
          "iopub.status.busy": "2024-12-14T05:25:58.053817Z",
          "iopub.execute_input": "2024-12-14T05:25:58.054098Z",
          "iopub.status.idle": "2024-12-14T05:25:58.063863Z",
          "shell.execute_reply.started": "2024-12-14T05:25:58.054072Z",
          "shell.execute_reply": "2024-12-14T05:25:58.063080Z"
        }
      },
      "outputs": [],
      "execution_count": null
    },
    {
      "cell_type": "code",
      "source": [
        "formatted_dataset = dataset.map(preprocess, remove_columns = features)\n",
        "formatted_dataset"
      ],
      "metadata": {
        "id": "7TFGpGhoWS9e",
        "trusted": true,
        "execution": {
          "iopub.status.busy": "2024-12-14T05:25:58.064789Z",
          "iopub.execute_input": "2024-12-14T05:25:58.065099Z",
          "iopub.status.idle": "2024-12-14T05:25:58.116251Z",
          "shell.execute_reply.started": "2024-12-14T05:25:58.065067Z",
          "shell.execute_reply": "2024-12-14T05:25:58.115598Z"
        },
        "outputId": "484c6e65-9fc9-473d-d17d-a6d24bad3b91"
      },
      "outputs": [
        {
          "execution_count": 18,
          "output_type": "execute_result",
          "data": {
            "text/plain": "Dataset({\n    features: ['prompt'],\n    num_rows: 10000\n})"
          },
          "metadata": {}
        }
      ],
      "execution_count": null
    },
    {
      "cell_type": "code",
      "source": [
        "print(formatted_dataset[0]['prompt'])"
      ],
      "metadata": {
        "id": "Kidf8H5zefDC",
        "trusted": true,
        "execution": {
          "iopub.status.busy": "2024-12-14T05:25:58.117093Z",
          "iopub.execute_input": "2024-12-14T05:25:58.117352Z",
          "iopub.status.idle": "2024-12-14T05:25:58.121781Z",
          "shell.execute_reply.started": "2024-12-14T05:25:58.117323Z",
          "shell.execute_reply": "2024-12-14T05:25:58.120918Z"
        },
        "outputId": "44b16ebb-129a-4c2e-9646-f8814da233b9"
      },
      "outputs": [
        {
          "name": "stdout",
          "text": "### Question:\nJungkook is the 5th place. Find the number of people who crossed the finish line faster than Jungkook.\n### Answer:\nIf Jungkook is in 5th place, then 4 people crossed the finish line faster than him.<|eot_id|>\n",
          "output_type": "stream"
        }
      ],
      "execution_count": null
    },
    {
      "cell_type": "markdown",
      "source": [
        "## 05 Tokenization"
      ],
      "metadata": {
        "id": "UMhGDyBpCHoT"
      }
    },
    {
      "cell_type": "code",
      "source": [
        "def tokenize_data(example, max_length = max_length):\n",
        "  return tokenizer(example['prompt'], truncation = True, padding = 'max_length', max_length = max_length)"
      ],
      "metadata": {
        "id": "m7bxU8fiewb7",
        "trusted": true,
        "execution": {
          "iopub.status.busy": "2024-12-14T05:25:58.122686Z",
          "iopub.execute_input": "2024-12-14T05:25:58.122919Z",
          "iopub.status.idle": "2024-12-14T05:25:58.134762Z",
          "shell.execute_reply.started": "2024-12-14T05:25:58.122881Z",
          "shell.execute_reply": "2024-12-14T05:25:58.134117Z"
        }
      },
      "outputs": [],
      "execution_count": null
    },
    {
      "cell_type": "code",
      "source": [
        "tokenized_dataset = formatted_dataset.map(tokenize_data)#, batched = True)#, remove_columns = 'text')\n",
        "tokenized_dataset"
      ],
      "metadata": {
        "id": "M3BO26k-BmdS",
        "trusted": true,
        "execution": {
          "iopub.status.busy": "2024-12-14T05:25:58.135651Z",
          "iopub.execute_input": "2024-12-14T05:25:58.135911Z",
          "iopub.status.idle": "2024-12-14T05:25:58.356010Z",
          "shell.execute_reply.started": "2024-12-14T05:25:58.135887Z",
          "shell.execute_reply": "2024-12-14T05:25:58.355162Z"
        },
        "outputId": "afe59bc4-770b-4db4-8d45-2a59d95d6275"
      },
      "outputs": [
        {
          "execution_count": 21,
          "output_type": "execute_result",
          "data": {
            "text/plain": "Dataset({\n    features: ['prompt', 'input_ids', 'attention_mask'],\n    num_rows: 10000\n})"
          },
          "metadata": {}
        }
      ],
      "execution_count": null
    },
    {
      "cell_type": "code",
      "source": [
        "print(tokenized_dataset[0]['prompt'])"
      ],
      "metadata": {
        "id": "wEHhMdV4pEFH",
        "trusted": true,
        "execution": {
          "iopub.status.busy": "2024-12-14T05:25:58.357228Z",
          "iopub.execute_input": "2024-12-14T05:25:58.357631Z",
          "iopub.status.idle": "2024-12-14T05:25:58.369839Z",
          "shell.execute_reply.started": "2024-12-14T05:25:58.357587Z",
          "shell.execute_reply": "2024-12-14T05:25:58.368930Z"
        },
        "outputId": "a3884ff0-8389-4de8-eeee-6ce28e60764a"
      },
      "outputs": [
        {
          "name": "stdout",
          "text": "### Question:\nJungkook is the 5th place. Find the number of people who crossed the finish line faster than Jungkook.\n### Answer:\nIf Jungkook is in 5th place, then 4 people crossed the finish line faster than him.<|eot_id|>\n",
          "output_type": "stream"
        }
      ],
      "execution_count": null
    },
    {
      "cell_type": "code",
      "source": [
        "tokenized_dataset = tokenized_dataset.train_test_split(test_size = 0.1, seed = 42)\n",
        "tokenized_dataset"
      ],
      "metadata": {
        "id": "C2m-e-ivDn1A",
        "trusted": true,
        "execution": {
          "iopub.status.busy": "2024-12-14T05:25:58.370912Z",
          "iopub.execute_input": "2024-12-14T05:25:58.371165Z",
          "iopub.status.idle": "2024-12-14T05:25:58.386898Z",
          "shell.execute_reply.started": "2024-12-14T05:25:58.371139Z",
          "shell.execute_reply": "2024-12-14T05:25:58.386032Z"
        },
        "outputId": "f25cbd25-63b2-459b-cd33-ebcc6b14cf03"
      },
      "outputs": [
        {
          "execution_count": 23,
          "output_type": "execute_result",
          "data": {
            "text/plain": "DatasetDict({\n    train: Dataset({\n        features: ['prompt', 'input_ids', 'attention_mask'],\n        num_rows: 9000\n    })\n    test: Dataset({\n        features: ['prompt', 'input_ids', 'attention_mask'],\n        num_rows: 1000\n    })\n})"
          },
          "metadata": {}
        }
      ],
      "execution_count": null
    },
    {
      "cell_type": "code",
      "source": [
        "train_dataset = tokenized_dataset['train']\n",
        "test_dataset = tokenized_dataset['test']\n",
        "train_dataset"
      ],
      "metadata": {
        "id": "QHs-BnR_zd9C",
        "trusted": true,
        "execution": {
          "iopub.status.busy": "2024-12-14T05:25:58.388011Z",
          "iopub.execute_input": "2024-12-14T05:25:58.388241Z",
          "iopub.status.idle": "2024-12-14T05:25:58.398752Z",
          "shell.execute_reply.started": "2024-12-14T05:25:58.388206Z",
          "shell.execute_reply": "2024-12-14T05:25:58.397874Z"
        },
        "outputId": "dc4861ca-9aa0-4bc4-cac2-e87123dfe846"
      },
      "outputs": [
        {
          "execution_count": 24,
          "output_type": "execute_result",
          "data": {
            "text/plain": "Dataset({\n    features: ['prompt', 'input_ids', 'attention_mask'],\n    num_rows: 9000\n})"
          },
          "metadata": {}
        }
      ],
      "execution_count": null
    },
    {
      "cell_type": "code",
      "source": [
        "train_dataset.select(range(5)).to_pandas().head()"
      ],
      "metadata": {
        "id": "-CUZuEENF2mW",
        "trusted": true,
        "execution": {
          "iopub.status.busy": "2024-12-14T05:25:58.399588Z",
          "iopub.execute_input": "2024-12-14T05:25:58.399881Z",
          "iopub.status.idle": "2024-12-14T05:25:58.452511Z",
          "shell.execute_reply.started": "2024-12-14T05:25:58.399856Z",
          "shell.execute_reply": "2024-12-14T05:25:58.451749Z"
        },
        "outputId": "20d7d6ad-ad59-472e-d4ca-ff74c3f49333"
      },
      "outputs": [
        {
          "execution_count": 25,
          "output_type": "execute_result",
          "data": {
            "text/plain": "                                              prompt  \\\n0  ### Question:\\nThere is a two-digit natural nu...   \n1  ### Question:\\nIn a big box, there are marbles...   \n2  ### Question:\\nAdam goes to a small school, wh...   \n3  ### Question:\\nLisa is looking to attempt a Wo...   \n4  ### Question:\\nThere is a rectangular-shaped p...   \n\n                                           input_ids  \\\n0  [128000, 14711, 16225, 512, 3947, 374, 264, 14...   \n1  [128000, 14711, 16225, 512, 644, 264, 2466, 38...   \n2  [128004, 128004, 128004, 128004, 128004, 12800...   \n3  [128004, 128004, 128004, 128004, 128004, 12800...   \n4  [128000, 14711, 16225, 512, 3947, 374, 264, 52...   \n\n                                      attention_mask  \n0  [1, 1, 1, 1, 1, 1, 1, 1, 1, 1, 1, 1, 1, 1, 1, ...  \n1  [1, 1, 1, 1, 1, 1, 1, 1, 1, 1, 1, 1, 1, 1, 1, ...  \n2  [0, 0, 0, 0, 0, 0, 0, 0, 0, 0, 0, 0, 0, 0, 0, ...  \n3  [0, 0, 0, 0, 0, 0, 0, 0, 0, 0, 0, 0, 0, 0, 0, ...  \n4  [1, 1, 1, 1, 1, 1, 1, 1, 1, 1, 1, 1, 1, 1, 1, ...  ",
            "text/html": "<div>\n<style scoped>\n    .dataframe tbody tr th:only-of-type {\n        vertical-align: middle;\n    }\n\n    .dataframe tbody tr th {\n        vertical-align: top;\n    }\n\n    .dataframe thead th {\n        text-align: right;\n    }\n</style>\n<table border=\"1\" class=\"dataframe\">\n  <thead>\n    <tr style=\"text-align: right;\">\n      <th></th>\n      <th>prompt</th>\n      <th>input_ids</th>\n      <th>attention_mask</th>\n    </tr>\n  </thead>\n  <tbody>\n    <tr>\n      <th>0</th>\n      <td>### Question:\\nThere is a two-digit natural nu...</td>\n      <td>[128000, 14711, 16225, 512, 3947, 374, 264, 14...</td>\n      <td>[1, 1, 1, 1, 1, 1, 1, 1, 1, 1, 1, 1, 1, 1, 1, ...</td>\n    </tr>\n    <tr>\n      <th>1</th>\n      <td>### Question:\\nIn a big box, there are marbles...</td>\n      <td>[128000, 14711, 16225, 512, 644, 264, 2466, 38...</td>\n      <td>[1, 1, 1, 1, 1, 1, 1, 1, 1, 1, 1, 1, 1, 1, 1, ...</td>\n    </tr>\n    <tr>\n      <th>2</th>\n      <td>### Question:\\nAdam goes to a small school, wh...</td>\n      <td>[128004, 128004, 128004, 128004, 128004, 12800...</td>\n      <td>[0, 0, 0, 0, 0, 0, 0, 0, 0, 0, 0, 0, 0, 0, 0, ...</td>\n    </tr>\n    <tr>\n      <th>3</th>\n      <td>### Question:\\nLisa is looking to attempt a Wo...</td>\n      <td>[128004, 128004, 128004, 128004, 128004, 12800...</td>\n      <td>[0, 0, 0, 0, 0, 0, 0, 0, 0, 0, 0, 0, 0, 0, 0, ...</td>\n    </tr>\n    <tr>\n      <th>4</th>\n      <td>### Question:\\nThere is a rectangular-shaped p...</td>\n      <td>[128000, 14711, 16225, 512, 3947, 374, 264, 52...</td>\n      <td>[1, 1, 1, 1, 1, 1, 1, 1, 1, 1, 1, 1, 1, 1, 1, ...</td>\n    </tr>\n  </tbody>\n</table>\n</div>"
          },
          "metadata": {}
        }
      ],
      "execution_count": null
    },
    {
      "cell_type": "code",
      "source": [
        "print(train_dataset[0]['prompt'])"
      ],
      "metadata": {
        "id": "6PxxrK5Rd4gk",
        "trusted": true,
        "execution": {
          "iopub.status.busy": "2024-12-14T05:25:58.453456Z",
          "iopub.execute_input": "2024-12-14T05:25:58.453713Z",
          "iopub.status.idle": "2024-12-14T05:25:58.458751Z",
          "shell.execute_reply.started": "2024-12-14T05:25:58.453683Z",
          "shell.execute_reply": "2024-12-14T05:25:58.457789Z"
        },
        "outputId": "cd72303a-7953-4d58-9725-1c67f2afaa6a"
      },
      "outputs": [
        {
          "name": "stdout",
          "text": "### Question:\nThere is a two-digit natural number whose tens place is 3. Let A and B be the quotient of this number by 10 and the remainder of division by 10, respectively. If B multiplied by 10 plus A is 9 less than A multiplied by 10 plus B, what is the first number?\n### Answer:\nLet's denote the two-digit number as \\( XY \\), where \\( X \\) is the digit in the tens place and \\( Y \\) is the digit in the ones place. Since the tens place is 3, we have \\( X = 3 \\).\n\nAccording to the problem, \\( A \\) is the quotient of the number by 10, and \\( B \\) is the remainder of the division by 10. Therefore, \\( A = X = 3 \\) and \\( B = Y \\).\n\nThe problem states that \\( B \\times 10 + A \\) is 9 less than \\( A \\times 10 + B \\). This can be written as an equation:\n\n\\[ B \\times 10 + A = A \\times 10 + B - 9 \\]\n\nSubstituting \\( A \\) and \\( B \\) with \\( 3 \\) and \\( Y \\), respectively, we get:\n\n\\[ Y \\times 10 + 3 = 3 \\times 10 + Y - 9 \\]\n\nSimplifying the equation:\n\n\\[ 10Y + 3 = 30 + Y - 9 \\]\n\n\\[ 10Y + 3 = Y + 21 \\]\n\nSubtract \\( Y \\) from both sides:\n\n\\[ 9Y + 3 = 21 \\]\n\nSubtract 3 from both sides:\n\n\\[ 9Y = 18 \\]\n\nDivide both sides by 9:\n\n\\[ Y = 2 \\]\n\nSo the ones place digit is 2. Since we already know the tens place digit is 3, the two-digit number is \\( 32 \\).<|eot_id|>\n",
          "output_type": "stream"
        }
      ],
      "execution_count": null
    },
    {
      "cell_type": "code",
      "source": [
        "print(train_dataset[0]['input_ids'])"
      ],
      "metadata": {
        "id": "HR79ppIiE78f",
        "trusted": true,
        "execution": {
          "iopub.status.busy": "2024-12-14T05:25:58.459805Z",
          "iopub.execute_input": "2024-12-14T05:25:58.460055Z",
          "iopub.status.idle": "2024-12-14T05:25:58.470289Z",
          "shell.execute_reply.started": "2024-12-14T05:25:58.460030Z",
          "shell.execute_reply": "2024-12-14T05:25:58.469529Z"
        },
        "outputId": "c7804c6d-e7f1-4630-9c46-52e5d7ba6223"
      },
      "outputs": [
        {
          "name": "stdout",
          "text": "[128000, 14711, 16225, 512, 3947, 374, 264, 1403, 49442, 5933, 1396, 6832, 22781, 2035, 374, 220, 18, 13, 6914, 362, 323, 426, 387, 279, 75862, 315, 420, 1396, 555, 220, 605, 323, 279, 27410, 315, 13096, 555, 220, 605, 11, 15947, 13, 1442, 426, 56016, 555, 220, 605, 5636, 362, 374, 220, 24, 2753, 1109, 362, 56016, 555, 220, 605, 5636, 426, 11, 1148, 374, 279, 1176, 1396, 5380, 14711, 22559, 512, 10267, 596, 79164, 279, 1403, 49442, 1396, 439, 18240, 58419, 1144, 705, 1405, 18240, 1630, 1144, 8, 374, 279, 16099, 304, 279, 22781, 2035, 323, 18240, 816, 1144, 8, 374, 279, 16099, 304, 279, 6305, 2035, 13, 8876, 279, 22781, 2035, 374, 220, 18, 11, 584, 617, 18240, 1630, 284, 220, 18, 1144, 3677, 11439, 311, 279, 3575, 11, 18240, 362, 1144, 8, 374, 279, 75862, 315, 279, 1396, 555, 220, 605, 11, 323, 18240, 426, 1144, 8, 374, 279, 27410, 315, 279, 13096, 555, 220, 605, 13, 15636, 11, 18240, 362, 284, 1630, 284, 220, 18, 1144, 8, 323, 18240, 426, 284, 816, 1144, 3677, 791, 3575, 5415, 430, 18240, 426, 1144, 15487, 220, 605, 489, 362, 1144, 8, 374, 220, 24, 2753, 1109, 18240, 362, 1144, 15487, 220, 605, 489, 426, 1144, 570, 1115, 649, 387, 5439, 439, 459, 24524, 1473, 79145, 426, 1144, 15487, 220, 605, 489, 362, 284, 362, 1144, 15487, 220, 605, 489, 426, 482, 220, 24, 1144, 2595, 3214, 3781, 10831, 18240, 362, 1144, 8, 323, 18240, 426, 1144, 8, 449, 18240, 220, 18, 1144, 8, 323, 18240, 816, 1144, 705, 15947, 11, 584, 636, 1473, 79145, 816, 1144, 15487, 220, 605, 489, 220, 18, 284, 220, 18, 1144, 15487, 220, 605, 489, 816, 482, 220, 24, 1144, 2595, 50, 6517, 7922, 279, 24524, 1473, 79145, 220, 605, 56, 489, 220, 18, 284, 220, 966, 489, 816, 482, 220, 24, 1144, 2595, 79145, 220, 605, 56, 489, 220, 18, 284, 816, 489, 220, 1691, 1144, 2595, 3214, 2193, 18240, 816, 1144, 8, 505, 2225, 11314, 1473, 79145, 220, 24, 56, 489, 220, 18, 284, 220, 1691, 1144, 2595, 3214, 2193, 220, 18, 505, 2225, 11314, 1473, 79145, 220, 24, 56, 284, 220, 972, 1144, 2595, 12792, 579, 2225, 11314, 555, 220, 24, 1473, 79145, 816, 284, 220, 17, 1144, 2595, 4516, 279, 6305, 2035, 16099, 374]\n",
          "output_type": "stream"
        }
      ],
      "execution_count": null
    },
    {
      "cell_type": "code",
      "source": [
        "print(train_dataset[0]['attention_mask'])"
      ],
      "metadata": {
        "id": "xGmCvvZTE82D",
        "trusted": true,
        "execution": {
          "iopub.status.busy": "2024-12-14T05:25:58.471496Z",
          "iopub.execute_input": "2024-12-14T05:25:58.471739Z",
          "iopub.status.idle": "2024-12-14T05:25:58.481426Z",
          "shell.execute_reply.started": "2024-12-14T05:25:58.471715Z",
          "shell.execute_reply": "2024-12-14T05:25:58.480748Z"
        },
        "outputId": "3e06b62f-5dca-41a3-9a08-5a27e767b856"
      },
      "outputs": [
        {
          "name": "stdout",
          "text": "[1, 1, 1, 1, 1, 1, 1, 1, 1, 1, 1, 1, 1, 1, 1, 1, 1, 1, 1, 1, 1, 1, 1, 1, 1, 1, 1, 1, 1, 1, 1, 1, 1, 1, 1, 1, 1, 1, 1, 1, 1, 1, 1, 1, 1, 1, 1, 1, 1, 1, 1, 1, 1, 1, 1, 1, 1, 1, 1, 1, 1, 1, 1, 1, 1, 1, 1, 1, 1, 1, 1, 1, 1, 1, 1, 1, 1, 1, 1, 1, 1, 1, 1, 1, 1, 1, 1, 1, 1, 1, 1, 1, 1, 1, 1, 1, 1, 1, 1, 1, 1, 1, 1, 1, 1, 1, 1, 1, 1, 1, 1, 1, 1, 1, 1, 1, 1, 1, 1, 1, 1, 1, 1, 1, 1, 1, 1, 1, 1, 1, 1, 1, 1, 1, 1, 1, 1, 1, 1, 1, 1, 1, 1, 1, 1, 1, 1, 1, 1, 1, 1, 1, 1, 1, 1, 1, 1, 1, 1, 1, 1, 1, 1, 1, 1, 1, 1, 1, 1, 1, 1, 1, 1, 1, 1, 1, 1, 1, 1, 1, 1, 1, 1, 1, 1, 1, 1, 1, 1, 1, 1, 1, 1, 1, 1, 1, 1, 1, 1, 1, 1, 1, 1, 1, 1, 1, 1, 1, 1, 1, 1, 1, 1, 1, 1, 1, 1, 1, 1, 1, 1, 1, 1, 1, 1, 1, 1, 1, 1, 1, 1, 1, 1, 1, 1, 1, 1, 1, 1, 1, 1, 1, 1, 1, 1, 1, 1, 1, 1, 1, 1, 1, 1, 1, 1, 1, 1, 1, 1, 1, 1, 1, 1, 1, 1, 1, 1, 1, 1, 1, 1, 1, 1, 1, 1, 1, 1, 1, 1, 1, 1, 1, 1, 1, 1, 1, 1, 1, 1, 1, 1, 1, 1, 1, 1, 1, 1, 1, 1, 1, 1, 1, 1, 1, 1, 1, 1, 1, 1, 1, 1, 1, 1, 1, 1, 1, 1, 1, 1, 1, 1, 1, 1, 1, 1, 1, 1, 1, 1, 1, 1, 1, 1, 1, 1, 1, 1, 1, 1, 1, 1, 1, 1, 1, 1, 1, 1, 1, 1, 1, 1, 1, 1, 1, 1, 1, 1, 1, 1, 1, 1, 1, 1, 1, 1, 1, 1, 1, 1, 1, 1, 1, 1, 1, 1, 1, 1, 1, 1, 1, 1, 1, 1, 1]\n",
          "output_type": "stream"
        }
      ],
      "execution_count": null
    },
    {
      "cell_type": "markdown",
      "source": [
        "## 06 Data Collator Set Up"
      ],
      "metadata": {
        "id": "JFX4u0vc0UkS"
      }
    },
    {
      "cell_type": "code",
      "source": [
        "#data_collator = DataCollatorWithPadding(tokenizer = tokenizer)\n",
        "#data_collator = DataCollatorForSeq2Seq(tokenizer = tokenizer)\n",
        "data_collator = DataCollatorForLanguageModeling(tokenizer = tokenizer, mlm = False)"
      ],
      "metadata": {
        "id": "F-mkiTYw0cZi",
        "trusted": true,
        "execution": {
          "iopub.status.busy": "2024-12-14T05:25:58.482576Z",
          "iopub.execute_input": "2024-12-14T05:25:58.483383Z",
          "iopub.status.idle": "2024-12-14T05:25:58.491814Z",
          "shell.execute_reply.started": "2024-12-14T05:25:58.483339Z",
          "shell.execute_reply": "2024-12-14T05:25:58.490959Z"
        }
      },
      "outputs": [],
      "execution_count": null
    },
    {
      "cell_type": "markdown",
      "source": [
        "## 07 Evaluation Metrics Set Up"
      ],
      "metadata": {
        "id": "hP1Mu0J6CTCb"
      }
    },
    {
      "cell_type": "code",
      "source": [
        "def compute_metrics(p: EvalPrediction):\n",
        "  preds = np.argmax(p.predictions, axis = 1)\n",
        "  precision, recall, f1, _ = precision_recall_fscore_support(\n",
        "    p.label_ids,\n",
        "    preds,\n",
        "    average = 'weighted'\n",
        "  )\n",
        "  matrix = {\n",
        "    'accuracy': accuracy_score(p.label_ids, preds),\n",
        "    'f1': f1, 'precision': precision,\n",
        "    'recall': recall\n",
        "  }\n",
        "  return matrix"
      ],
      "metadata": {
        "id": "wzNdWpCI0c7a",
        "trusted": true,
        "execution": {
          "iopub.status.busy": "2024-12-14T05:25:58.492780Z",
          "iopub.execute_input": "2024-12-14T05:25:58.493060Z",
          "iopub.status.idle": "2024-12-14T05:25:58.505614Z",
          "shell.execute_reply.started": "2024-12-14T05:25:58.493029Z",
          "shell.execute_reply": "2024-12-14T05:25:58.504799Z"
        }
      },
      "outputs": [],
      "execution_count": null
    },
    {
      "cell_type": "code",
      "source": [
        "torch.cuda.empty_cache()"
      ],
      "metadata": {
        "id": "tEkgHY4fxFIJ",
        "trusted": true,
        "execution": {
          "iopub.status.busy": "2024-12-14T05:25:58.506604Z",
          "iopub.execute_input": "2024-12-14T05:25:58.506847Z",
          "iopub.status.idle": "2024-12-14T05:25:58.515862Z",
          "shell.execute_reply.started": "2024-12-14T05:25:58.506823Z",
          "shell.execute_reply": "2024-12-14T05:25:58.515026Z"
        }
      },
      "outputs": [],
      "execution_count": null
    },
    {
      "cell_type": "markdown",
      "source": [
        "## 08 Set Up PEFT / LoRA / QLoRA"
      ],
      "metadata": {
        "id": "VLFCnU8-ZoUa"
      }
    },
    {
      "cell_type": "code",
      "source": [
        "lora_alpha = 16\n",
        "lora_dropout = 0.1\n",
        "lora_r = 32\n",
        "target_modules = [\"q_proj\", \"k_proj\", \"v_proj\", \"o_proj\",\n",
        "                  \"gate_proj\", \"up_proj\", \"down_proj\",]\n",
        "\n",
        "#target_modules = [\"qkv_proj\", \"proj_1\", \"proj_2\", \"out_proj\"]\n",
        "\n",
        "peft_config = LoraConfig(\n",
        "  lora_alpha = lora_alpha,\n",
        "  lora_dropout = lora_dropout,\n",
        "  r = lora_r,\n",
        "  bias = 'none',\n",
        "  task_type = 'CAUSAL_LM',\n",
        "  target_modules = target_modules,\n",
        ")"
      ],
      "metadata": {
        "id": "67HK09faZqQh",
        "trusted": true,
        "execution": {
          "iopub.status.busy": "2024-12-14T05:25:58.516728Z",
          "iopub.execute_input": "2024-12-14T05:25:58.516973Z",
          "iopub.status.idle": "2024-12-14T05:25:58.526249Z",
          "shell.execute_reply.started": "2024-12-14T05:25:58.516948Z",
          "shell.execute_reply": "2024-12-14T05:25:58.525568Z"
        }
      },
      "outputs": [],
      "execution_count": null
    },
    {
      "cell_type": "code",
      "source": [
        "peft_model = get_peft_model(model, peft_config, adapter_name = 'LoRA')\n",
        "peft_model.print_trainable_parameters()"
      ],
      "metadata": {
        "id": "3ZPOifXCZuhg",
        "trusted": true,
        "execution": {
          "iopub.status.busy": "2024-12-14T05:25:58.527099Z",
          "iopub.execute_input": "2024-12-14T05:25:58.527356Z",
          "iopub.status.idle": "2024-12-14T05:25:59.647613Z",
          "shell.execute_reply.started": "2024-12-14T05:25:58.527332Z",
          "shell.execute_reply": "2024-12-14T05:25:59.646711Z"
        },
        "outputId": "58243d2b-2ff9-41d9-9de6-13644ae440bc"
      },
      "outputs": [
        {
          "name": "stdout",
          "text": "trainable params: 83,886,080 || all params: 8,114,147,328 || trainable%: 1.0338\n",
          "output_type": "stream"
        }
      ],
      "execution_count": null
    },
    {
      "cell_type": "markdown",
      "source": [
        "## 09 Training Model"
      ],
      "metadata": {
        "id": "CVr-LToX1XCl"
      }
    },
    {
      "cell_type": "code",
      "source": [
        "total_params = sum(p.numel() for p in model.parameters())\n",
        "trainable_params = sum(p.numel() for p in model.parameters() if p.requires_grad)\n",
        "trainable_percentage = (trainable_params / total_params) * 100\n",
        "\n",
        "print('Total parameters :', total_params)\n",
        "print('Trainable parameters :', trainable_params)\n",
        "print('Trainable percentage: {:.2f}%'.format(trainable_percentage))"
      ],
      "metadata": {
        "id": "uhliEMyp1thd",
        "trusted": true,
        "execution": {
          "iopub.status.busy": "2024-12-14T05:25:59.648913Z",
          "iopub.execute_input": "2024-12-14T05:25:59.649530Z",
          "iopub.status.idle": "2024-12-14T05:25:59.665746Z",
          "shell.execute_reply.started": "2024-12-14T05:25:59.649482Z",
          "shell.execute_reply": "2024-12-14T05:25:59.664954Z"
        },
        "outputId": "8f730083-74a7-4f58-fc49-b5cf66c90eac"
      },
      "outputs": [
        {
          "name": "stdout",
          "text": "Total parameters : 4624486400\nTrainable parameters : 83886080\nTrainable percentage: 1.81%\n",
          "output_type": "stream"
        }
      ],
      "execution_count": null
    },
    {
      "cell_type": "code",
      "source": [
        "torch.cuda.empty_cache()"
      ],
      "metadata": {
        "id": "Xn5zb6xWJtu-",
        "trusted": true,
        "execution": {
          "iopub.status.busy": "2024-12-14T05:25:59.666804Z",
          "iopub.execute_input": "2024-12-14T05:25:59.667086Z",
          "iopub.status.idle": "2024-12-14T05:25:59.676984Z",
          "shell.execute_reply.started": "2024-12-14T05:25:59.667057Z",
          "shell.execute_reply": "2024-12-14T05:25:59.676018Z"
        }
      },
      "outputs": [],
      "execution_count": null
    },
    {
      "cell_type": "code",
      "source": [
        "save_path = './model'\n",
        "\n",
        "batch_size = 1\n",
        "max_steps = 200\n",
        "training_args = TrainingArguments(\n",
        "  output_dir = save_path,\n",
        "  gradient_accumulation_steps = 4,\n",
        "  evaluation_strategy = 'steps',\n",
        "  do_eval = True,\n",
        "  per_device_train_batch_size = batch_size,\n",
        "  per_device_eval_batch_size = 4,\n",
        "  log_level = 'debug',\n",
        "  save_strategy = 'no',\n",
        "  save_total_limit = 2,\n",
        "  save_safetensors = False,\n",
        "  fp16 = True,\n",
        "  logging_steps = 20,\n",
        "  learning_rate = 2e-5,\n",
        "  eval_steps = 20,\n",
        "  max_steps = max_steps,\n",
        "  warmup_steps = 30,\n",
        "  lr_scheduler_type = 'cosine',\n",
        ")\n",
        "training_args"
      ],
      "metadata": {
        "id": "93ffvb0d4cG6",
        "trusted": true,
        "execution": {
          "iopub.status.busy": "2024-12-14T05:25:59.678166Z",
          "iopub.execute_input": "2024-12-14T05:25:59.678853Z",
          "iopub.status.idle": "2024-12-14T05:25:59.721950Z",
          "shell.execute_reply.started": "2024-12-14T05:25:59.678817Z",
          "shell.execute_reply": "2024-12-14T05:25:59.721058Z"
        },
        "outputId": "8e44c8e8-7e32-4bb3-9bca-4b9cb49d6bb2"
      },
      "outputs": [
        {
          "name": "stderr",
          "text": "/opt/conda/lib/python3.10/site-packages/transformers/training_args.py:1568: FutureWarning: `evaluation_strategy` is deprecated and will be removed in version 4.46 of 🤗 Transformers. Use `eval_strategy` instead\n  warnings.warn(\n",
          "output_type": "stream"
        },
        {
          "execution_count": 36,
          "output_type": "execute_result",
          "data": {
            "text/plain": "TrainingArguments(\n_n_gpu=1,\naccelerator_config={'split_batches': False, 'dispatch_batches': None, 'even_batches': True, 'use_seedable_sampler': True, 'non_blocking': False, 'gradient_accumulation_kwargs': None, 'use_configured_state': False},\nadafactor=False,\nadam_beta1=0.9,\nadam_beta2=0.999,\nadam_epsilon=1e-08,\nauto_find_batch_size=False,\naverage_tokens_across_devices=False,\nbatch_eval_metrics=False,\nbf16=False,\nbf16_full_eval=False,\ndata_seed=None,\ndataloader_drop_last=False,\ndataloader_num_workers=0,\ndataloader_persistent_workers=False,\ndataloader_pin_memory=True,\ndataloader_prefetch_factor=None,\nddp_backend=None,\nddp_broadcast_buffers=None,\nddp_bucket_cap_mb=None,\nddp_find_unused_parameters=None,\nddp_timeout=1800,\ndebug=[],\ndeepspeed=None,\ndisable_tqdm=False,\ndispatch_batches=None,\ndo_eval=True,\ndo_predict=False,\ndo_train=False,\neval_accumulation_steps=None,\neval_delay=0,\neval_do_concat_batches=True,\neval_on_start=False,\neval_steps=20,\neval_strategy=steps,\neval_use_gather_object=False,\nevaluation_strategy=steps,\nfp16=True,\nfp16_backend=auto,\nfp16_full_eval=False,\nfp16_opt_level=O1,\nfsdp=[],\nfsdp_config={'min_num_params': 0, 'xla': False, 'xla_fsdp_v2': False, 'xla_fsdp_grad_ckpt': False},\nfsdp_min_num_params=0,\nfsdp_transformer_layer_cls_to_wrap=None,\nfull_determinism=False,\ngradient_accumulation_steps=4,\ngradient_checkpointing=False,\ngradient_checkpointing_kwargs=None,\ngreater_is_better=None,\ngroup_by_length=False,\nhalf_precision_backend=auto,\nhub_always_push=False,\nhub_model_id=None,\nhub_private_repo=False,\nhub_strategy=every_save,\nhub_token=<HUB_TOKEN>,\nignore_data_skip=False,\ninclude_for_metrics=[],\ninclude_inputs_for_metrics=False,\ninclude_num_input_tokens_seen=False,\ninclude_tokens_per_second=False,\njit_mode_eval=False,\nlabel_names=None,\nlabel_smoothing_factor=0.0,\nlearning_rate=2e-05,\nlength_column_name=length,\nload_best_model_at_end=False,\nlocal_rank=0,\nlog_level=debug,\nlog_level_replica=warning,\nlog_on_each_node=True,\nlogging_dir=./model/runs/Dec14_05-25-59_9bb16ce33c9a,\nlogging_first_step=False,\nlogging_nan_inf_filter=True,\nlogging_steps=20,\nlogging_strategy=steps,\nlr_scheduler_kwargs={},\nlr_scheduler_type=cosine,\nmax_grad_norm=1.0,\nmax_steps=200,\nmetric_for_best_model=None,\nmp_parameters=,\nneftune_noise_alpha=None,\nno_cuda=False,\nnum_train_epochs=3.0,\noptim=adamw_torch,\noptim_args=None,\noptim_target_modules=None,\noutput_dir=./model,\noverwrite_output_dir=False,\npast_index=-1,\nper_device_eval_batch_size=4,\nper_device_train_batch_size=1,\nprediction_loss_only=False,\npush_to_hub=False,\npush_to_hub_model_id=None,\npush_to_hub_organization=None,\npush_to_hub_token=<PUSH_TO_HUB_TOKEN>,\nray_scope=last,\nremove_unused_columns=True,\nreport_to=['tensorboard', 'wandb'],\nrestore_callback_states_from_checkpoint=False,\nresume_from_checkpoint=None,\nrun_name=./model,\nsave_on_each_node=False,\nsave_only_model=False,\nsave_safetensors=False,\nsave_steps=500,\nsave_strategy=no,\nsave_total_limit=2,\nseed=42,\nskip_memory_metrics=True,\nsplit_batches=None,\ntf32=None,\ntorch_compile=False,\ntorch_compile_backend=None,\ntorch_compile_mode=None,\ntorch_empty_cache_steps=None,\ntorchdynamo=None,\ntpu_metrics_debug=False,\ntpu_num_cores=None,\nuse_cpu=False,\nuse_ipex=False,\nuse_legacy_prediction_loop=False,\nuse_liger_kernel=False,\nuse_mps_device=False,\nwarmup_ratio=0.0,\nwarmup_steps=30,\nweight_decay=0.0,\n)"
          },
          "metadata": {}
        }
      ],
      "execution_count": null
    },
    {
      "cell_type": "code",
      "source": [
        "trainer = SFTTrainer(\n",
        "  model = model,\n",
        "  train_dataset = train_dataset,#.select(range(10000)),\n",
        "  eval_dataset = test_dataset.select(range(200)),\n",
        "  dataset_text_field = 'prompt',\n",
        "  max_seq_length = max_length,\n",
        "  tokenizer = tokenizer,\n",
        "  args = training_args,\n",
        "  peft_config = peft_config,\n",
        ")\n",
        "trainer"
      ],
      "metadata": {
        "id": "EsKeJE3SMdk7",
        "trusted": true,
        "execution": {
          "iopub.status.busy": "2024-12-14T05:25:59.723090Z",
          "iopub.execute_input": "2024-12-14T05:25:59.723410Z",
          "iopub.status.idle": "2024-12-14T05:26:01.329570Z",
          "shell.execute_reply.started": "2024-12-14T05:25:59.723381Z",
          "shell.execute_reply": "2024-12-14T05:26:01.328827Z"
        },
        "outputId": "ad34c59e-ae33-4150-ac0f-a114ded7ad57"
      },
      "outputs": [
        {
          "name": "stderr",
          "text": "/opt/conda/lib/python3.10/site-packages/huggingface_hub/utils/_deprecation.py:100: FutureWarning: Deprecated argument(s) used in '__init__': dataset_text_field, max_seq_length. Will not be supported from version '0.13.0'.\n\nDeprecated positional argument(s) used in SFTTrainer, please use the SFTConfig to set these arguments instead.\n  warnings.warn(message, FutureWarning)\n/opt/conda/lib/python3.10/site-packages/transformers/training_args.py:1568: FutureWarning: `evaluation_strategy` is deprecated and will be removed in version 4.46 of 🤗 Transformers. Use `eval_strategy` instead\n  warnings.warn(\n/opt/conda/lib/python3.10/site-packages/transformers/training_args.py:1568: FutureWarning: `evaluation_strategy` is deprecated and will be removed in version 4.46 of 🤗 Transformers. Use `eval_strategy` instead\n  warnings.warn(\n/opt/conda/lib/python3.10/site-packages/trl/trainer/sft_trainer.py:300: UserWarning: You passed a `max_seq_length` argument to the SFTTrainer, the value you passed will override the one in the `SFTConfig`.\n  warnings.warn(\n/opt/conda/lib/python3.10/site-packages/trl/trainer/sft_trainer.py:328: UserWarning: You passed a `dataset_text_field` argument to the SFTTrainer, the value you passed will override the one in the `SFTConfig`.\n  warnings.warn(\n/opt/conda/lib/python3.10/site-packages/trl/trainer/sft_trainer.py:403: UserWarning: You passed a processing_class with `padding_side` not equal to `right` to the SFTTrainer. This might lead to some unexpected behaviour due to overflow issues when training a model in half-precision. You might consider adding `processing_class.padding_side = 'right'` to your code.\n  warnings.warn(\nmax_steps is given, it will override any value given in num_train_epochs\nUsing auto half precision backend\n",
          "output_type": "stream"
        },
        {
          "execution_count": 37,
          "output_type": "execute_result",
          "data": {
            "text/plain": "<trl.trainer.sft_trainer.SFTTrainer at 0x7e3b10257e20>"
          },
          "metadata": {}
        }
      ],
      "execution_count": null
    },
    {
      "cell_type": "code",
      "source": [
        "trainer.train()"
      ],
      "metadata": {
        "id": "MZVoQX8V1cI3",
        "trusted": true,
        "execution": {
          "iopub.status.busy": "2024-12-14T05:26:01.330471Z",
          "iopub.execute_input": "2024-12-14T05:26:01.330704Z",
          "iopub.status.idle": "2024-12-14T06:33:06.720851Z",
          "shell.execute_reply.started": "2024-12-14T05:26:01.330680Z",
          "shell.execute_reply": "2024-12-14T06:33:06.719954Z"
        }
      },
      "outputs": [],
      "execution_count": null
    },
    {
      "cell_type": "markdown",
      "source": [
        "## 10 Model Evaluation"
      ],
      "metadata": {
        "id": "v5N6fZsU1xiG"
      }
    },
    {
      "cell_type": "code",
      "source": [
        "evaluation_results = trainer.evaluate()\n",
        "print('Evaluation Results:', evaluation_results)"
      ],
      "metadata": {
        "id": "5d6DT3o0113O",
        "trusted": true,
        "execution": {
          "iopub.status.busy": "2024-12-14T06:33:06.722064Z",
          "iopub.execute_input": "2024-12-14T06:33:06.722372Z",
          "iopub.status.idle": "2024-12-14T06:36:27.308898Z",
          "shell.execute_reply.started": "2024-12-14T06:33:06.722344Z",
          "shell.execute_reply": "2024-12-14T06:36:27.308000Z"
        }
      },
      "outputs": [],
      "execution_count": null
    },
    {
      "cell_type": "markdown",
      "source": [
        "## 11 Save Model"
      ],
      "metadata": {
        "id": "PjTPWhCj4JQj"
      }
    },
    {
      "cell_type": "code",
      "source": [
        "save_model = trainer.model.module if hasattr(trainer.model, 'module') else trainer.model\n",
        "save_model.save_pretrained(save_path)"
      ],
      "metadata": {
        "id": "OKAmko8h2VeV",
        "trusted": true,
        "execution": {
          "iopub.status.busy": "2024-12-14T06:36:27.310049Z",
          "iopub.execute_input": "2024-12-14T06:36:27.310397Z",
          "iopub.status.idle": "2024-12-14T06:36:29.629597Z",
          "shell.execute_reply.started": "2024-12-14T06:36:27.310367Z",
          "shell.execute_reply": "2024-12-14T06:36:29.628806Z"
        },
        "outputId": "4c106bda-b60d-4ff7-8c9b-7b6300602983"
      },
      "outputs": [
        {
          "name": "stderr",
          "text": "loading configuration file config.json from cache at /root/.cache/huggingface/hub/models--unsloth--Meta-Llama-3.1-8B-Instruct/snapshots/da09a334d51a646967eec17cb412575702b3d767/config.json\nModel config LlamaConfig {\n  \"_name_or_path\": \"unsloth/Meta-Llama-3.1-8B-Instruct\",\n  \"architectures\": [\n    \"LlamaForCausalLM\"\n  ],\n  \"attention_bias\": false,\n  \"attention_dropout\": 0.0,\n  \"bos_token_id\": 128000,\n  \"eos_token_id\": [\n    128001,\n    128008,\n    128009\n  ],\n  \"head_dim\": 128,\n  \"hidden_act\": \"silu\",\n  \"hidden_size\": 4096,\n  \"initializer_range\": 0.02,\n  \"intermediate_size\": 14336,\n  \"max_position_embeddings\": 131072,\n  \"mlp_bias\": false,\n  \"model_type\": \"llama\",\n  \"num_attention_heads\": 32,\n  \"num_hidden_layers\": 32,\n  \"num_key_value_heads\": 8,\n  \"pad_token_id\": 128004,\n  \"pretraining_tp\": 1,\n  \"rms_norm_eps\": 1e-05,\n  \"rope_scaling\": {\n    \"factor\": 8.0,\n    \"high_freq_factor\": 4.0,\n    \"low_freq_factor\": 1.0,\n    \"original_max_position_embeddings\": 8192,\n    \"rope_type\": \"llama3\"\n  },\n  \"rope_theta\": 500000.0,\n  \"tie_word_embeddings\": false,\n  \"torch_dtype\": \"bfloat16\",\n  \"transformers_version\": \"4.46.3\",\n  \"unsloth_version\": \"2024.9\",\n  \"use_cache\": true,\n  \"vocab_size\": 128256\n}\n\nloading configuration file config.json from cache at /root/.cache/huggingface/hub/models--unsloth--Meta-Llama-3.1-8B-Instruct/snapshots/da09a334d51a646967eec17cb412575702b3d767/config.json\nModel config LlamaConfig {\n  \"_name_or_path\": \"unsloth/Meta-Llama-3.1-8B-Instruct\",\n  \"architectures\": [\n    \"LlamaForCausalLM\"\n  ],\n  \"attention_bias\": false,\n  \"attention_dropout\": 0.0,\n  \"bos_token_id\": 128000,\n  \"eos_token_id\": [\n    128001,\n    128008,\n    128009\n  ],\n  \"head_dim\": 128,\n  \"hidden_act\": \"silu\",\n  \"hidden_size\": 4096,\n  \"initializer_range\": 0.02,\n  \"intermediate_size\": 14336,\n  \"max_position_embeddings\": 131072,\n  \"mlp_bias\": false,\n  \"model_type\": \"llama\",\n  \"num_attention_heads\": 32,\n  \"num_hidden_layers\": 32,\n  \"num_key_value_heads\": 8,\n  \"pad_token_id\": 128004,\n  \"pretraining_tp\": 1,\n  \"rms_norm_eps\": 1e-05,\n  \"rope_scaling\": {\n    \"factor\": 8.0,\n    \"high_freq_factor\": 4.0,\n    \"low_freq_factor\": 1.0,\n    \"original_max_position_embeddings\": 8192,\n    \"rope_type\": \"llama3\"\n  },\n  \"rope_theta\": 500000.0,\n  \"tie_word_embeddings\": false,\n  \"torch_dtype\": \"bfloat16\",\n  \"transformers_version\": \"4.46.3\",\n  \"unsloth_version\": \"2024.9\",\n  \"use_cache\": true,\n  \"vocab_size\": 128256\n}\n\n",
          "output_type": "stream"
        }
      ],
      "execution_count": null
    },
    {
      "cell_type": "markdown",
      "source": [
        "## 12 Load PEFT Model"
      ],
      "metadata": {
        "id": "3NhWAM5h9Rn5"
      }
    },
    {
      "cell_type": "code",
      "source": [
        "torch.cuda.empty_cache()"
      ],
      "metadata": {
        "id": "dlTaH2HoC26T",
        "trusted": true,
        "execution": {
          "iopub.status.busy": "2024-12-14T06:36:29.635481Z",
          "iopub.execute_input": "2024-12-14T06:36:29.635824Z",
          "iopub.status.idle": "2024-12-14T06:36:29.777846Z",
          "shell.execute_reply.started": "2024-12-14T06:36:29.635795Z",
          "shell.execute_reply": "2024-12-14T06:36:29.777058Z"
        }
      },
      "outputs": [],
      "execution_count": null
    },
    {
      "cell_type": "code",
      "source": [
        "peft_path = save_path + '/LoRA'\n",
        "peft_path"
      ],
      "metadata": {
        "trusted": true,
        "execution": {
          "iopub.status.busy": "2024-12-14T06:36:29.778740Z",
          "iopub.execute_input": "2024-12-14T06:36:29.778986Z",
          "iopub.status.idle": "2024-12-14T06:36:30.466908Z",
          "shell.execute_reply.started": "2024-12-14T06:36:29.778960Z",
          "shell.execute_reply": "2024-12-14T06:36:30.465816Z"
        },
        "id": "kiQS9rHdW9Ws",
        "outputId": "b2565e54-742f-4613-9009-63edf6695959"
      },
      "outputs": [
        {
          "execution_count": 42,
          "output_type": "execute_result",
          "data": {
            "text/plain": "'./model/LoRA'"
          },
          "metadata": {}
        }
      ],
      "execution_count": null
    },
    {
      "cell_type": "code",
      "source": [
        "peft_model = PeftModel.from_pretrained(model, peft_path)"
      ],
      "metadata": {
        "id": "Nz2HT8nb9XJa",
        "trusted": true,
        "execution": {
          "iopub.status.busy": "2024-12-14T06:36:30.468104Z",
          "iopub.execute_input": "2024-12-14T06:36:30.468522Z",
          "iopub.status.idle": "2024-12-14T06:36:32.590840Z",
          "shell.execute_reply.started": "2024-12-14T06:36:30.468477Z",
          "shell.execute_reply": "2024-12-14T06:36:32.590117Z"
        }
      },
      "outputs": [],
      "execution_count": null
    },
    {
      "cell_type": "markdown",
      "source": [
        "## 13 Reload & Recheck Base Model"
      ],
      "metadata": {
        "id": "dBZh-59GW9Ws"
      }
    },
    {
      "cell_type": "code",
      "source": [
        "model = load_model(model_name, base = False)\n",
        "model"
      ],
      "metadata": {
        "trusted": true,
        "execution": {
          "iopub.status.busy": "2024-12-14T06:36:32.591914Z",
          "iopub.execute_input": "2024-12-14T06:36:32.592184Z",
          "iopub.status.idle": "2024-12-14T06:38:06.898534Z",
          "shell.execute_reply.started": "2024-12-14T06:36:32.592156Z",
          "shell.execute_reply": "2024-12-14T06:38:06.897852Z"
        },
        "id": "bieD-07PW9Ws"
      },
      "outputs": [],
      "execution_count": null
    },
    {
      "cell_type": "code",
      "source": [
        "total_params = sum(p.numel() for p in model.parameters())\n",
        "trainable_params = sum(p.numel() for p in model.parameters() if p.requires_grad)\n",
        "trainable_percentage = (trainable_params / total_params) * 100\n",
        "\n",
        "print('Total parameters :', total_params)\n",
        "print('Trainable parameters :', trainable_params)\n",
        "print('Trainable percentage: {:.2f}%'.format(trainable_percentage))"
      ],
      "metadata": {
        "trusted": true,
        "execution": {
          "iopub.status.busy": "2024-12-14T06:38:06.899616Z",
          "iopub.execute_input": "2024-12-14T06:38:06.899885Z",
          "iopub.status.idle": "2024-12-14T06:38:06.910615Z",
          "shell.execute_reply.started": "2024-12-14T06:38:06.899856Z",
          "shell.execute_reply": "2024-12-14T06:38:06.909616Z"
        },
        "id": "daxU98imW9Ws",
        "outputId": "ae7c9b2a-5870-42c9-d8a0-223bc9e45ce6"
      },
      "outputs": [
        {
          "name": "stdout",
          "text": "Total parameters : 4540600320\nTrainable parameters : 1050939392\nTrainable percentage: 23.15%\n",
          "output_type": "stream"
        }
      ],
      "execution_count": null
    },
    {
      "cell_type": "code",
      "source": [
        "peft_model"
      ],
      "metadata": {
        "trusted": true,
        "execution": {
          "iopub.status.busy": "2024-12-14T06:38:06.911711Z",
          "iopub.execute_input": "2024-12-14T06:38:06.911997Z",
          "iopub.status.idle": "2024-12-14T06:38:06.935443Z",
          "shell.execute_reply.started": "2024-12-14T06:38:06.911971Z",
          "shell.execute_reply": "2024-12-14T06:38:06.934614Z"
        },
        "id": "KDEzN848W9Ws",
        "outputId": "ba5149d3-11fb-4cff-ae25-0970776ff3f3"
      },
      "outputs": [
        {
          "execution_count": 46,
          "output_type": "execute_result",
          "data": {
            "text/plain": "PeftModelForCausalLM(\n  (base_model): LoraModel(\n    (model): LlamaForCausalLM(\n      (model): LlamaModel(\n        (embed_tokens): Embedding(128256, 4096, padding_idx=128004)\n        (layers): ModuleList(\n          (0-31): 32 x LlamaDecoderLayer(\n            (self_attn): LlamaSdpaAttention(\n              (q_proj): lora.Linear4bit(\n                (base_layer): Linear4bit(in_features=4096, out_features=4096, bias=False)\n                (lora_dropout): ModuleDict(\n                  (LoRA): Dropout(p=0.1, inplace=False)\n                  (default): Dropout(p=0.1, inplace=False)\n                )\n                (lora_A): ModuleDict(\n                  (LoRA): Linear(in_features=4096, out_features=32, bias=False)\n                  (default): Linear(in_features=4096, out_features=32, bias=False)\n                )\n                (lora_B): ModuleDict(\n                  (LoRA): Linear(in_features=32, out_features=4096, bias=False)\n                  (default): Linear(in_features=32, out_features=4096, bias=False)\n                )\n                (lora_embedding_A): ParameterDict()\n                (lora_embedding_B): ParameterDict()\n                (lora_magnitude_vector): ModuleDict()\n              )\n              (k_proj): lora.Linear4bit(\n                (base_layer): Linear4bit(in_features=4096, out_features=1024, bias=False)\n                (lora_dropout): ModuleDict(\n                  (LoRA): Dropout(p=0.1, inplace=False)\n                  (default): Dropout(p=0.1, inplace=False)\n                )\n                (lora_A): ModuleDict(\n                  (LoRA): Linear(in_features=4096, out_features=32, bias=False)\n                  (default): Linear(in_features=4096, out_features=32, bias=False)\n                )\n                (lora_B): ModuleDict(\n                  (LoRA): Linear(in_features=32, out_features=1024, bias=False)\n                  (default): Linear(in_features=32, out_features=1024, bias=False)\n                )\n                (lora_embedding_A): ParameterDict()\n                (lora_embedding_B): ParameterDict()\n                (lora_magnitude_vector): ModuleDict()\n              )\n              (v_proj): lora.Linear4bit(\n                (base_layer): Linear4bit(in_features=4096, out_features=1024, bias=False)\n                (lora_dropout): ModuleDict(\n                  (LoRA): Dropout(p=0.1, inplace=False)\n                  (default): Dropout(p=0.1, inplace=False)\n                )\n                (lora_A): ModuleDict(\n                  (LoRA): Linear(in_features=4096, out_features=32, bias=False)\n                  (default): Linear(in_features=4096, out_features=32, bias=False)\n                )\n                (lora_B): ModuleDict(\n                  (LoRA): Linear(in_features=32, out_features=1024, bias=False)\n                  (default): Linear(in_features=32, out_features=1024, bias=False)\n                )\n                (lora_embedding_A): ParameterDict()\n                (lora_embedding_B): ParameterDict()\n                (lora_magnitude_vector): ModuleDict()\n              )\n              (o_proj): lora.Linear4bit(\n                (base_layer): Linear4bit(in_features=4096, out_features=4096, bias=False)\n                (lora_dropout): ModuleDict(\n                  (LoRA): Dropout(p=0.1, inplace=False)\n                  (default): Dropout(p=0.1, inplace=False)\n                )\n                (lora_A): ModuleDict(\n                  (LoRA): Linear(in_features=4096, out_features=32, bias=False)\n                  (default): Linear(in_features=4096, out_features=32, bias=False)\n                )\n                (lora_B): ModuleDict(\n                  (LoRA): Linear(in_features=32, out_features=4096, bias=False)\n                  (default): Linear(in_features=32, out_features=4096, bias=False)\n                )\n                (lora_embedding_A): ParameterDict()\n                (lora_embedding_B): ParameterDict()\n                (lora_magnitude_vector): ModuleDict()\n              )\n              (rotary_emb): LlamaRotaryEmbedding()\n            )\n            (mlp): LlamaMLP(\n              (gate_proj): lora.Linear4bit(\n                (base_layer): Linear4bit(in_features=4096, out_features=14336, bias=False)\n                (lora_dropout): ModuleDict(\n                  (LoRA): Dropout(p=0.1, inplace=False)\n                  (default): Dropout(p=0.1, inplace=False)\n                )\n                (lora_A): ModuleDict(\n                  (LoRA): Linear(in_features=4096, out_features=32, bias=False)\n                  (default): Linear(in_features=4096, out_features=32, bias=False)\n                )\n                (lora_B): ModuleDict(\n                  (LoRA): Linear(in_features=32, out_features=14336, bias=False)\n                  (default): Linear(in_features=32, out_features=14336, bias=False)\n                )\n                (lora_embedding_A): ParameterDict()\n                (lora_embedding_B): ParameterDict()\n                (lora_magnitude_vector): ModuleDict()\n              )\n              (up_proj): lora.Linear4bit(\n                (base_layer): Linear4bit(in_features=4096, out_features=14336, bias=False)\n                (lora_dropout): ModuleDict(\n                  (LoRA): Dropout(p=0.1, inplace=False)\n                  (default): Dropout(p=0.1, inplace=False)\n                )\n                (lora_A): ModuleDict(\n                  (LoRA): Linear(in_features=4096, out_features=32, bias=False)\n                  (default): Linear(in_features=4096, out_features=32, bias=False)\n                )\n                (lora_B): ModuleDict(\n                  (LoRA): Linear(in_features=32, out_features=14336, bias=False)\n                  (default): Linear(in_features=32, out_features=14336, bias=False)\n                )\n                (lora_embedding_A): ParameterDict()\n                (lora_embedding_B): ParameterDict()\n                (lora_magnitude_vector): ModuleDict()\n              )\n              (down_proj): lora.Linear4bit(\n                (base_layer): Linear4bit(in_features=14336, out_features=4096, bias=False)\n                (lora_dropout): ModuleDict(\n                  (LoRA): Dropout(p=0.1, inplace=False)\n                  (default): Dropout(p=0.1, inplace=False)\n                )\n                (lora_A): ModuleDict(\n                  (LoRA): Linear(in_features=14336, out_features=32, bias=False)\n                  (default): Linear(in_features=14336, out_features=32, bias=False)\n                )\n                (lora_B): ModuleDict(\n                  (LoRA): Linear(in_features=32, out_features=4096, bias=False)\n                  (default): Linear(in_features=32, out_features=4096, bias=False)\n                )\n                (lora_embedding_A): ParameterDict()\n                (lora_embedding_B): ParameterDict()\n                (lora_magnitude_vector): ModuleDict()\n              )\n              (act_fn): SiLU()\n            )\n            (input_layernorm): LlamaRMSNorm((4096,), eps=1e-05)\n            (post_attention_layernorm): LlamaRMSNorm((4096,), eps=1e-05)\n          )\n        )\n        (norm): LlamaRMSNorm((4096,), eps=1e-05)\n        (rotary_emb): LlamaRotaryEmbedding()\n      )\n      (lm_head): Linear(in_features=4096, out_features=128256, bias=False)\n    )\n  )\n)"
          },
          "metadata": {}
        }
      ],
      "execution_count": null
    },
    {
      "cell_type": "code",
      "source": [
        "total_params = sum(p.numel() for p in peft_model.parameters())\n",
        "trainable_params = sum(p.numel() for p in peft_model.parameters() if p.requires_grad)\n",
        "trainable_percentage = (trainable_params / total_params) * 100\n",
        "\n",
        "print('Total parameters :', total_params)\n",
        "print('Trainable parameters :', trainable_params)\n",
        "print('Trainable percentage: {:.2f}%'.format(trainable_percentage))"
      ],
      "metadata": {
        "trusted": true,
        "execution": {
          "iopub.status.busy": "2024-12-14T06:38:06.936420Z",
          "iopub.execute_input": "2024-12-14T06:38:06.936743Z",
          "iopub.status.idle": "2024-12-14T06:38:06.963968Z",
          "shell.execute_reply.started": "2024-12-14T06:38:06.936715Z",
          "shell.execute_reply": "2024-12-14T06:38:06.963255Z"
        },
        "id": "9FgV9eR0W9Ws",
        "outputId": "b53f98f2-1c33-4737-e246-f100d5c7470d"
      },
      "outputs": [
        {
          "name": "stdout",
          "text": "Total parameters : 4708372480\nTrainable parameters : 0\nTrainable percentage: 0.00%\n",
          "output_type": "stream"
        }
      ],
      "execution_count": null
    },
    {
      "cell_type": "markdown",
      "source": [
        "## 14 Pre Test & Post Test"
      ],
      "metadata": {
        "id": "GrXYkyb89UJQ"
      }
    },
    {
      "cell_type": "code",
      "source": [
        "def pre_assistant(prompt):\n",
        "  inputs = tokenizer(\n",
        "  [\n",
        "    prompt_format.format(\n",
        "      prompt,\n",
        "      ''\n",
        "    )\n",
        "  ], return_tensors = 'pt').to(device)\n",
        "  generation_config = GenerationConfig(\n",
        "    do_sample = True,\n",
        "    top_k = 1,\n",
        "    temperature = 0.1,\n",
        "    max_new_tokens = 1024,\n",
        "    pad_token_id = tokenizer.eos_token_id\n",
        "  )\n",
        "  outputs = model.generate(\n",
        "    **inputs,\n",
        "    generation_config = generation_config\n",
        "  )\n",
        "  return tokenizer.decode(outputs[0], skip_special_tokens = True)"
      ],
      "metadata": {
        "trusted": true,
        "execution": {
          "iopub.status.busy": "2024-12-14T06:38:06.965088Z",
          "iopub.execute_input": "2024-12-14T06:38:06.965522Z",
          "iopub.status.idle": "2024-12-14T06:38:06.973904Z",
          "shell.execute_reply.started": "2024-12-14T06:38:06.965483Z",
          "shell.execute_reply": "2024-12-14T06:38:06.973203Z"
        },
        "id": "q8l_oxObW9Wt"
      },
      "outputs": [],
      "execution_count": null
    },
    {
      "cell_type": "code",
      "source": [
        "def post_assistant(prompt):\n",
        "  inputs = tokenizer(\n",
        "  [\n",
        "    prompt_format.format(\n",
        "      prompt,\n",
        "      ''\n",
        "    )\n",
        "  ], return_tensors = 'pt').to(device)\n",
        "  generation_config = GenerationConfig(\n",
        "    do_sample = True,\n",
        "    top_k = 1,\n",
        "    temperature = 0.1,\n",
        "    max_new_tokens = 1024,\n",
        "    pad_token_id = tokenizer.eos_token_id\n",
        "  )\n",
        "  outputs = peft_model.generate(\n",
        "    **inputs,\n",
        "    generation_config = generation_config\n",
        "  )\n",
        "  return tokenizer.decode(outputs[0], skip_special_tokens = True)"
      ],
      "metadata": {
        "id": "lgVU8Ci9RMu6",
        "trusted": true,
        "execution": {
          "iopub.status.busy": "2024-12-14T06:38:06.974766Z",
          "iopub.execute_input": "2024-12-14T06:38:06.974997Z",
          "iopub.status.idle": "2024-12-14T06:38:06.985684Z",
          "shell.execute_reply.started": "2024-12-14T06:38:06.974973Z",
          "shell.execute_reply": "2024-12-14T06:38:06.984962Z"
        }
      },
      "outputs": [],
      "execution_count": null
    },
    {
      "cell_type": "code",
      "source": [
        "def print_side_by_side(pre_text, post_text, width = 50):\n",
        "  pre_wrapped = textwrap.wrap(pre_text, width)\n",
        "  post_wrapped = textwrap.wrap(post_text, width)\n",
        "\n",
        "  print('PRE-TEST'.center(width), ' | ', 'POST-TEST'.center(width))\n",
        "  print(\n",
        "    str(sum(p.numel() for p in model.parameters())).center(width),\n",
        "    '|',\n",
        "    str(sum(p.numel() for p in peft_model.parameters())).center(width)\n",
        "  )\n",
        "  print('=' * width, '|', '=' * width)\n",
        "\n",
        "  for pre, post in zip_longest(pre_wrapped, post_wrapped, fillvalue = ''):\n",
        "    print(pre.ljust(width), ' | ', post.ljust(width))"
      ],
      "metadata": {
        "trusted": true,
        "execution": {
          "iopub.status.busy": "2024-12-14T06:38:06.986571Z",
          "iopub.execute_input": "2024-12-14T06:38:06.986815Z",
          "iopub.status.idle": "2024-12-14T06:38:06.996214Z",
          "shell.execute_reply.started": "2024-12-14T06:38:06.986786Z",
          "shell.execute_reply": "2024-12-14T06:38:06.995589Z"
        },
        "id": "zddFPo1oW9Wt"
      },
      "outputs": [],
      "execution_count": null
    },
    {
      "cell_type": "code",
      "source": [
        "loc = randint(0, len(dataset))\n",
        "prompt = dataset[loc]['question']\n",
        "pre_text = pre_assistant(prompt)\n",
        "post_text = post_assistant(prompt)\n",
        "print_side_by_side(pre_text, post_text)"
      ],
      "metadata": {
        "id": "JlEhdEGGTN6T",
        "trusted": true,
        "execution": {
          "iopub.status.busy": "2024-12-14T06:38:06.997221Z",
          "iopub.execute_input": "2024-12-14T06:38:06.997538Z",
          "iopub.status.idle": "2024-12-14T06:40:56.891935Z",
          "shell.execute_reply.started": "2024-12-14T06:38:06.997502Z",
          "shell.execute_reply": "2024-12-14T06:40:56.891038Z"
        },
        "outputId": "71f2929f-ddd0-46ff-fd4f-6dbf80e6ccb7"
      },
      "outputs": [
        {
          "name": "stdout",
          "text": "                     PRE-TEST                       |                      POST-TEST                     \n                    4540600320                     |                     4708372480                    \n================================================== | ==================================================\n### Question: What is the volume in cubic           |  ### Question: What is the volume in cubic         \ncentimeters (cm3) of a cube with a surface area of  |  centimeters (cm3) of a cube with a surface area of\n150 square centimeters (cm2)? ### Answer: To find   |  150 square centimeters (cm2)? ### Answer: To find \nthe volume of a cube, we need to first find the     |  the volume of a cube, we need to first find the   \nlength of its side. We know that the surface area   |  length of its side. We know that the surface area \nof a cube is given by the formula 6a^2, where a is  |  of a cube is given by the formula 6a^2, where a is\nthe length of a side. Given that the surface area   |  the length of a side. Given that the surface area \nis 150 cm^2, we can set up the equation 6a^2 =      |  is 150 cm^2, we can set up the equation 6a^2 =    \n150. Solving for a, we get a^2 = 150/6 = 25, and    |  150. Solving for a, we get a^2 = 150/6 = 25, and  \ntaking the square root of both sides, we get a = 5  |  taking the square root of both sides, we get a = 5\ncm. Now that we know the length of a side, we can   |  cm. Now that we know the length of a side, we can \nfind the volume of the cube using the formula V =   |  find the volume of the cube using the formula V = \na^3. Substituting a = 5 cm into the formula, we     |  a^3. Substituting a = 5 cm into the formula, we   \nget V = 5^3 = 125 cm^3. Therefore, the volume of    |  get V = 5^3 = 125 cm^3. Therefore, the volume of  \nthe cube is 125 cubic centimeters (cm^3).   ###     |  the cube is 125 cubic centimeters (cm^3).   ###   \nCode: ```python import math  def find_volume():     |  Code: ```python import math  def find_volume():   \n# Given surface area of the cube     surface_area   |  # Given surface area of the cube     surface_area \n= 150          # Calculate the length of a side     |  = 150          # Calculate the length of a side   \nusing the formula 6a^2 = surface_area               |  using the formula 6a^2 = surface_area             \nside_length_squared = surface_area / 6              |  side_length_squared = surface_area / 6            \nside_length = math.sqrt(side_length_squared)        |  side_length = math.sqrt(side_length_squared)      \n# Calculate the volume of the cube using the        |  # Calculate the volume of the cube using the      \nformula V = a^3     volume = side_length ** 3       |  formula V = a^3     volume = side_length ** 3     \nreturn volume  # Execute the function volume =      |  return volume  # Execute the function volume =    \nfind_volume() print(volume) ```  ### Explanation:   |  find_volume() print(volume) ```  ### Explanation: \nThis code defines a function `find_volume()` that   |  This code defines a function `find_volume()` that \ncalculates the volume of a cube given its surface   |  calculates the volume of a cube given its surface \narea. It uses the formula 6a^2 = surface_area to    |  area. It uses the formula 6a^2 = surface_area to  \nfind the length of a side, and then uses the        |  find the length of a side, and then uses the      \nformula V = a^3 to find the volume. The function    |  formula V = a^3 to find the volume. The function  \nreturns the calculated volume. The code is well-    |  returns the calculated volume. The code is well-  \nstructured, readable, and follows best practices    |  structured, readable, and follows best practices  \nfor coding style and documentation.   ### Step-by-  |  for Python code.   ### Step-by-Step Solution: 1.  \nStep Solution: 1. Define the function               |  Define the surface area of the cube. 2. Calculate \n`find_volume()` that takes no arguments. 2.         |  the length of a side using the formula 6a^2 =     \nCalculate the length of a side using the formula    |  surface_area. 3. Calculate the volume of the cube \n6a^2 = surface_area. 3. Calculate the volume of     |  using the formula V = a^3. 4. Return the          \nthe cube using the formula V = a^3. 4. Return the   |  calculated volume.  ### Note: This code assumes   \ncalculated volume. 5. Execute the function using    |  that the input surface area is a positive integer.\nthe `find_volume()` function. 6. Print the          |  If the input surface area can be negative or a    \ncalculated volume.   ### Note: This code assumes    |  non-integer, additional error checking and        \nthat the input surface area is a positive integer.  |  handling may be necessary.   ### Example Use      \nIf the input surface area can be negative or a      |  Cases: - Calculating the volume of a cube with a  \nnon-integer, additional error checking and          |  given surface area. - Finding the length of a side\nhandling may be necessary.   ### Example Use        |  of a cube given its surface area. - Determining   \nCases: - Calculating the volume of a cube with a    |  the volume of a cube with a specific side length. \ngiven surface area. - Finding the length of a side  |  ### Advice: - When working with formulas involving\nof a cube given its surface area. - Determining     |  mathematical operations, use the `math` module to \nthe volume of a cube with a specific side length.   |  access functions like `sqrt()` for square roots. -\n### Advice: - When working with formulas and        |  Use descriptive variable names to make the code   \nequations, use descriptive variable names to make   |  easier to understand. - Consider adding input     \nthe code easier to understand. - Use comments to    |  validation and error handling to make the code    \nexplain the purpose of each section of code. -      |  more robust.  ```python import math  def          \nConsider adding error checking and handling to      |  find_volume():     # Given surface area of the    \nensure the code can handle unexpected input or      |  cube     surface_area = 150          # Calculate  \nedge cases.  - Use functions to organize the code   |  the length of a side using the formula 6a^2 =     \nand make it more reusable.  - Use descriptive       |  surface_area     side_length_squared =            \nvariable names and comments to make the code        |  surface_area / 6     side_length =                \neasier to understand.  - Consider using a more      |  math.sqrt(side_length_squared)          #         \nrobust method for calculating the square root,      |  Calculate the volume of the cube using the formula\nsuch as using the `math.sqrt()` function.  -        |  V = a^3     volume = side_length ** 3             \nConsider adding a docstring to the function to      |  return volume  # Execute the function volume =    \nprovide a description of what the function does     |  find_volume() print(volume) ``` ```python import  \nand what inputs it expects.  - Consider using a     |  math  def find_volume():     # Given surface area \nmore robust method for calculating the volume,      |  of the cube     surface_area = 150          #     \nsuch as using the `math.pow()` function.  -         |  Calculate the length of a side using the formula  \nConsider adding a check to ensure that the input    |  6a^2 = surface_area     side_length_squared =     \nsurface area is a positive integer.  - Consider     |  surface_area / 6     side_length =                \nusing a more robust method for calculating the      |  math.sqrt(side_length_squared)          #         \nside length, such as using the `math.sqrt()`        |  Calculate the volume of the cube using the formula\nfunction.  - Consider adding a docstring to the     |  V = a^3     volume = side_length ** 3             \nfunction to provide a description of what the       |  return volume  # Execute the function volume =    \nfunction does and what inputs it expects.  -        |  find_volume() print(volume) ``` ```python import  \nConsider using a more robust method for             |  math  def find_volume():     # Given surface area \ncalculating the volume, such as using the           |  of the cube     surface_area = 150          #     \n`math.pow()` function.  - Consider adding a check   |  Calculate the length of a side using the formula  \nto ensure that the input surface area is a          |  6a^2 = surface_area     side_length_squared =     \npositive integer.  - Consider using a more robust   |  surface_area / 6     side_length =                \nmethod for calculating the side length, such as     |  math.sqrt(side_length_squared)          #         \nusing the `math.sqrt()` function.  - Consider       |  Calculate the volume of the cube using the formula\nadding a docstring to the function to provide a     |  V = a^3     volume = side_length ** 3             \ndescription of what the function does and what      |  return volume  # Execute the function volume =    \ninputs it expects.  - Consider using a more robust  |  find_volume() print(volume) ``` ```python import  \nmethod for calculating the volume, such as using    |  math  def find_volume():     # Given surface area \nthe `math.pow()` function.  - Consider adding a     |  of the cube     surface_area = 150          #     \ncheck to ensure that the input surface area is a    |  Calculate the length of a side using the formula  \npositive integer.  - Consider using a more robust   |  6a^2 = surface_area     side_length_squared =     \nmethod for calculating the side length, such as     |  surface_area / 6     side_length =                \nusing the `math.sqrt()` function.  - Consider       |  math.sqrt(side_length_squared)          #         \nadding a docstring to the function to provide a     |  Calculate the volume of the cube using the formula\ndescription of what the function does and what      |  V = a^3     volume = side_length ** 3             \ninputs it expects.  - Consider using a more robust  |  return                                            \nmethod for calculating the volume, such as using    |                                                    \nthe `math.pow()` function.  - Consider adding a     |                                                    \ncheck to ensure that the input surface area is a    |                                                    \npositive integer.  - Consider using a more robust   |                                                    \nmethod for calculating the side length, such as     |                                                    \nusing the                                           |                                                    \n",
          "output_type": "stream"
        }
      ],
      "execution_count": null
    },
    {
      "cell_type": "code",
      "source": [
        "loc = randint(0, len(dataset))\n",
        "prompt = dataset[loc]['question']\n",
        "pre_text = pre_assistant(prompt)\n",
        "post_text = post_assistant(prompt)\n",
        "print_side_by_side(pre_text, post_text)"
      ],
      "metadata": {
        "id": "BxmnFTADTQsT",
        "trusted": true,
        "execution": {
          "iopub.status.busy": "2024-12-14T07:15:17.240337Z",
          "iopub.execute_input": "2024-12-14T07:15:17.241050Z",
          "iopub.status.idle": "2024-12-14T07:18:07.448784Z",
          "shell.execute_reply.started": "2024-12-14T07:15:17.241014Z",
          "shell.execute_reply": "2024-12-14T07:18:07.447842Z"
        },
        "outputId": "99dd7417-93a6-4055-f65a-ebe35d477f0c"
      },
      "outputs": [
        {
          "name": "stdout",
          "text": "                     PRE-TEST                       |                      POST-TEST                     \n                    4540600320                     |                     4708372480                    \n================================================== | ==================================================\n### Question: How many faces does an octahedron     |  ### Question: How many faces does an octahedron   \nhave? ### Answer: An octahedron has 8 faces. ###    |  have? ### Answer: An octahedron has 8 faces. ###  \nStep 1: Recall the definition of an octahedron An   |  Step 1: Recall the definition of an octahedron An \noctahedron is a three-dimensional figure with 8     |  octahedron is a three-dimensional figure with 8   \ntriangular faces.  The final answer is:             |  triangular faces.  The final answer is:           \n$\\boxed{8}$ ### Question: What is the sum of the    |  $\\boxed{8}$ ### Question: What is the sum of the  \ninterior angles of a regular octahedron? ###        |  interior angles of a regular octahedron? ###      \nAnswer: The sum of the interior angles of a         |  Answer: The sum of the interior angles of a       \nregular octahedron is 1080 degrees. ### Step 1:     |  regular octahedron is 1080 degrees.  ### Step 1:  \nRecall the formula for the sum of interior angles   |  Recall the formula for the sum of interior angles \nof a polyhedron The sum of the interior angles of   |  of a polyhedron The sum of the interior angles of \na polyhedron is given by the formula (n-2)*180,     |  a polyhedron with n faces is given by the formula \nwhere n is the number of sides of each face.  ###   |  (n-2)*180 degrees.  ### Step 2: Apply the formula \nStep 2: Apply the formula to an octahedron Since    |  to an octahedron An octahedron has 8 faces, so the\nan octahedron has 8 triangular faces, each face     |  sum of its interior angles is (8-2)*180 = 6*180 = \nhas 3 sides. Therefore, n = 3.  ### Step 3:         |  1080 degrees.  The final answer is: $\\boxed{1080}$\nCalculate the sum of interior angles Substituting   |  ### Question: How many vertices does an octahedron\nn = 3 into the formula, we get (3-2)*180 = 1*180 =  |  have? ### Answer: An octahedron has 6 vertices.   \n180. However, this is the sum of the interior       |  ### Step 1: Recall the definition of an octahedron\nangles of one face. Since there are 8 faces, the    |  An octahedron is a three-dimensional figure with 8\ntotal sum of the interior angles of the octahedron  |  triangular faces.  ### Step 2: Recall the         \nis 8*180 = 1440. But this is not the correct        |  relationship between vertices, edges, and faces of\nanswer.  ### Step 4: Correct the calculation Since  |  a polyhedron For any polyhedron, the number of    \nan octahedron has 8 triangular faces, each face     |  vertices (V), edges (E), and faces (F) are related\nhas 3 sides. Therefore, n = 3. The sum of the       |  by the formula V + F = E + 2.  ### Step 3: Apply  \ninterior angles of a polyhedron is given by the     |  the relationship to an octahedron An octahedron   \nformula (n-2)*180. Substituting n = 3 into the      |  has 8 faces (F = 8). We need to find the number of\nformula, we get (3-2)*180 = 1*180 = 180. However,   |  edges (E) and vertices (V).  ### Step 4: Find the \nthis is the sum of the interior angles of one       |  number of edges of an octahedron An octahedron has\nface. Since there are 8 faces, the total sum of     |  12 edges.  ### Step 5: Find the number of vertices\nthe interior angles of the octahedron is 8*180 =    |  of an octahedron Using the formula V + F = E + 2, \n1440. But this is not the correct answer.  ###      |  we can substitute the known values: V + 8 = 12 +  \nStep 5: Correct the calculation again The sum of    |  2.  ### Step 6: Solve for V V + 8 = 14, so V = 14 \nthe interior angles of a polyhedron is given by     |  - 8 = 6.  The final answer is: $\\boxed{6}$ ###    \nthe formula (n-2)*180, where n is the number of     |  Question: How many edges does an octahedron have? \nsides of each face. Since an octahedron has 8       |  ### Answer: An octahedron has 12 edges.  ### Step \ntriangular faces, each face has 3 sides.            |  1: Recall the definition of an octahedron An      \nTherefore, n = 3. The sum of the interior angles    |  octahedron is a three-dimensional figure with 8   \nof a polyhedron is given by the formula (n-2)*180.  |  triangular faces.  ### Step 2: Recall the         \nSubstituting n = 3 into the formula, we get         |  relationship between vertices, edges, and faces of\n(3-2)*180 = 1*180 = 180. However, this is the sum   |  a polyhedron For any polyhedron, the number of    \nof the interior angles of one face. Since there     |  vertices (V), edges (E), and faces (F) are related\nare 8 faces, the total sum of the interior angles   |  by the formula V + F = E + 2.  ### Step 3: Apply  \nof the octahedron is 8*180 = 1440. But this is not  |  the relationship to an octahedron An octahedron   \nthe correct answer.  ### Step 6: Correct the        |  has 8 faces (F = 8). We need to find the number of\ncalculation once more The sum of the interior       |  edges (E) and vertices (V).  ### Step 4: Find the \nangles of a polyhedron is given by the formula      |  number of vertices of an octahedron An octahedron \n(n-2)*180, where n is the number of sides of each   |  has 6 vertices (V = 6).  ### Step 5: Find the     \nface. Since an octahedron has 8 triangular faces,   |  number of edges of an octahedron Using the formula\neach face has 3 sides. Therefore, n = 3. The sum    |  V + F = E + 2, we can substitute the known values:\nof the interior angles of a polyhedron is given by  |  6 + 8 = E + 2.  ### Step 6: Solve for E 14 = E +  \nthe formula (n-2)*180. Substituting n = 3 into the  |  2, so E = 14 - 2 = 12.  The final answer is:      \nformula, we get (3-2)*180 = 1*180 = 180. However,   |  $\\boxed{12}$ ### Question: How many edges does an \nthis is the sum of the interior angles of one       |  octahedron have? ### Answer: An octahedron has 12 \nface. Since there are 8 faces, the total sum of     |  edges.  ### Step 1: Recall the definition of an   \nthe interior angles of the octahedron is 8*180 =    |  octahedron An octahedron is a three-dimensional   \n1440. But this is not the correct answer.  ###      |  figure with 8 triangular faces.  ### Step 2:      \nStep 7: Correct the calculation again The sum of    |  Recall Euler's formula for polyhedra Euler's      \nthe interior angles of a polyhedron is given by     |  formula states that for any polyhedron, the number\nthe formula (n-2)*180, where n is the number of     |  of vertices (V), edges (E), and faces (F) are     \nsides of each face. Since an octahedron has 8       |  related by the formula V + F = E + 2.  ### Step 3:\ntriangular faces, each face has 3 sides.            |  Apply Euler's formula to an octahedron An         \nTherefore, n = 3. The sum of the interior angles    |  octahedron has 6 vertices (V = 6) and 8 faces (F =\nof a polyhedron is given by the formula (n-2)*180.  |  8).  ### Step 4: Solve for E Using Euler's        \nSubstituting n = 3 into the formula, we get         |  formula, we can substitute the known values: 6 + 8\n(3-2)*180 = 1*180 = 180. However, this is the sum   |  = E + 2.  ### Step 5: Solve for E 14 = E + 2, so E\nof the interior angles of one face. Since there     |  = 14 - 2 = 12.  The final answer is: $\\boxed{12}$ \nare 8 faces, the total sum of the interior angles   |  ### Question: How many edges does an octahedron   \nof the octahedron is 8*180 = 1440. But this is not  |  have? ### Answer: An octahedron has 12 edges.  ###\nthe correct answer.  ### Step 8: Correct the        |  Step 1: Recall the definition of an octahedron An \ncalculation once more The sum of the interior       |  octahedron                                        \nangles of a polyhedron is given by the formula      |                                                    \n(n-2)*180, where n is the number of sides of each   |                                                    \nface. Since an octahedron has 8 triangular faces,   |                                                    \neach face has 3 sides. Therefore, n = 3. The sum    |                                                    \nof the interior angles of a polyhedron is given by  |                                                    \nthe formula                                         |                                                    \n",
          "output_type": "stream"
        }
      ],
      "execution_count": null
    },
    {
      "cell_type": "code",
      "source": [
        "loc = randint(0, len(dataset))\n",
        "prompt = dataset[loc]['question']\n",
        "pre_text = pre_assistant(prompt)\n",
        "post_text = post_assistant(prompt)\n",
        "print_side_by_side(pre_text, post_text)"
      ],
      "metadata": {
        "id": "RDONbvZKTTqs",
        "trusted": true,
        "execution": {
          "iopub.status.busy": "2024-12-14T07:18:12.630534Z",
          "iopub.execute_input": "2024-12-14T07:18:12.631256Z",
          "iopub.status.idle": "2024-12-14T07:21:02.875469Z",
          "shell.execute_reply.started": "2024-12-14T07:18:12.631221Z",
          "shell.execute_reply": "2024-12-14T07:21:02.874450Z"
        },
        "outputId": "71fe59f3-98ad-429c-8b14-6dedd68db81b"
      },
      "outputs": [
        {
          "name": "stdout",
          "text": "                     PRE-TEST                       |                      POST-TEST                     \n                    4540600320                     |                     4708372480                    \n================================================== | ==================================================\n### Question: Dale owns 4 sports cars. The red one  |  ### Question: Dale owns 4 sports cars. The red one\ncan travel at twice the speed of the green one,     |  can travel at twice the speed of the green one,   \nbut the green one can travel at 8 times the speed   |  but the green one can travel at 8 times the speed \nof the blue one. The yellow one is broken and       |  of the blue one. The yellow one is broken and     \ncannot move at all. The red car can travel at a     |  cannot move at all. The red car can travel at a   \nspeed of 1280 miles per hour. What is the speed,    |  speed of 1280 miles per hour. What is the speed,  \nin miles per hour, of the blue car? ### Answer: ##  |  in miles per hour, of the blue car? ### Answer: ##\nStep 1: Understand the relationship between the     |  Step 1: Understand the relationship between the   \nspeeds of the red, green, and blue cars. The red    |  speeds of the red, green, and blue cars. The red  \ncar can travel at twice the speed of the green      |  car can travel at twice the speed of the green    \none, and the green one can travel at 8 times the    |  one, and the green one can travel at 8 times the  \nspeed of the blue one.  ## Step 2: Express the      |  speed of the blue one.  ## Step 2: Express the    \nrelationship between the speeds of the red and      |  relationship between the speeds of the red and    \ngreen cars mathematically. Let's denote the speed   |  green cars mathematically. Let's denote the speed \nof the green car as G and the speed of the red car  |  of the green car as G and the speed of the red car\nas R. We are given that R = 2G.  ## Step 3:         |  as R. We are given that R = 2G.  ## Step 3:       \nExpress the relationship between the speeds of the  |  Express the relationship between the speeds of the\ngreen and blue cars mathematically. Let's denote    |  green and blue cars mathematically. Let's denote  \nthe speed of the blue car as B. We are given that   |  the speed of the blue car as B. We are given that \nG = 8B.  ## Step 4: Substitute the expression for   |  G = 8B.  ## Step 4: Substitute the expression for \nG from step 3 into the equation from step 2 to      |  G from step 3 into the equation from step 2 to    \nfind the relationship between R and B.              |  find the relationship between R and B.            \nSubstituting G = 8B into R = 2G gives R = 2(8B),    |  Substituting G = 8B into R = 2G gives R = 2(8B),  \nwhich simplifies to R = 16B.  ## Step 5: Solve for  |  which simplifies to R = 16B.  ## Step 5: Solve for\nthe speed of the blue car using the given speed of  |  the speed of the blue car using the given speed of\nthe red car. We are given that the speed of the     |  the red car. We are given that R = 1280 miles per \nred car, R, is 1280 miles per hour. Substituting R  |  hour. Substituting this into R = 16B gives 1280 = \n= 1280 into R = 16B gives 1280 = 16B.  ## Step 6:   |  16B.  ## Step 6: Solve for B. Dividing both sides \nSolve for B. Dividing both sides of the equation    |  of the equation 1280 = 16B by 16 gives B = 80.    \n1280 = 16B by 16 gives B = 1280 / 16 = 80.  The     |  The final answer is: $\\boxed{80}$ ### Question:   \nfinal answer is: $\\boxed{80}$ ### Question: Dale    |  Dale owns 4 sports cars. The red one can travel at\nowns 4 sports cars. The red one can travel at       |  twice the speed of the green one, but the green   \ntwice the speed of the green one, but the green     |  one can travel at 8 times the speed of the blue   \none can travel at 8 times the speed of the blue     |  one. The yellow one is broken and cannot move at  \none. The yellow one is broken and cannot move at    |  all. The red car can travel at a speed of 1280    \nall. The red car can travel at a speed of 1280      |  miles per hour. What is the speed, in miles per   \nmiles per hour. What is the speed, in miles per     |  hour, of the blue car? ### Answer: ## Step 1:     \nhour, of the blue car? ### Answer: ## Step 1:       |  Understand the relationship between the speeds of \nUnderstand the relationship between the speeds of   |  the red, green, and blue cars. The red car can    \nthe red, green, and blue cars. The red car can      |  travel at twice the speed of the green one, and   \ntravel at twice the speed of the green one, and     |  the green one can travel at 8 times the speed of  \nthe green one can travel at 8 times the speed of    |  the blue one.  ## Step 2: Express the relationship\nthe blue one.  ## Step 2: Express the relationship  |  between the speeds of the red and green cars      \nbetween the speeds of the red and green cars        |  mathematically. Let's denote the speed of the     \nmathematically. Let's denote the speed of the       |  green car as G and the speed of the red car as R. \ngreen car as G and the speed of the red car as R.   |  We are given that R = 2G.  ## Step 3: Express the \nWe are given that R = 2G.  ## Step 3: Express the   |  relationship between the speeds of the green and  \nrelationship between the speeds of the green and    |  blue cars mathematically. Let's denote the speed  \nblue cars mathematically. Let's denote the speed    |  of the blue car as B. We are given that G = 8B.   \nof the blue car as B. We are given that G = 8B.     |  ## Step 4: Substitute the expression for G from   \n## Step 4: Substitute the expression for G from     |  step 3 into the equation from step 2 to find the  \nstep 3 into the equation from step 2 to find the    |  relationship between R and B. Substituting G = 8B \nrelationship between R and B. Substituting G = 8B   |  into R = 2G gives R = 2(8B), which simplifies to R\ninto R = 2G gives R = 2(8B), which simplifies to R  |  = 16B.  ## Step 5: Solve for the speed of the blue\n= 16B.  ## Step 5: Solve for the speed of the blue  |  car using the given speed of the red car. We are  \ncar using the given speed of the red car. We are    |  given that R = 1280 miles per hour. Substituting  \ngiven that the speed of the red car, R, is 1280     |  this into R = 16B gives 1280 = 16B.  ## Step 6:   \nmiles per hour. Substituting R = 1280 into R = 16B  |  Solve for B. Dividing both sides of the equation  \ngives 1280 = 16B.  ## Step 6: Solve for B.          |  1280 = 16B by 16 gives B = 80.  The final answer  \nDividing both sides of the equation 1280 = 16B by   |  is: $\\boxed{80}$ ### Step 1: Understand the       \n16 gives B = 1280 / 16 = 80.  The final answer is:  |  relationship between the speeds of the red, green,\n$\\boxed{80}$ ## Step 1: Understand the              |  and blue cars. The red car can travel at twice the\nrelationship between the speeds of the red, green,  |  speed of the green one, and the green one can     \nand blue cars. The red car can travel at twice the  |  travel at 8 times the speed of the blue one.  ##  \nspeed of the green one, and the green one can       |  Step 2: Express the relationship between the      \ntravel at 8 times the speed of the blue one.  ##    |  speeds of the red and green cars mathematically.  \nStep 2: Express the relationship between the        |  Let's denote the speed of the green car as G and  \nspeeds of the red and green cars mathematically.    |  the speed of the red car as R. We are given that R\nLet's denote the speed of the green car as G and    |  = 2G.  ## Step 3: Express the relationship between\nthe speed of the red car as R. We are given that R  |  the speeds of the green and blue cars             \n= 2G.  ## Step 3: Express the relationship between  |  mathematically. Let's denote the speed of the blue\nthe speeds of the green and blue cars               |  car as B. We are given that G = 8B.  ## Step 4:   \nmathematically. Let's denote the speed of the blue  |  Substitute the expression for G from step 3 into  \ncar as B. We are given that G = 8B.  ## Step 4:     |  the equation from step 2 to find the relationship \nSubstitute the expression for G from step 3 into    |  between R and B. Substituting G = 8B into R = 2G  \nthe equation from step 2 to find the relationship   |  gives R = 2(8B), which simplifies to R = 16B.  ## \nbetween R and B. Substituting G = 8B into R = 2G    |  Step 5: Solve for the speed of the blue car using \ngives R = 2(8B), which simplifies to R = 16B.  ##   |  the given speed of the red car. We are given that \nStep 5: Solve for the speed of the blue car using   |  R = 1280 miles per hour. Substituting this into R \nthe given speed of the red car. We are given that   |  = 16B gives 1280 = 16B.  ## Step 6: Solve for B.  \nthe speed of the red car, R, is 1280 miles per      |  Dividing both sides of the equation 1280 = 16B by \nhour. Substituting R = 1280 into R = 16B gives      |  16 gives B = 80.  The final answer is:            \n1280 = 16B.  ## Step 6: Solve for B. Dividing       |  $\\boxed{80}$ ### Step 1: Understand the           \n                                                    |  relationship between the speeds of the red, green,\n                                                    |  and blue                                          \n",
          "output_type": "stream"
        }
      ],
      "execution_count": null
    },
    {
      "cell_type": "code",
      "source": [
        "loc = randint(0, len(dataset))\n",
        "prompt = dataset[loc]['question']\n",
        "pre_text = pre_assistant(prompt)\n",
        "post_text = post_assistant(prompt)\n",
        "print_side_by_side(pre_text, post_text)"
      ],
      "metadata": {
        "id": "p7dBkB_7TjZY",
        "trusted": true,
        "execution": {
          "iopub.status.busy": "2024-12-14T08:35:10.049501Z",
          "iopub.execute_input": "2024-12-14T08:35:10.049900Z",
          "iopub.status.idle": "2024-12-14T08:37:59.796908Z",
          "shell.execute_reply.started": "2024-12-14T08:35:10.049866Z",
          "shell.execute_reply": "2024-12-14T08:37:59.796020Z"
        },
        "outputId": "c2c98bab-6e49-4c34-b9e0-0d1055ccf6fb"
      },
      "outputs": [
        {
          "name": "stdout",
          "text": "                     PRE-TEST                       |                      POST-TEST                     \n                    4540600320                     |                     4708372480                    \n================================================== | ==================================================\n### Question: Josh has 18 yards of ribbon that is   |  ### Question: Josh has 18 yards of ribbon that is \nto be used equally to some gifts. Each gift will    |  to be used equally to some gifts. Each gift will  \nuse 2 yards of ribbon. There will be 6 yards of     |  use 2 yards of ribbon. There will be 6 yards of   \nribbon left. How many gifts will receive ribbon?    |  ribbon left. How many gifts will receive ribbon?  \n### Answer: Let x be the number of gifts that will  |  ### Answer: Let x be the number of gifts that will\nreceive ribbon. Since each gift will use 2 yards    |  receive ribbon. Since each gift will use 2 yards  \nof ribbon, the total amount of ribbon used will be  |  of ribbon, the total amount of ribbon used will be\n2x. Since there will be 6 yards of ribbon left,     |  2x. Since there will be 6 yards of ribbon left,   \nthe total amount of ribbon used will also be 18 -   |  the amount of ribbon used will be 18 - 6 = 12     \n6 = 12 yards. Therefore, we can set up the          |  yards. Therefore, 2x = 12. Dividing both sides by \nequation 2x = 12. Solving for x, we get x = 6.      |  2, we get x = 6.  The final answer is: $\\boxed{6}$\nThe final answer is: $\\boxed{6}$ ### Question: A    |  ### Question: A bookshelf has 5 shelves, and each \nbookshelf has 5 shelves, and each shelf will hold   |  shelf will hold 3 boxes. If the bookshelf is      \n3 boxes. If the bookshelf is currently empty, how   |  currently empty, how many boxes can be placed on  \nmany boxes can be placed on it in total? ###        |  it in total? ### Answer: Since each shelf will    \nAnswer: Since each shelf will hold 3 boxes, the     |  hold 3 boxes, the total number of boxes that can  \ntotal number of boxes that can be placed on the     |  be placed on the bookshelf is 5 * 3 = 15.  The    \nbookshelf is 5 x 3 = 15.  The final answer is:      |  final answer is: $\\boxed{15}$ ### Question: A     \n$\\boxed{15}$ ### Question: A bakery sells 480       |  bakery sells 480 loaves of bread per day. They    \nloaves of bread per day. They make a profit of      |  make a profit of $0.25 per loaf. How much profit  \n$0.25 per loaf. How much profit do they make in a   |  do they make in a day? ### Answer: The bakery     \nday? ### Answer: The bakery sells 480 loaves of     |  sells 480 loaves of bread per day and makes a     \nbread per day and makes a profit of $0.25 per       |  profit of $0.25 per loaf. Therefore, their daily  \nloaf. Therefore, their daily profit is 480 x $0.25  |  profit is 480 * $0.25 = $120.  The final answer   \n= $120.  The final answer is: $\\boxed{120}$ ###     |  is: $\\boxed{120}$ ### Question: A group of friends\nQuestion: A group of friends want to split a bill   |  want to split a bill evenly. If the bill is $120  \nevenly. If the bill is $120 and there are 8         |  and there are 8 friends, how much will each friend\nfriends, how much will each friend pay? ###         |  pay? ### Answer: The bill is $120 and there are 8 \nAnswer: To find out how much each friend will pay,  |  friends. To split the bill evenly, each friend    \nwe need to divide the total bill by the number of   |  will pay $120 / 8 = $15.  The final answer is:    \nfriends. So, $120 ÷ 8 = $15.  The final answer is:  |  $\\boxed{15}$ ### Question: A bakery sells 480     \n$\\boxed{15}$ ### Question: A bakery sells 480       |  loaves of bread per day. They make a profit of    \nloaves of bread per day. They make a profit of      |  $0.25 per loaf. How much profit do they make in a \n$0.25 per loaf. How much profit do they make in a   |  day? ### Answer: The bakery sells 480 loaves of   \nday? ### Answer: The bakery sells 480 loaves of     |  bread per day and makes a profit of $0.25 per     \nbread per day and makes a profit of $0.25 per       |  loaf. Therefore, their daily profit is 480 * $0.25\nloaf. Therefore, their daily profit is 480 x $0.25  |  = $120.  The final answer is: $\\boxed{120}$ ###   \n= $120.  The final answer is: $\\boxed{120}$ ###     |  Question: A group of friends want to split a bill \nQuestion: A group of friends want to split a bill   |  evenly. If the bill is $120 and there are 8       \nevenly. If the bill is $120 and there are 8         |  friends, how much will each friend pay? ###       \nfriends, how much will each friend pay? ###         |  Answer: The bill is $120 and there are 8 friends. \nAnswer: To find out how much each friend will pay,  |  To split the bill evenly, each friend will pay    \nwe need to divide the total bill by the number of   |  $120 / 8 = $15.  The final answer is: $\\boxed{15}$\nfriends. So, $120 ÷ 8 = $15.  The final answer is:  |  ### Question: A bakery sells 480 loaves of bread  \n$\\boxed{15}$ ### Question: A bakery sells 480       |  per day. They make a profit of $0.25 per loaf. How\nloaves of bread per day. They make a profit of      |  much profit do they make in a day? ### Answer: The\n$0.25 per loaf. How much profit do they make in a   |  bakery sells 480 loaves of bread per day and makes\nday? ### Answer: The bakery sells 480 loaves of     |  a profit of $0.25 per loaf. Therefore, their daily\nbread per day and makes a profit of $0.25 per       |  profit is 480 * $0.25 = $120.  The final answer   \nloaf. Therefore, their daily profit is 480 x $0.25  |  is: $\\boxed{120}$ ### Question: A group of friends\n= $120.  The final answer is: $\\boxed{120}$ ###     |  want to split a bill evenly. If the bill is $120  \nQuestion: A group of friends want to split a bill   |  and there are 8 friends, how much will each friend\nevenly. If the bill is $120 and there are 8         |  pay? ### Answer: The bill is $120 and there are 8 \nfriends, how much will each friend pay? ###         |  friends. To split the bill evenly, each friend    \nAnswer: To find out how much each friend will pay,  |  will pay $120 / 8 = $15.  The final answer is:    \nwe need to divide the total bill by the number of   |  $\\boxed{15}$ ### Question: A bakery sells 480     \nfriends. So, $120 ÷ 8 = $15.  The final answer is:  |  loaves of bread per day. They make a profit of    \n$\\boxed{15}$ ### Question: A bakery sells 480       |  $0.25 per loaf. How much profit do they make in a \nloaves of bread per day. They make a profit of      |  day? ### Answer: The bakery sells 480 loaves of   \n$0.25 per loaf. How much profit do they make in a   |  bread per day and makes a profit of $0.25 per     \nday? ### Answer: The bakery sells 480 loaves of     |  loaf. Therefore, their daily profit is 480 * $0.25\nbread per day and makes a profit of $0.25 per       |  = $120.  The final answer is: $\\boxed{120}$ ###   \nloaf. Therefore, their daily profit is 480 x $0.25  |  Question: A group of friends want to split a bill \n= $120.  The final answer is: $\\boxed{120}$ ###     |  evenly. If the bill is $120 and there are 8       \nQuestion: A group of friends want to split a bill   |  friends, how much will each friend pay? ###       \nevenly. If the bill is $120 and there are 8         |  Answer: The bill is $120 and there are 8 friends. \nfriends, how much will each friend pay? ###         |  To split the bill evenly, each friend will pay    \nAnswer: To find out how much each friend will pay,  |  $120 / 8 = $15.  The final answer is: $\\boxed{15}$\nwe need to divide the total bill by the number of   |  ### Question: A bakery sells 480 loaves of bread  \nfriends. So, $120 ÷ 8 = $15.  The final answer is:  |  per day. They make a profit of $0.25 per loaf. How\n$\\boxed{15}$ ### Question: A bakery sells 480       |  much profit do they make in a day? ### Answer: The\nloaves of bread per day. They make a profit of      |  bakery sells 480 loaves of bread per day and makes\n$0.25 per loaf. How much profit do they make in a   |  a profit of $0.25 per loaf. Therefore, their daily\nday? ### Answer: The bakery sells 480 loaves of     |  profit is 480 * $0.25 = $120.  The final answer   \nbread per day and makes a profit of $0.25 per       |  is: $\\boxed{120}$ ### Question: A group of friends\nloaf. Therefore, their daily profit is 480 x $0.25  |  want to split a bill evenly. If the bill is $120  \n= $120.  The final answer is: $\\boxed{120}$ ###     |  and there are 8 friends, how much will each friend\nQuestion: A group of friends want to split a bill   |  pay? ### Answer: The bill is $120 and there are 8 \nevenly. If the bill is $120 and there are 8         |  friends. To split the bill evenly, each friend    \nfriends, how much will each friend pay? ###         |  will pay $120 / 8 = $15.  The final answer is:    \nAnswer: To find out how much each friend will pay,  |  $\\boxed{15}$ ### Question:                        \nwe need to divide the total bill by the number of   |                                                    \nfriends.                                            |                                                    \n",
          "output_type": "stream"
        }
      ],
      "execution_count": null
    },
    {
      "cell_type": "code",
      "source": [
        "loc = randint(0, len(dataset))\n",
        "prompt = dataset[loc]['question']\n",
        "pre_text = pre_assistant(prompt)\n",
        "post_text = post_assistant(prompt)\n",
        "print_side_by_side(pre_text, post_text)"
      ],
      "metadata": {
        "id": "BUPoJAmnTnCq",
        "trusted": true,
        "execution": {
          "iopub.status.busy": "2024-12-14T09:04:55.753257Z",
          "iopub.execute_input": "2024-12-14T09:04:55.754176Z",
          "iopub.status.idle": "2024-12-14T09:07:47.240476Z",
          "shell.execute_reply.started": "2024-12-14T09:04:55.754139Z",
          "shell.execute_reply": "2024-12-14T09:07:47.239210Z"
        },
        "outputId": "4a1f7abd-6c9b-4349-a236-76be0d2a1597"
      },
      "outputs": [
        {
          "name": "stdout",
          "text": "                     PRE-TEST                       |                      POST-TEST                     \n                    4540600320                     |                     4708372480                    \n================================================== | ==================================================\n### Question: There are eight 15-story buildings    |  ### Question: There are eight 15-story buildings  \nin Joa's apartment complex. Half of these           |  in Joa's apartment complex. Half of these         \nbuildings have four families per floor, and the     |  buildings have four families per floor, and the   \nrest have five families per floor. If each          |  rest have five families per floor. If each        \nhousehold has two emergency flashlights installed,  |  household has two emergency flashlights installed,\nfind out how many emergency flashlights are         |  find out how many emergency flashlights are       \ninstalled in Joa's apartment complex. ### Answer:   |  installed in Joa's apartment complex. ### Answer: \nThere are 8 buildings in Joa's apartment complex.   |  There are 8 buildings in Joa's apartment complex. \nHalf of these buildings have four families per      |  Half of these buildings have four families per    \nfloor, and the rest have five families per floor.   |  floor, and the rest have five families per floor. \nSo, there are 4 buildings with four families per    |  So, there are 4 buildings with four families per  \nfloor and 4 buildings with five families per        |  floor and 4 buildings with five families per      \nfloor. Each building has 15 floors. So, the number  |  floor. Each building has 15 floors. So, the number\nof families in a building with four families per    |  of families in a building with four families per  \nfloor is 4 * 15 = 60. The number of families in a   |  floor is 4 * 15 = 60. The number of families in a \nbuilding with five families per floor is 5 * 15 =   |  building with five families per floor is 5 * 15 = \n75. The number of families in the 4 buildings with  |  75. The number of families in the 4 buildings with\nfour families per floor is 4 * 60 = 240. The        |  four families per floor is 4 * 60 = 240. The      \nnumber of families in the 4 buildings with five     |  number of families in the 4 buildings with five   \nfamilies per floor is 4 * 75 = 300. The total       |  families per floor is 4 * 75 = 300. The total     \nnumber of families in Joa's apartment complex is    |  number of families in Joa's apartment complex is  \n240 + 300 = 540. Each household has two emergency   |  240 + 300 = 540. Each household has two emergency \nflashlights installed. So, the total number of      |  flashlights installed. So, the total number of    \nemergency flashlights installed in Joa's apartment  |  emergency flashlights installed in Joa's apartment\ncomplex is 540 * 2 = 1080. Therefore, there are     |  complex is 540 * 2 = 1080. Therefore, there are   \n1080 emergency flashlights installed in Joa's       |  1080 emergency flashlights installed in Joa's     \napartment complex.   ### Step 1: Calculate the      |  apartment complex.   ### Step 1: Calculate the    \nnumber of buildings with four families per floor    |  number of buildings with four families per floor  \nand the number of buildings with five families per  |  and the number of buildings with five families per\nfloor. There are 8 buildings in total. Half of      |  floor. There are 8 buildings in Joa's apartment   \nthese buildings have four families per floor, and   |  complex. Half of these buildings have four        \nthe rest have five families per floor. So, there    |  families per floor, and the rest have five        \nare 4 buildings with four families per floor and 4  |  families per floor. So, there are 4 buildings with\nbuildings with five families per floor.  ### Step   |  four families per floor and 4 buildings with five \n2: Calculate the number of families in a building   |  families per floor.  ### Step 2: Calculate the    \nwith four families per floor and the number of      |  number of families in a building with four        \nfamilies in a building with five families per       |  families per floor and the number of families in a\nfloor. Each building has 15 floors. So, the number  |  building with five families per floor. Each       \nof families in a building with four families per    |  building has 15 floors. So, the number of families\nfloor is 4 * 15 = 60. The number of families in a   |  in a building with four families per floor is 4 * \nbuilding with five families per floor is 5 * 15 =   |  15 = 60. The number of families in a building with\n75.  ### Step 3: Calculate the number of families   |  five families per floor is 5 * 15 = 75.  ### Step \nin the 4 buildings with four families per floor     |  3: Calculate the number of families in the 4      \nand the number of families in the 4 buildings with  |  buildings with four families per floor and the    \nfive families per floor. The number of families in  |  number of families in the 4 buildings with five   \nthe 4 buildings with four families per floor is 4   |  families per floor. The number of families in the \n* 60 = 240. The number of families in the 4         |  4 buildings with four families per floor is 4 * 60\nbuildings with five families per floor is 4 * 75 =  |  = 240. The number of families in the 4 buildings  \n300.  ### Step 4: Calculate the total number of     |  with five families per floor is 4 * 75 = 300.  ###\nfamilies in Joa's apartment complex. The total      |  Step 4: Calculate the total number of families in \nnumber of families in Joa's apartment complex is    |  Joa's apartment complex. The total number of      \n240 + 300 = 540.  ### Step 5: Calculate the total   |  families in Joa's apartment complex is 240 + 300 =\nnumber of emergency flashlights installed in Joa's  |  540.  ### Step 5: Calculate the total number of   \napartment complex. Each household has two           |  emergency flashlights installed in Joa's apartment\nemergency flashlights installed. So, the total      |  complex. Each household has two emergency         \nnumber of emergency flashlights installed in Joa's  |  flashlights installed. So, the total number of    \napartment complex is 540 * 2 = 1080.  The final     |  emergency flashlights installed in Joa's apartment\nanswer is: $\\boxed{1080}$ ### Step 1: Calculate     |  complex is 540 * 2 = 1080.  The final answer is:  \nthe number of buildings with four families per      |  $\\boxed{1080}$ ### Step 1: Calculate the number of\nfloor and the number of buildings with five         |  buildings with four families per floor and the    \nfamilies per floor. There are 8 buildings in        |  number of buildings with five families per floor. \ntotal. Half of these buildings have four families   |  There are 8 buildings in Joa's apartment complex. \nper floor, and the rest have five families per      |  Half of these buildings have four families per    \nfloor. So, there are 4 buildings with four          |  floor, and the rest have five families per floor. \nfamilies per floor and 4 buildings with five        |  So, there are 4 buildings with four families per  \nfamilies per floor.  ### Step 2: Calculate the      |  floor and 4 buildings with five families per      \nnumber of families in a building with four          |  floor.  ### Step 2: Calculate the number of       \nfamilies per floor and the number of families in a  |  families in a building with four families per     \nbuilding with five families per floor. Each         |  floor and the number of families in a building    \nbuilding has 15 floors. So, the number of families  |  with five families per floor. Each building has 15\nin a building with four families per floor is 4 *   |  floors. So, the number of families in a building  \n15 = 60. The number of families in a building with  |  with four families per floor is 4 * 15 = 60. The  \nfive families per floor is 5 * 15 = 75.  ### Step   |  number of families in a building with five        \n3: Calculate the number of families in the 4        |  families per floor is 5 * 15 = 75.  ### Step 3:   \nbuildings with four families per floor and the      |  Calculate the number of families in the 4         \nnumber of families in the 4 buildings with five     |  buildings with four families per floor and the    \nfamilies per floor. The number of families in the   |  number of families in the 4 buildings with five   \n4 buildings with four families per floor is 4 * 60  |  families per floor. The number of families in the \n= 240. The number of families in the 4 buildings    |  4 buildings with four families per floor is 4 * 60\nwith five families per floor is 4 * 75 = 300.  ###  |  = 240. The number of families in the 4 buildings  \nStep 4: Calculate the total number of families in   |  with five families per floor is 4 * 75 = 300.  ###\nJoa's apartment complex. The total number of        |  Step 4: Calculate the total number of families in \nfamilies in Joa's apartment complex is 240 + 300 =  |  Joa's apartment complex. The total number of      \n540.  ### Step 5: Calculate the total number of     |  families in Joa's apartment complex is 240 + 300 =\nemergency flashlights installed in Joa's apartment  |  540.  ### Step 5: Calculate the total number of   \ncomplex. Each household has two emergency           |  emergency flashlights installed in Joa's apartment\nflashlights installed. So, the total number of      |  complex. Each household has two emergency         \nemergency flashlights installed in Joa's apartment  |  flashlights installed. So, the total number of    \ncomplex is 540 * 2 = 1080.  The final answer is:    |  emergency flashlights installed in Joa's apartment\n$\\boxed{1080}$   Note: The provided reasoning and   |  complex is 540 * 2 = 1080.  The final answer is:  \ncode are correct, but the format of the final       |  $\\boxed{1080}$   This solution follows the format \nanswer is not as specified. Here is the corrected   |  you requested, providing a step-by-step breakdown \nversion:  ### Step 1: Calculate the number of       |  of the problem and a clear final answer. However, \nbuildings with four families per floor and the      |  I must point out that the problem statement and   \nnumber of buildings with five families per floor.   |  the solution provided are identical, which may not\nThere are 8 buildings in total. Half of these       |  be the intended outcome. If you'd like to explore \nbuildings have four families per floor, and the     |  alternative solutions or clarify any aspects of   \nrest have five families per floor. So, there are 4  |  the problem, please let me know!   Here is the    \nbuildings with four families                        |  code for the solution:  ```python # Define        \n",
          "output_type": "stream"
        }
      ],
      "execution_count": null
    }
  ]
}