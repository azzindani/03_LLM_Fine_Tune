{
  "metadata": {
    "kernelspec": {
      "name": "python3",
      "display_name": "Python 3",
      "language": "python"
    },
    "language_info": {
      "name": "python",
      "version": "3.10.14",
      "mimetype": "text/x-python",
      "codemirror_mode": {
        "name": "ipython",
        "version": 3
      },
      "pygments_lexer": "ipython3",
      "nbconvert_exporter": "python",
      "file_extension": ".py"
    },
    "accelerator": "GPU",
    "colab": {
      "gpuType": "T4",
      "provenance": [],
      "include_colab_link": true
    },
    "kaggle": {
      "accelerator": "gpu",
      "dataSources": [],
      "dockerImageVersionId": 30786,
      "isInternetEnabled": true,
      "language": "python",
      "sourceType": "notebook",
      "isGpuEnabled": true
    }
  },
  "nbformat_minor": 0,
  "nbformat": 4,
  "cells": [
    {
      "cell_type": "markdown",
      "metadata": {
        "id": "view-in-github",
        "colab_type": "text"
      },
      "source": [
        "<a href=\"https://colab.research.google.com/github/azzindani/03_LLM_Fine_Tune/blob/main/Qwen2.5_1.5B_Instruct_Fine_Tune_PEFT_v3.ipynb\" target=\"_parent\"><img src=\"https://colab.research.google.com/assets/colab-badge.svg\" alt=\"Open In Colab\"/></a>"
      ]
    },
    {
      "cell_type": "markdown",
      "source": [
        "## 00 Import Modules"
      ],
      "metadata": {
        "id": "iNW_MCROx_hX"
      }
    },
    {
      "cell_type": "code",
      "source": [
        "!pip install -q --upgrade transformers\n",
        "!pip install -q peft\n",
        "!pip install -U -q bitsandbytes\n",
        "!pip install -q datasets\n",
        "!pip install -q trl"
      ],
      "metadata": {
        "id": "0-QxfiDVyT74",
        "trusted": true,
        "execution": {
          "iopub.status.busy": "2024-12-07T10:16:05.997726Z",
          "iopub.execute_input": "2024-12-07T10:16:05.998048Z",
          "iopub.status.idle": "2024-12-07T10:17:09.581741Z",
          "shell.execute_reply.started": "2024-12-07T10:16:05.998014Z",
          "shell.execute_reply": "2024-12-07T10:17:09.580471Z"
        }
      },
      "outputs": [],
      "execution_count": null
    },
    {
      "cell_type": "code",
      "source": [
        "import os\n",
        "import pathlib\n",
        "import torch\n",
        "import numpy as np\n",
        "import textwrap\n",
        "\n",
        "from random import randint\n",
        "from itertools import zip_longest\n",
        "from datetime import datetime\n",
        "from datasets import load_dataset\n",
        "from datasets import Dataset\n",
        "from sklearn.model_selection import train_test_split\n",
        "from sklearn.metrics import accuracy_score, precision_recall_fscore_support\n",
        "from trl import SFTTrainer\n",
        "\n",
        "from transformers import (\n",
        "  AutoTokenizer,\n",
        "  AutoModelForCausalLM,\n",
        "  AutoModelForSeq2SeqLM,\n",
        "  AutoModel,\n",
        "  AutoModelForSequenceClassification,\n",
        "  DataCollatorForLanguageModeling,\n",
        "  Trainer,\n",
        "  TrainingArguments,\n",
        "  pipeline,\n",
        "  TextDataset,\n",
        "  EvalPrediction,\n",
        "  DataCollatorWithPadding,\n",
        "  GenerationConfig,\n",
        "  BitsAndBytesConfig,\n",
        "  DataCollatorForSeq2Seq,\n",
        "  TextStreamer\n",
        ")\n",
        "\n",
        "from peft import (\n",
        "  LoraConfig,\n",
        "  PeftModelForSequenceClassification,\n",
        "  PeftModel,\n",
        "  TaskType,\n",
        "  AutoPeftModelForSequenceClassification,\n",
        "  get_peft_model,\n",
        "  prepare_model_for_kbit_training\n",
        ")\n",
        "\n",
        "if torch.cuda.is_available():\n",
        "  print(\"GPU is available!\")\n",
        "else:\n",
        "  print(\"GPU is not available.\")"
      ],
      "metadata": {
        "id": "TIgNx9Orx0It",
        "trusted": true,
        "outputId": "248c8f10-5eae-49a5-ba03-c6c30698404f",
        "execution": {
          "iopub.status.busy": "2024-12-07T10:17:09.584051Z",
          "iopub.execute_input": "2024-12-07T10:17:09.584402Z",
          "iopub.status.idle": "2024-12-07T10:17:28.636215Z",
          "shell.execute_reply.started": "2024-12-07T10:17:09.584362Z",
          "shell.execute_reply": "2024-12-07T10:17:28.635339Z"
        }
      },
      "outputs": [
        {
          "name": "stdout",
          "text": "GPU is available!\n",
          "output_type": "stream"
        }
      ],
      "execution_count": null
    },
    {
      "cell_type": "code",
      "source": [
        "device = torch.device(\"cuda\" if torch.cuda.is_available() else \"cpu\")\n",
        "device"
      ],
      "metadata": {
        "id": "i-nwkyTDybqY",
        "trusted": true,
        "outputId": "f7789872-8053-4e26-a665-0c4f94689529",
        "execution": {
          "iopub.status.busy": "2024-12-07T10:17:28.637482Z",
          "iopub.execute_input": "2024-12-07T10:17:28.637815Z",
          "iopub.status.idle": "2024-12-07T10:17:28.645136Z",
          "shell.execute_reply.started": "2024-12-07T10:17:28.637787Z",
          "shell.execute_reply": "2024-12-07T10:17:28.643451Z"
        }
      },
      "outputs": [
        {
          "execution_count": 3,
          "output_type": "execute_result",
          "data": {
            "text/plain": "device(type='cuda')"
          },
          "metadata": {}
        }
      ],
      "execution_count": null
    },
    {
      "cell_type": "markdown",
      "source": [
        "## 01 Import Model"
      ],
      "metadata": {
        "id": "grIeJpUdyX0Y"
      }
    },
    {
      "cell_type": "code",
      "source": [
        "model_name = 'Qwen/Qwen2.5-1.5B-Instruct'"
      ],
      "metadata": {
        "id": "14Lkvw4cyZkY",
        "trusted": true,
        "execution": {
          "iopub.status.busy": "2024-12-07T10:17:28.647226Z",
          "iopub.execute_input": "2024-12-07T10:17:28.647615Z",
          "iopub.status.idle": "2024-12-07T10:17:28.676325Z",
          "shell.execute_reply.started": "2024-12-07T10:17:28.647551Z",
          "shell.execute_reply": "2024-12-07T10:17:28.675589Z"
        }
      },
      "outputs": [],
      "execution_count": null
    },
    {
      "cell_type": "code",
      "source": [
        "def load_model(model_name, base = True):\n",
        "  if base == True:\n",
        "    model = AutoModelForCausalLM.from_pretrained(\n",
        "      model_name,\n",
        "      torch_dtype = torch.float16,\n",
        "      trust_remote_code = True\n",
        "    ).to(device)\n",
        "\n",
        "    return model\n",
        "\n",
        "  else:\n",
        "    bnb_config = BitsAndBytesConfig(\n",
        "      load_in_4bit = True,\n",
        "      bnb_4bit_quant_type = 'nf4',\n",
        "      bnb_4bit_compute_dtype = torch.float16,\n",
        "      bnb_4bit_use_double_quant = True,\n",
        "    )\n",
        "    model = AutoModelForCausalLM.from_pretrained(\n",
        "      model_name,\n",
        "      quantization_config = bnb_config,\n",
        "      trust_remote_code = True\n",
        "    ).to(device)\n",
        "\n",
        "    return model"
      ],
      "metadata": {
        "id": "GlskFscYyeco",
        "trusted": true,
        "execution": {
          "iopub.status.busy": "2024-12-07T10:17:28.677216Z",
          "iopub.execute_input": "2024-12-07T10:17:28.677429Z",
          "iopub.status.idle": "2024-12-07T10:17:28.688265Z",
          "shell.execute_reply.started": "2024-12-07T10:17:28.677407Z",
          "shell.execute_reply": "2024-12-07T10:17:28.687604Z"
        }
      },
      "outputs": [],
      "execution_count": null
    },
    {
      "cell_type": "code",
      "source": [
        "model = load_model(model_name, base = False)\n",
        "model"
      ],
      "metadata": {
        "id": "HIYgZ1xF1qsl",
        "trusted": true,
        "execution": {
          "iopub.status.busy": "2024-12-07T10:17:28.689287Z",
          "iopub.execute_input": "2024-12-07T10:17:28.689883Z",
          "iopub.status.idle": "2024-12-07T10:18:47.536432Z",
          "shell.execute_reply.started": "2024-12-07T10:17:28.689846Z",
          "shell.execute_reply": "2024-12-07T10:18:47.535639Z"
        }
      },
      "outputs": [],
      "execution_count": null
    },
    {
      "cell_type": "code",
      "source": [
        "total_params = sum(p.numel() for p in model.parameters())\n",
        "trainable_params = sum(p.numel() for p in model.parameters() if p.requires_grad)\n",
        "trainable_percentage = (trainable_params / total_params) * 100\n",
        "\n",
        "print('Total parameters :', total_params)\n",
        "print('Trainable parameters :', trainable_params)\n",
        "print('Trainable percentage: {:.2f}%'.format(trainable_percentage))"
      ],
      "metadata": {
        "id": "j6d6uYBfzCC4",
        "trusted": true,
        "execution": {
          "iopub.status.busy": "2024-12-07T10:18:47.537339Z",
          "iopub.execute_input": "2024-12-07T10:18:47.537631Z",
          "iopub.status.idle": "2024-12-07T10:18:47.546860Z",
          "shell.execute_reply.started": "2024-12-07T10:18:47.537602Z",
          "shell.execute_reply": "2024-12-07T10:18:47.544297Z"
        },
        "outputId": "b053a731-a8b3-4f75-f2a5-49604a22f82f"
      },
      "outputs": [
        {
          "name": "stdout",
          "text": "Total parameters : 888616448\nTrainable parameters : 233461248\nTrainable percentage: 26.27%\n",
          "output_type": "stream"
        }
      ],
      "execution_count": null
    },
    {
      "cell_type": "markdown",
      "source": [
        "## 02 Import Tokenizer"
      ],
      "metadata": {
        "id": "MU_19rT5zEIZ"
      }
    },
    {
      "cell_type": "code",
      "source": [
        "tokenizer = AutoTokenizer.from_pretrained(model_name)\n",
        "#tokenizer"
      ],
      "metadata": {
        "id": "lpB5JUjSzGtJ",
        "trusted": true,
        "execution": {
          "iopub.status.busy": "2024-12-07T10:18:47.547839Z",
          "iopub.execute_input": "2024-12-07T10:18:47.548074Z",
          "iopub.status.idle": "2024-12-07T10:18:52.598751Z",
          "shell.execute_reply.started": "2024-12-07T10:18:47.548050Z",
          "shell.execute_reply": "2024-12-07T10:18:52.598025Z"
        }
      },
      "outputs": [],
      "execution_count": null
    },
    {
      "cell_type": "markdown",
      "source": [
        "## 03 Import Dataset"
      ],
      "metadata": {
        "id": "3QJUqcUVzNoJ"
      }
    },
    {
      "cell_type": "code",
      "source": [
        "dataset_name = 'microsoft/orca-math-word-problems-200k'"
      ],
      "metadata": {
        "id": "U01UXJdLzPXS",
        "trusted": true,
        "execution": {
          "iopub.status.busy": "2024-12-07T10:18:52.600139Z",
          "iopub.execute_input": "2024-12-07T10:18:52.600416Z",
          "iopub.status.idle": "2024-12-07T10:18:52.604305Z",
          "shell.execute_reply.started": "2024-12-07T10:18:52.600389Z",
          "shell.execute_reply": "2024-12-07T10:18:52.603451Z"
        }
      },
      "outputs": [],
      "execution_count": null
    },
    {
      "cell_type": "code",
      "source": [
        "max_length = 384"
      ],
      "metadata": {
        "id": "ZGIUyIDhNJC2",
        "trusted": true,
        "execution": {
          "iopub.status.busy": "2024-12-07T10:18:52.607206Z",
          "iopub.execute_input": "2024-12-07T10:18:52.607968Z",
          "iopub.status.idle": "2024-12-07T10:18:52.618199Z",
          "shell.execute_reply.started": "2024-12-07T10:18:52.607940Z",
          "shell.execute_reply": "2024-12-07T10:18:52.617528Z"
        }
      },
      "outputs": [],
      "execution_count": null
    },
    {
      "cell_type": "code",
      "source": [
        "dataset = load_dataset(dataset_name, split = 'train')\n",
        "dataset"
      ],
      "metadata": {
        "id": "0ucM3l_FzUkp",
        "trusted": true,
        "execution": {
          "iopub.status.busy": "2024-12-07T10:18:52.619016Z",
          "iopub.execute_input": "2024-12-07T10:18:52.619263Z",
          "iopub.status.idle": "2024-12-07T10:18:57.594495Z",
          "shell.execute_reply.started": "2024-12-07T10:18:52.619239Z",
          "shell.execute_reply": "2024-12-07T10:18:57.593812Z"
        }
      },
      "outputs": [],
      "execution_count": null
    },
    {
      "cell_type": "code",
      "source": [
        "dataset = dataset.select(range(10000))"
      ],
      "metadata": {
        "trusted": true,
        "execution": {
          "iopub.status.busy": "2024-12-07T10:18:57.595490Z",
          "iopub.execute_input": "2024-12-07T10:18:57.595795Z",
          "iopub.status.idle": "2024-12-07T10:18:57.602057Z",
          "shell.execute_reply.started": "2024-12-07T10:18:57.595767Z",
          "shell.execute_reply": "2024-12-07T10:18:57.601372Z"
        },
        "id": "ozXBfCJStZkq"
      },
      "outputs": [],
      "execution_count": null
    },
    {
      "cell_type": "code",
      "source": [
        "dataset.select(range(5)).to_pandas().head()"
      ],
      "metadata": {
        "id": "FLRSMhJDzY5Z",
        "trusted": true,
        "execution": {
          "iopub.status.busy": "2024-12-07T10:18:57.603145Z",
          "iopub.execute_input": "2024-12-07T10:18:57.603425Z",
          "iopub.status.idle": "2024-12-07T10:18:57.633758Z",
          "shell.execute_reply.started": "2024-12-07T10:18:57.603400Z",
          "shell.execute_reply": "2024-12-07T10:18:57.632985Z"
        },
        "outputId": "da61b20c-ebb5-48f7-9eab-f492234eb27a"
      },
      "outputs": [
        {
          "execution_count": 13,
          "output_type": "execute_result",
          "data": {
            "text/plain": "                                            question  \\\n0  Jungkook is the 5th place. Find the number of ...   \n1  A number divided by 10 is 6. Yoongi got the re...   \n2  Dongju selects a piece of paper with a number ...   \n3  You wanted to subtract 46 from a number, but y...   \n4  The length of one span of Jinseo is about 12 c...   \n\n                                              answer  \n0  If Jungkook is in 5th place, then 4 people cro...  \n1  Let's call the certain number \"x\". According t...  \n2  To find the second smallest and third smallest...  \n3  If you accidentally subtracted 59 instead of 4...  \n4  If one span of Jinseo is about 12 centimeters ...  ",
            "text/html": "<div>\n<style scoped>\n    .dataframe tbody tr th:only-of-type {\n        vertical-align: middle;\n    }\n\n    .dataframe tbody tr th {\n        vertical-align: top;\n    }\n\n    .dataframe thead th {\n        text-align: right;\n    }\n</style>\n<table border=\"1\" class=\"dataframe\">\n  <thead>\n    <tr style=\"text-align: right;\">\n      <th></th>\n      <th>question</th>\n      <th>answer</th>\n    </tr>\n  </thead>\n  <tbody>\n    <tr>\n      <th>0</th>\n      <td>Jungkook is the 5th place. Find the number of ...</td>\n      <td>If Jungkook is in 5th place, then 4 people cro...</td>\n    </tr>\n    <tr>\n      <th>1</th>\n      <td>A number divided by 10 is 6. Yoongi got the re...</td>\n      <td>Let's call the certain number \"x\". According t...</td>\n    </tr>\n    <tr>\n      <th>2</th>\n      <td>Dongju selects a piece of paper with a number ...</td>\n      <td>To find the second smallest and third smallest...</td>\n    </tr>\n    <tr>\n      <th>3</th>\n      <td>You wanted to subtract 46 from a number, but y...</td>\n      <td>If you accidentally subtracted 59 instead of 4...</td>\n    </tr>\n    <tr>\n      <th>4</th>\n      <td>The length of one span of Jinseo is about 12 c...</td>\n      <td>If one span of Jinseo is about 12 centimeters ...</td>\n    </tr>\n  </tbody>\n</table>\n</div>"
          },
          "metadata": {}
        }
      ],
      "execution_count": null
    },
    {
      "cell_type": "code",
      "source": [
        "dataset[0]"
      ],
      "metadata": {
        "id": "3exPEy0JdLyI",
        "trusted": true,
        "execution": {
          "iopub.status.busy": "2024-12-07T10:18:57.634743Z",
          "iopub.execute_input": "2024-12-07T10:18:57.634994Z",
          "iopub.status.idle": "2024-12-07T10:18:57.642358Z",
          "shell.execute_reply.started": "2024-12-07T10:18:57.634970Z",
          "shell.execute_reply": "2024-12-07T10:18:57.641504Z"
        },
        "outputId": "6c4f5153-27ce-48a6-b6b8-b6f5bcfda33f"
      },
      "outputs": [
        {
          "execution_count": 14,
          "output_type": "execute_result",
          "data": {
            "text/plain": "{'question': 'Jungkook is the 5th place. Find the number of people who crossed the finish line faster than Jungkook.',\n 'answer': 'If Jungkook is in 5th place, then 4 people crossed the finish line faster than him.'}"
          },
          "metadata": {}
        }
      ],
      "execution_count": null
    },
    {
      "cell_type": "code",
      "source": [
        "features = list(dataset.features.keys())\n",
        "print(features)"
      ],
      "metadata": {
        "id": "xYKmTDtkAnt5",
        "trusted": true,
        "execution": {
          "iopub.status.busy": "2024-12-07T10:18:57.643405Z",
          "iopub.execute_input": "2024-12-07T10:18:57.643758Z",
          "iopub.status.idle": "2024-12-07T10:18:57.654430Z",
          "shell.execute_reply.started": "2024-12-07T10:18:57.643734Z",
          "shell.execute_reply": "2024-12-07T10:18:57.653615Z"
        },
        "outputId": "d3bcd8ca-0be0-4a76-fc6b-ee1b2ccfa9b5"
      },
      "outputs": [
        {
          "name": "stdout",
          "text": "['question', 'answer']\n",
          "output_type": "stream"
        }
      ],
      "execution_count": null
    },
    {
      "cell_type": "markdown",
      "source": [
        "## 04 Text Formatting"
      ],
      "metadata": {
        "id": "Wq59WgYJCDY0"
      }
    },
    {
      "cell_type": "code",
      "source": [
        "prompt_format = \"\"\"### Question:\\n{}\\n### Answer:\\n{}\"\"\""
      ],
      "metadata": {
        "trusted": true,
        "execution": {
          "iopub.status.busy": "2024-12-07T10:18:57.655593Z",
          "iopub.execute_input": "2024-12-07T10:18:57.655920Z",
          "iopub.status.idle": "2024-12-07T10:18:57.666680Z",
          "shell.execute_reply.started": "2024-12-07T10:18:57.655886Z",
          "shell.execute_reply": "2024-12-07T10:18:57.665992Z"
        },
        "id": "trtH6SQKtZkr"
      },
      "outputs": [],
      "execution_count": null
    },
    {
      "cell_type": "code",
      "source": [
        "EOS_TOKEN = tokenizer.eos_token # Must add EOS_TOKEN\n",
        "\n",
        "def preprocess(examples):\n",
        "  input = examples['question']\n",
        "  output = examples['answer']\n",
        "\n",
        "  text = prompt_format.format(input, output) + EOS_TOKEN\n",
        "  return {'prompt' : text}"
      ],
      "metadata": {
        "id": "0wXJNFBWWNYP",
        "trusted": true,
        "execution": {
          "iopub.status.busy": "2024-12-07T10:18:57.667593Z",
          "iopub.execute_input": "2024-12-07T10:18:57.667836Z",
          "iopub.status.idle": "2024-12-07T10:18:57.677954Z",
          "shell.execute_reply.started": "2024-12-07T10:18:57.667813Z",
          "shell.execute_reply": "2024-12-07T10:18:57.677260Z"
        }
      },
      "outputs": [],
      "execution_count": null
    },
    {
      "cell_type": "code",
      "source": [
        "formatted_dataset = dataset.map(preprocess, remove_columns = features)\n",
        "formatted_dataset"
      ],
      "metadata": {
        "id": "7TFGpGhoWS9e",
        "trusted": true,
        "execution": {
          "iopub.status.busy": "2024-12-07T10:18:57.678841Z",
          "iopub.execute_input": "2024-12-07T10:18:57.679151Z",
          "iopub.status.idle": "2024-12-07T10:18:58.121422Z",
          "shell.execute_reply.started": "2024-12-07T10:18:57.679114Z",
          "shell.execute_reply": "2024-12-07T10:18:58.120336Z"
        }
      },
      "outputs": [],
      "execution_count": null
    },
    {
      "cell_type": "code",
      "source": [
        "print(formatted_dataset[0]['prompt'])"
      ],
      "metadata": {
        "id": "Kidf8H5zefDC",
        "trusted": true,
        "execution": {
          "iopub.status.busy": "2024-12-07T10:18:58.122613Z",
          "iopub.execute_input": "2024-12-07T10:18:58.122966Z",
          "iopub.status.idle": "2024-12-07T10:18:58.128116Z",
          "shell.execute_reply.started": "2024-12-07T10:18:58.122927Z",
          "shell.execute_reply": "2024-12-07T10:18:58.127105Z"
        },
        "outputId": "9839c8e7-b7ef-436f-b640-50dfeda0dea1"
      },
      "outputs": [
        {
          "name": "stdout",
          "text": "### Question:\nJungkook is the 5th place. Find the number of people who crossed the finish line faster than Jungkook.\n### Answer:\nIf Jungkook is in 5th place, then 4 people crossed the finish line faster than him.<|im_end|>\n",
          "output_type": "stream"
        }
      ],
      "execution_count": null
    },
    {
      "cell_type": "markdown",
      "source": [
        "## 05 Tokenization"
      ],
      "metadata": {
        "id": "UMhGDyBpCHoT"
      }
    },
    {
      "cell_type": "code",
      "source": [
        "def tokenize_data(example, max_length = max_length):\n",
        "  return tokenizer(example['prompt'], truncation = True, padding = 'max_length', max_length = max_length)"
      ],
      "metadata": {
        "id": "m7bxU8fiewb7",
        "trusted": true,
        "execution": {
          "iopub.status.busy": "2024-12-07T10:18:58.129400Z",
          "iopub.execute_input": "2024-12-07T10:18:58.129748Z",
          "iopub.status.idle": "2024-12-07T10:18:58.152471Z",
          "shell.execute_reply.started": "2024-12-07T10:18:58.129710Z",
          "shell.execute_reply": "2024-12-07T10:18:58.151858Z"
        }
      },
      "outputs": [],
      "execution_count": null
    },
    {
      "cell_type": "code",
      "source": [
        "tokenized_dataset = formatted_dataset.map(tokenize_data)#, batched = True)#, remove_columns = 'text')\n",
        "tokenized_dataset"
      ],
      "metadata": {
        "id": "M3BO26k-BmdS",
        "trusted": true,
        "execution": {
          "iopub.status.busy": "2024-12-07T10:18:58.153474Z",
          "iopub.execute_input": "2024-12-07T10:18:58.153759Z",
          "iopub.status.idle": "2024-12-07T10:19:07.266497Z",
          "shell.execute_reply.started": "2024-12-07T10:18:58.153734Z",
          "shell.execute_reply": "2024-12-07T10:19:07.265621Z"
        }
      },
      "outputs": [],
      "execution_count": null
    },
    {
      "cell_type": "code",
      "source": [
        "print(tokenized_dataset[0]['prompt'])"
      ],
      "metadata": {
        "id": "wEHhMdV4pEFH",
        "trusted": true,
        "execution": {
          "iopub.status.busy": "2024-12-07T10:19:07.267490Z",
          "iopub.execute_input": "2024-12-07T10:19:07.267763Z",
          "iopub.status.idle": "2024-12-07T10:19:07.273850Z",
          "shell.execute_reply.started": "2024-12-07T10:19:07.267738Z",
          "shell.execute_reply": "2024-12-07T10:19:07.273035Z"
        },
        "outputId": "e0c43064-d5fb-4e91-aa4e-2e42a90c6eaf"
      },
      "outputs": [
        {
          "name": "stdout",
          "text": "### Question:\nJungkook is the 5th place. Find the number of people who crossed the finish line faster than Jungkook.\n### Answer:\nIf Jungkook is in 5th place, then 4 people crossed the finish line faster than him.<|im_end|>\n",
          "output_type": "stream"
        }
      ],
      "execution_count": null
    },
    {
      "cell_type": "code",
      "source": [
        "tokenized_dataset = tokenized_dataset.train_test_split(test_size = 0.1, seed = 42)\n",
        "tokenized_dataset"
      ],
      "metadata": {
        "id": "C2m-e-ivDn1A",
        "trusted": true,
        "execution": {
          "iopub.status.busy": "2024-12-07T10:19:07.274862Z",
          "iopub.execute_input": "2024-12-07T10:19:07.275105Z",
          "iopub.status.idle": "2024-12-07T10:19:07.349349Z",
          "shell.execute_reply.started": "2024-12-07T10:19:07.275082Z",
          "shell.execute_reply": "2024-12-07T10:19:07.348630Z"
        },
        "outputId": "0b9de6e1-fc4c-40f2-f3fd-64e86467ed9a"
      },
      "outputs": [
        {
          "execution_count": 23,
          "output_type": "execute_result",
          "data": {
            "text/plain": "DatasetDict({\n    train: Dataset({\n        features: ['prompt', 'input_ids', 'attention_mask'],\n        num_rows: 9000\n    })\n    test: Dataset({\n        features: ['prompt', 'input_ids', 'attention_mask'],\n        num_rows: 1000\n    })\n})"
          },
          "metadata": {}
        }
      ],
      "execution_count": null
    },
    {
      "cell_type": "code",
      "source": [
        "train_dataset = tokenized_dataset['train']\n",
        "test_dataset = tokenized_dataset['test']\n",
        "train_dataset"
      ],
      "metadata": {
        "id": "QHs-BnR_zd9C",
        "trusted": true,
        "execution": {
          "iopub.status.busy": "2024-12-07T10:19:07.350536Z",
          "iopub.execute_input": "2024-12-07T10:19:07.350874Z",
          "iopub.status.idle": "2024-12-07T10:19:07.358545Z",
          "shell.execute_reply.started": "2024-12-07T10:19:07.350849Z",
          "shell.execute_reply": "2024-12-07T10:19:07.357780Z"
        },
        "outputId": "8cd1780e-b8fc-4527-97f7-97c80d94926a"
      },
      "outputs": [
        {
          "execution_count": 24,
          "output_type": "execute_result",
          "data": {
            "text/plain": "Dataset({\n    features: ['prompt', 'input_ids', 'attention_mask'],\n    num_rows: 9000\n})"
          },
          "metadata": {}
        }
      ],
      "execution_count": null
    },
    {
      "cell_type": "code",
      "source": [
        "train_dataset.select(range(5)).to_pandas().head()"
      ],
      "metadata": {
        "id": "-CUZuEENF2mW",
        "trusted": true,
        "execution": {
          "iopub.status.busy": "2024-12-07T10:19:07.359537Z",
          "iopub.execute_input": "2024-12-07T10:19:07.359821Z",
          "iopub.status.idle": "2024-12-07T10:19:07.383484Z",
          "shell.execute_reply.started": "2024-12-07T10:19:07.359797Z",
          "shell.execute_reply": "2024-12-07T10:19:07.382846Z"
        },
        "outputId": "5bf97804-74ae-4ab1-8ced-73cea2a4cd38"
      },
      "outputs": [
        {
          "execution_count": 25,
          "output_type": "execute_result",
          "data": {
            "text/plain": "                                              prompt  \\\n0  ### Question:\\nThere is a two-digit natural nu...   \n1  ### Question:\\nIn a big box, there are marbles...   \n2  ### Question:\\nAdam goes to a small school, wh...   \n3  ### Question:\\nLisa is looking to attempt a Wo...   \n4  ### Question:\\nThere is a rectangular-shaped p...   \n\n                                           input_ids  \\\n0  [14374, 15846, 510, 3862, 374, 264, 1378, 4834...   \n1  [14374, 15846, 510, 641, 264, 2409, 3745, 11, ...   \n2  [14374, 15846, 510, 37575, 5780, 311, 264, 261...   \n3  [14374, 15846, 510, 72749, 374, 3330, 311, 477...   \n4  [14374, 15846, 510, 3862, 374, 264, 51424, 347...   \n\n                                      attention_mask  \n0  [1, 1, 1, 1, 1, 1, 1, 1, 1, 1, 1, 1, 1, 1, 1, ...  \n1  [1, 1, 1, 1, 1, 1, 1, 1, 1, 1, 1, 1, 1, 1, 1, ...  \n2  [1, 1, 1, 1, 1, 1, 1, 1, 1, 1, 1, 1, 1, 1, 1, ...  \n3  [1, 1, 1, 1, 1, 1, 1, 1, 1, 1, 1, 1, 1, 1, 1, ...  \n4  [1, 1, 1, 1, 1, 1, 1, 1, 1, 1, 1, 1, 1, 1, 1, ...  ",
            "text/html": "<div>\n<style scoped>\n    .dataframe tbody tr th:only-of-type {\n        vertical-align: middle;\n    }\n\n    .dataframe tbody tr th {\n        vertical-align: top;\n    }\n\n    .dataframe thead th {\n        text-align: right;\n    }\n</style>\n<table border=\"1\" class=\"dataframe\">\n  <thead>\n    <tr style=\"text-align: right;\">\n      <th></th>\n      <th>prompt</th>\n      <th>input_ids</th>\n      <th>attention_mask</th>\n    </tr>\n  </thead>\n  <tbody>\n    <tr>\n      <th>0</th>\n      <td>### Question:\\nThere is a two-digit natural nu...</td>\n      <td>[14374, 15846, 510, 3862, 374, 264, 1378, 4834...</td>\n      <td>[1, 1, 1, 1, 1, 1, 1, 1, 1, 1, 1, 1, 1, 1, 1, ...</td>\n    </tr>\n    <tr>\n      <th>1</th>\n      <td>### Question:\\nIn a big box, there are marbles...</td>\n      <td>[14374, 15846, 510, 641, 264, 2409, 3745, 11, ...</td>\n      <td>[1, 1, 1, 1, 1, 1, 1, 1, 1, 1, 1, 1, 1, 1, 1, ...</td>\n    </tr>\n    <tr>\n      <th>2</th>\n      <td>### Question:\\nAdam goes to a small school, wh...</td>\n      <td>[14374, 15846, 510, 37575, 5780, 311, 264, 261...</td>\n      <td>[1, 1, 1, 1, 1, 1, 1, 1, 1, 1, 1, 1, 1, 1, 1, ...</td>\n    </tr>\n    <tr>\n      <th>3</th>\n      <td>### Question:\\nLisa is looking to attempt a Wo...</td>\n      <td>[14374, 15846, 510, 72749, 374, 3330, 311, 477...</td>\n      <td>[1, 1, 1, 1, 1, 1, 1, 1, 1, 1, 1, 1, 1, 1, 1, ...</td>\n    </tr>\n    <tr>\n      <th>4</th>\n      <td>### Question:\\nThere is a rectangular-shaped p...</td>\n      <td>[14374, 15846, 510, 3862, 374, 264, 51424, 347...</td>\n      <td>[1, 1, 1, 1, 1, 1, 1, 1, 1, 1, 1, 1, 1, 1, 1, ...</td>\n    </tr>\n  </tbody>\n</table>\n</div>"
          },
          "metadata": {}
        }
      ],
      "execution_count": null
    },
    {
      "cell_type": "code",
      "source": [
        "print(train_dataset[0]['prompt'])"
      ],
      "metadata": {
        "id": "6PxxrK5Rd4gk",
        "trusted": true,
        "execution": {
          "iopub.status.busy": "2024-12-07T10:19:07.384330Z",
          "iopub.execute_input": "2024-12-07T10:19:07.384585Z",
          "iopub.status.idle": "2024-12-07T10:19:07.389205Z",
          "shell.execute_reply.started": "2024-12-07T10:19:07.384549Z",
          "shell.execute_reply": "2024-12-07T10:19:07.388307Z"
        },
        "outputId": "0fd2506a-7520-4c5f-8fe3-57c262c73c76"
      },
      "outputs": [
        {
          "name": "stdout",
          "text": "### Question:\nThere is a two-digit natural number whose tens place is 3. Let A and B be the quotient of this number by 10 and the remainder of division by 10, respectively. If B multiplied by 10 plus A is 9 less than A multiplied by 10 plus B, what is the first number?\n### Answer:\nLet's denote the two-digit number as \\( XY \\), where \\( X \\) is the digit in the tens place and \\( Y \\) is the digit in the ones place. Since the tens place is 3, we have \\( X = 3 \\).\n\nAccording to the problem, \\( A \\) is the quotient of the number by 10, and \\( B \\) is the remainder of the division by 10. Therefore, \\( A = X = 3 \\) and \\( B = Y \\).\n\nThe problem states that \\( B \\times 10 + A \\) is 9 less than \\( A \\times 10 + B \\). This can be written as an equation:\n\n\\[ B \\times 10 + A = A \\times 10 + B - 9 \\]\n\nSubstituting \\( A \\) and \\( B \\) with \\( 3 \\) and \\( Y \\), respectively, we get:\n\n\\[ Y \\times 10 + 3 = 3 \\times 10 + Y - 9 \\]\n\nSimplifying the equation:\n\n\\[ 10Y + 3 = 30 + Y - 9 \\]\n\n\\[ 10Y + 3 = Y + 21 \\]\n\nSubtract \\( Y \\) from both sides:\n\n\\[ 9Y + 3 = 21 \\]\n\nSubtract 3 from both sides:\n\n\\[ 9Y = 18 \\]\n\nDivide both sides by 9:\n\n\\[ Y = 2 \\]\n\nSo the ones place digit is 2. Since we already know the tens place digit is 3, the two-digit number is \\( 32 \\).<|im_end|>\n",
          "output_type": "stream"
        }
      ],
      "execution_count": null
    },
    {
      "cell_type": "code",
      "source": [
        "print(train_dataset[0]['input_ids'])"
      ],
      "metadata": {
        "id": "HR79ppIiE78f",
        "trusted": true,
        "execution": {
          "iopub.status.busy": "2024-12-07T10:19:07.390324Z",
          "iopub.execute_input": "2024-12-07T10:19:07.390614Z",
          "iopub.status.idle": "2024-12-07T10:19:07.400182Z",
          "shell.execute_reply.started": "2024-12-07T10:19:07.390548Z",
          "shell.execute_reply": "2024-12-07T10:19:07.399355Z"
        },
        "outputId": "2d85741b-5613-4713-da0e-e7aeaec914a6"
      },
      "outputs": [
        {
          "name": "stdout",
          "text": "[14374, 15846, 510, 3862, 374, 264, 1378, 48342, 5810, 1372, 6693, 22008, 1992, 374, 220, 18, 13, 6771, 362, 323, 425, 387, 279, 74762, 315, 419, 1372, 553, 220, 16, 15, 323, 279, 26313, 315, 12804, 553, 220, 16, 15, 11, 15576, 13, 1416, 425, 54916, 553, 220, 16, 15, 5519, 362, 374, 220, 24, 2686, 1091, 362, 54916, 553, 220, 16, 15, 5519, 425, 11, 1128, 374, 279, 1156, 1372, 5267, 14374, 21806, 510, 10061, 594, 78064, 279, 1378, 48342, 1372, 438, 17767, 57319, 1124, 701, 1380, 17767, 1599, 1124, 8, 374, 279, 15723, 304, 279, 22008, 1992, 323, 17767, 809, 1124, 8, 374, 279, 15723, 304, 279, 6174, 1992, 13, 8704, 279, 22008, 1992, 374, 220, 18, 11, 582, 614, 17767, 1599, 284, 220, 18, 1124, 3593, 11190, 311, 279, 3491, 11, 17767, 362, 1124, 8, 374, 279, 74762, 315, 279, 1372, 553, 220, 16, 15, 11, 323, 17767, 425, 1124, 8, 374, 279, 26313, 315, 279, 12804, 553, 220, 16, 15, 13, 15277, 11, 17767, 362, 284, 1599, 284, 220, 18, 1124, 8, 323, 17767, 425, 284, 809, 1124, 3593, 785, 3491, 5302, 429, 17767, 425, 1124, 15136, 220, 16, 15, 488, 362, 1124, 8, 374, 220, 24, 2686, 1091, 17767, 362, 1124, 15136, 220, 16, 15, 488, 425, 1124, 568, 1096, 646, 387, 5326, 438, 458, 23606, 1447, 78045, 425, 1124, 15136, 220, 16, 15, 488, 362, 284, 362, 1124, 15136, 220, 16, 15, 488, 425, 481, 220, 24, 1124, 2533, 3136, 3696, 10607, 17767, 362, 1124, 8, 323, 17767, 425, 1124, 8, 448, 17767, 220, 18, 1124, 8, 323, 17767, 809, 1124, 701, 15576, 11, 582, 633, 1447, 78045, 809, 1124, 15136, 220, 16, 15, 488, 220, 18, 284, 220, 18, 1124, 15136, 220, 16, 15, 488, 809, 481, 220, 24, 1124, 2533, 50, 6383, 7766, 279, 23606, 1447, 78045, 220, 16, 15, 56, 488, 220, 18, 284, 220, 18, 15, 488, 809, 481, 220, 24, 1124, 2533, 78045, 220, 16, 15, 56, 488, 220, 18, 284, 809, 488, 220, 17, 16, 1124, 2533, 3136, 2144, 17767, 809, 1124, 8, 504, 2176, 11067, 1447, 78045, 220, 24, 56, 488, 220, 18, 284, 220, 17, 16, 1124, 2533, 3136, 2144, 220, 18, 504, 2176, 11067, 1447, 78045, 220, 24, 56, 284, 220, 16, 23, 1124, 2533, 12509, 577, 2176, 11067]\n",
          "output_type": "stream"
        }
      ],
      "execution_count": null
    },
    {
      "cell_type": "code",
      "source": [
        "print(train_dataset[0]['attention_mask'])"
      ],
      "metadata": {
        "id": "xGmCvvZTE82D",
        "trusted": true,
        "execution": {
          "iopub.status.busy": "2024-12-07T10:19:07.406127Z",
          "iopub.execute_input": "2024-12-07T10:19:07.406786Z",
          "iopub.status.idle": "2024-12-07T10:19:07.412549Z",
          "shell.execute_reply.started": "2024-12-07T10:19:07.406760Z",
          "shell.execute_reply": "2024-12-07T10:19:07.411758Z"
        },
        "outputId": "6f9f5a90-a4bb-4a63-e3d8-0690aa28c5b8"
      },
      "outputs": [
        {
          "name": "stdout",
          "text": "[1, 1, 1, 1, 1, 1, 1, 1, 1, 1, 1, 1, 1, 1, 1, 1, 1, 1, 1, 1, 1, 1, 1, 1, 1, 1, 1, 1, 1, 1, 1, 1, 1, 1, 1, 1, 1, 1, 1, 1, 1, 1, 1, 1, 1, 1, 1, 1, 1, 1, 1, 1, 1, 1, 1, 1, 1, 1, 1, 1, 1, 1, 1, 1, 1, 1, 1, 1, 1, 1, 1, 1, 1, 1, 1, 1, 1, 1, 1, 1, 1, 1, 1, 1, 1, 1, 1, 1, 1, 1, 1, 1, 1, 1, 1, 1, 1, 1, 1, 1, 1, 1, 1, 1, 1, 1, 1, 1, 1, 1, 1, 1, 1, 1, 1, 1, 1, 1, 1, 1, 1, 1, 1, 1, 1, 1, 1, 1, 1, 1, 1, 1, 1, 1, 1, 1, 1, 1, 1, 1, 1, 1, 1, 1, 1, 1, 1, 1, 1, 1, 1, 1, 1, 1, 1, 1, 1, 1, 1, 1, 1, 1, 1, 1, 1, 1, 1, 1, 1, 1, 1, 1, 1, 1, 1, 1, 1, 1, 1, 1, 1, 1, 1, 1, 1, 1, 1, 1, 1, 1, 1, 1, 1, 1, 1, 1, 1, 1, 1, 1, 1, 1, 1, 1, 1, 1, 1, 1, 1, 1, 1, 1, 1, 1, 1, 1, 1, 1, 1, 1, 1, 1, 1, 1, 1, 1, 1, 1, 1, 1, 1, 1, 1, 1, 1, 1, 1, 1, 1, 1, 1, 1, 1, 1, 1, 1, 1, 1, 1, 1, 1, 1, 1, 1, 1, 1, 1, 1, 1, 1, 1, 1, 1, 1, 1, 1, 1, 1, 1, 1, 1, 1, 1, 1, 1, 1, 1, 1, 1, 1, 1, 1, 1, 1, 1, 1, 1, 1, 1, 1, 1, 1, 1, 1, 1, 1, 1, 1, 1, 1, 1, 1, 1, 1, 1, 1, 1, 1, 1, 1, 1, 1, 1, 1, 1, 1, 1, 1, 1, 1, 1, 1, 1, 1, 1, 1, 1, 1, 1, 1, 1, 1, 1, 1, 1, 1, 1, 1, 1, 1, 1, 1, 1, 1, 1, 1, 1, 1, 1, 1, 1, 1, 1, 1, 1, 1, 1, 1, 1, 1, 1, 1, 1, 1, 1, 1, 1, 1, 1, 1, 1, 1, 1, 1, 1, 1, 1, 1, 1, 1, 1, 1, 1, 1]\n",
          "output_type": "stream"
        }
      ],
      "execution_count": null
    },
    {
      "cell_type": "markdown",
      "source": [
        "## 06 Data Collator Set Up"
      ],
      "metadata": {
        "id": "JFX4u0vc0UkS"
      }
    },
    {
      "cell_type": "code",
      "source": [
        "#data_collator = DataCollatorWithPadding(tokenizer = tokenizer)\n",
        "#data_collator = DataCollatorForSeq2Seq(tokenizer = tokenizer)\n",
        "data_collator = DataCollatorForLanguageModeling(tokenizer = tokenizer, mlm = False)"
      ],
      "metadata": {
        "id": "F-mkiTYw0cZi",
        "trusted": true,
        "execution": {
          "iopub.status.busy": "2024-12-07T10:19:07.413402Z",
          "iopub.execute_input": "2024-12-07T10:19:07.413665Z",
          "iopub.status.idle": "2024-12-07T10:19:07.425171Z",
          "shell.execute_reply.started": "2024-12-07T10:19:07.413641Z",
          "shell.execute_reply": "2024-12-07T10:19:07.424348Z"
        }
      },
      "outputs": [],
      "execution_count": null
    },
    {
      "cell_type": "markdown",
      "source": [
        "## 07 Evaluation Metrics Set Up"
      ],
      "metadata": {
        "id": "hP1Mu0J6CTCb"
      }
    },
    {
      "cell_type": "code",
      "source": [
        "def compute_metrics(p: EvalPrediction):\n",
        "  preds = np.argmax(p.predictions, axis = 1)\n",
        "  precision, recall, f1, _ = precision_recall_fscore_support(\n",
        "    p.label_ids,\n",
        "    preds,\n",
        "    average = 'weighted'\n",
        "  )\n",
        "  matrix = {\n",
        "    'accuracy': accuracy_score(p.label_ids, preds),\n",
        "    'f1': f1, 'precision': precision,\n",
        "    'recall': recall\n",
        "  }\n",
        "  return matrix"
      ],
      "metadata": {
        "id": "wzNdWpCI0c7a",
        "trusted": true,
        "execution": {
          "iopub.status.busy": "2024-12-07T10:19:07.426146Z",
          "iopub.execute_input": "2024-12-07T10:19:07.426403Z",
          "iopub.status.idle": "2024-12-07T10:19:07.443030Z",
          "shell.execute_reply.started": "2024-12-07T10:19:07.426379Z",
          "shell.execute_reply": "2024-12-07T10:19:07.442184Z"
        }
      },
      "outputs": [],
      "execution_count": null
    },
    {
      "cell_type": "code",
      "source": [
        "torch.cuda.empty_cache()"
      ],
      "metadata": {
        "id": "tEkgHY4fxFIJ",
        "trusted": true,
        "execution": {
          "iopub.status.busy": "2024-12-07T10:19:07.444003Z",
          "iopub.execute_input": "2024-12-07T10:19:07.444471Z",
          "iopub.status.idle": "2024-12-07T10:19:07.455691Z",
          "shell.execute_reply.started": "2024-12-07T10:19:07.444445Z",
          "shell.execute_reply": "2024-12-07T10:19:07.455052Z"
        }
      },
      "outputs": [],
      "execution_count": null
    },
    {
      "cell_type": "markdown",
      "source": [
        "## 08 Set Up PEFT / LoRA / QLoRA"
      ],
      "metadata": {
        "id": "VLFCnU8-ZoUa"
      }
    },
    {
      "cell_type": "code",
      "source": [
        "lora_alpha = 16\n",
        "lora_dropout = 0.1\n",
        "lora_r = 64\n",
        "target_modules = [\"q_proj\", \"k_proj\", \"v_proj\", \"o_proj\",\n",
        "                  \"gate_proj\", \"up_proj\", \"down_proj\",]\n",
        "\n",
        "#target_modules = [\"qkv_proj\", \"proj_1\", \"proj_2\", \"out_proj\"]\n",
        "\n",
        "peft_config = LoraConfig(\n",
        "  lora_alpha = lora_alpha,\n",
        "  lora_dropout = lora_dropout,\n",
        "  r = lora_r,\n",
        "  bias = 'none',\n",
        "  task_type = 'CAUSAL_LM',\n",
        "  target_modules = target_modules,\n",
        ")"
      ],
      "metadata": {
        "id": "67HK09faZqQh",
        "trusted": true,
        "execution": {
          "iopub.status.busy": "2024-12-07T10:19:07.456711Z",
          "iopub.execute_input": "2024-12-07T10:19:07.457048Z",
          "iopub.status.idle": "2024-12-07T10:19:07.467106Z",
          "shell.execute_reply.started": "2024-12-07T10:19:07.456983Z",
          "shell.execute_reply": "2024-12-07T10:19:07.466346Z"
        }
      },
      "outputs": [],
      "execution_count": null
    },
    {
      "cell_type": "code",
      "source": [
        "peft_model = get_peft_model(model, peft_config, adapter_name = 'LoRA')\n",
        "peft_model.print_trainable_parameters()"
      ],
      "metadata": {
        "id": "3ZPOifXCZuhg",
        "trusted": true,
        "execution": {
          "iopub.status.busy": "2024-12-07T10:19:07.467983Z",
          "iopub.execute_input": "2024-12-07T10:19:07.468219Z",
          "iopub.status.idle": "2024-12-07T10:19:08.458123Z",
          "shell.execute_reply.started": "2024-12-07T10:19:07.468196Z",
          "shell.execute_reply": "2024-12-07T10:19:08.457214Z"
        },
        "outputId": "b64c47cd-7ea3-40d0-8539-9b82f7177dcf"
      },
      "outputs": [
        {
          "name": "stdout",
          "text": "trainable params: 73,859,072 || all params: 1,617,573,376 || trainable%: 4.5660\n",
          "output_type": "stream"
        }
      ],
      "execution_count": null
    },
    {
      "cell_type": "markdown",
      "source": [
        "## 09 Training Model"
      ],
      "metadata": {
        "id": "CVr-LToX1XCl"
      }
    },
    {
      "cell_type": "code",
      "source": [
        "total_params = sum(p.numel() for p in model.parameters())\n",
        "trainable_params = sum(p.numel() for p in model.parameters() if p.requires_grad)\n",
        "trainable_percentage = (trainable_params / total_params) * 100\n",
        "\n",
        "print('Total parameters :', total_params)\n",
        "print('Trainable parameters :', trainable_params)\n",
        "print('Trainable percentage: {:.2f}%'.format(trainable_percentage))"
      ],
      "metadata": {
        "id": "uhliEMyp1thd",
        "trusted": true,
        "execution": {
          "iopub.status.busy": "2024-12-07T10:19:08.459303Z",
          "iopub.execute_input": "2024-12-07T10:19:08.459673Z",
          "iopub.status.idle": "2024-12-07T10:19:08.473711Z",
          "shell.execute_reply.started": "2024-12-07T10:19:08.459634Z",
          "shell.execute_reply": "2024-12-07T10:19:08.472747Z"
        },
        "outputId": "83728782-5229-4035-d002-4d95330bbfe5"
      },
      "outputs": [
        {
          "name": "stdout",
          "text": "Total parameters : 962475520\nTrainable parameters : 73859072\nTrainable percentage: 7.67%\n",
          "output_type": "stream"
        }
      ],
      "execution_count": null
    },
    {
      "cell_type": "code",
      "source": [
        "torch.cuda.empty_cache()"
      ],
      "metadata": {
        "id": "Xn5zb6xWJtu-",
        "trusted": true,
        "execution": {
          "iopub.status.busy": "2024-12-07T10:19:08.474924Z",
          "iopub.execute_input": "2024-12-07T10:19:08.475321Z",
          "iopub.status.idle": "2024-12-07T10:19:08.484202Z",
          "shell.execute_reply.started": "2024-12-07T10:19:08.475283Z",
          "shell.execute_reply": "2024-12-07T10:19:08.483294Z"
        }
      },
      "outputs": [],
      "execution_count": null
    },
    {
      "cell_type": "code",
      "source": [
        "save_path = './model'\n",
        "\n",
        "batch_size = 2\n",
        "max_steps = 200\n",
        "training_args = TrainingArguments(\n",
        "  output_dir = save_path,\n",
        "  gradient_accumulation_steps = 4,\n",
        "  evaluation_strategy = 'steps',\n",
        "  do_eval = True,\n",
        "  per_device_train_batch_size = batch_size,\n",
        "  per_device_eval_batch_size = 4,\n",
        "  log_level = 'debug',\n",
        "  save_strategy = 'no',\n",
        "  save_total_limit = 2,\n",
        "  save_safetensors = False,\n",
        "  fp16 = True,\n",
        "  logging_steps = 20,\n",
        "  learning_rate = 2e-5,\n",
        "  eval_steps = 20,\n",
        "  max_steps = max_steps,\n",
        "  warmup_steps = 30,\n",
        "  lr_scheduler_type = 'cosine',\n",
        ")\n",
        "training_args"
      ],
      "metadata": {
        "id": "93ffvb0d4cG6",
        "trusted": true,
        "execution": {
          "iopub.status.busy": "2024-12-07T10:19:08.485207Z",
          "iopub.execute_input": "2024-12-07T10:19:08.485524Z",
          "iopub.status.idle": "2024-12-07T10:19:08.525178Z",
          "shell.execute_reply.started": "2024-12-07T10:19:08.485492Z",
          "shell.execute_reply": "2024-12-07T10:19:08.524318Z"
        },
        "outputId": "672bd51d-be7a-4f15-883a-d46d198416d0"
      },
      "outputs": [
        {
          "name": "stderr",
          "text": "/opt/conda/lib/python3.10/site-packages/transformers/training_args.py:1568: FutureWarning: `evaluation_strategy` is deprecated and will be removed in version 4.46 of 🤗 Transformers. Use `eval_strategy` instead\n  warnings.warn(\n",
          "output_type": "stream"
        },
        {
          "execution_count": 36,
          "output_type": "execute_result",
          "data": {
            "text/plain": "TrainingArguments(\n_n_gpu=1,\naccelerator_config={'split_batches': False, 'dispatch_batches': None, 'even_batches': True, 'use_seedable_sampler': True, 'non_blocking': False, 'gradient_accumulation_kwargs': None, 'use_configured_state': False},\nadafactor=False,\nadam_beta1=0.9,\nadam_beta2=0.999,\nadam_epsilon=1e-08,\nauto_find_batch_size=False,\naverage_tokens_across_devices=False,\nbatch_eval_metrics=False,\nbf16=False,\nbf16_full_eval=False,\ndata_seed=None,\ndataloader_drop_last=False,\ndataloader_num_workers=0,\ndataloader_persistent_workers=False,\ndataloader_pin_memory=True,\ndataloader_prefetch_factor=None,\nddp_backend=None,\nddp_broadcast_buffers=None,\nddp_bucket_cap_mb=None,\nddp_find_unused_parameters=None,\nddp_timeout=1800,\ndebug=[],\ndeepspeed=None,\ndisable_tqdm=False,\ndispatch_batches=None,\ndo_eval=True,\ndo_predict=False,\ndo_train=False,\neval_accumulation_steps=None,\neval_delay=0,\neval_do_concat_batches=True,\neval_on_start=False,\neval_steps=20,\neval_strategy=steps,\neval_use_gather_object=False,\nevaluation_strategy=steps,\nfp16=True,\nfp16_backend=auto,\nfp16_full_eval=False,\nfp16_opt_level=O1,\nfsdp=[],\nfsdp_config={'min_num_params': 0, 'xla': False, 'xla_fsdp_v2': False, 'xla_fsdp_grad_ckpt': False},\nfsdp_min_num_params=0,\nfsdp_transformer_layer_cls_to_wrap=None,\nfull_determinism=False,\ngradient_accumulation_steps=4,\ngradient_checkpointing=False,\ngradient_checkpointing_kwargs=None,\ngreater_is_better=None,\ngroup_by_length=False,\nhalf_precision_backend=auto,\nhub_always_push=False,\nhub_model_id=None,\nhub_private_repo=False,\nhub_strategy=every_save,\nhub_token=<HUB_TOKEN>,\nignore_data_skip=False,\ninclude_for_metrics=[],\ninclude_inputs_for_metrics=False,\ninclude_num_input_tokens_seen=False,\ninclude_tokens_per_second=False,\njit_mode_eval=False,\nlabel_names=None,\nlabel_smoothing_factor=0.0,\nlearning_rate=2e-05,\nlength_column_name=length,\nload_best_model_at_end=False,\nlocal_rank=0,\nlog_level=debug,\nlog_level_replica=warning,\nlog_on_each_node=True,\nlogging_dir=./model/runs/Dec07_10-19-08_efd4326e2c23,\nlogging_first_step=False,\nlogging_nan_inf_filter=True,\nlogging_steps=20,\nlogging_strategy=steps,\nlr_scheduler_kwargs={},\nlr_scheduler_type=cosine,\nmax_grad_norm=1.0,\nmax_steps=200,\nmetric_for_best_model=None,\nmp_parameters=,\nneftune_noise_alpha=None,\nno_cuda=False,\nnum_train_epochs=3.0,\noptim=adamw_torch,\noptim_args=None,\noptim_target_modules=None,\noutput_dir=./model,\noverwrite_output_dir=False,\npast_index=-1,\nper_device_eval_batch_size=4,\nper_device_train_batch_size=2,\nprediction_loss_only=False,\npush_to_hub=False,\npush_to_hub_model_id=None,\npush_to_hub_organization=None,\npush_to_hub_token=<PUSH_TO_HUB_TOKEN>,\nray_scope=last,\nremove_unused_columns=True,\nreport_to=['tensorboard', 'wandb'],\nrestore_callback_states_from_checkpoint=False,\nresume_from_checkpoint=None,\nrun_name=./model,\nsave_on_each_node=False,\nsave_only_model=False,\nsave_safetensors=False,\nsave_steps=500,\nsave_strategy=no,\nsave_total_limit=2,\nseed=42,\nskip_memory_metrics=True,\nsplit_batches=None,\ntf32=None,\ntorch_compile=False,\ntorch_compile_backend=None,\ntorch_compile_mode=None,\ntorch_empty_cache_steps=None,\ntorchdynamo=None,\ntpu_metrics_debug=False,\ntpu_num_cores=None,\nuse_cpu=False,\nuse_ipex=False,\nuse_legacy_prediction_loop=False,\nuse_liger_kernel=False,\nuse_mps_device=False,\nwarmup_ratio=0.0,\nwarmup_steps=30,\nweight_decay=0.0,\n)"
          },
          "metadata": {}
        }
      ],
      "execution_count": null
    },
    {
      "cell_type": "code",
      "source": [
        "trainer = SFTTrainer(\n",
        "  model = model,\n",
        "  train_dataset = train_dataset,#.select(range(10000)),\n",
        "  eval_dataset = test_dataset.select(range(200)),\n",
        "  dataset_text_field = 'prompt',\n",
        "  max_seq_length = max_length,\n",
        "  tokenizer = tokenizer,\n",
        "  args = training_args,\n",
        "  peft_config = peft_config,\n",
        ")\n",
        "trainer"
      ],
      "metadata": {
        "id": "EsKeJE3SMdk7",
        "trusted": true,
        "execution": {
          "iopub.status.busy": "2024-12-07T10:19:08.526170Z",
          "iopub.execute_input": "2024-12-07T10:19:08.526420Z",
          "iopub.status.idle": "2024-12-07T10:19:10.212631Z",
          "shell.execute_reply.started": "2024-12-07T10:19:08.526395Z",
          "shell.execute_reply": "2024-12-07T10:19:10.211810Z"
        },
        "outputId": "dd90fc16-3780-4c06-8b35-8283b0072fe5"
      },
      "outputs": [
        {
          "name": "stderr",
          "text": "/opt/conda/lib/python3.10/site-packages/huggingface_hub/utils/_deprecation.py:100: FutureWarning: Deprecated argument(s) used in '__init__': dataset_text_field, max_seq_length. Will not be supported from version '0.13.0'.\n\nDeprecated positional argument(s) used in SFTTrainer, please use the SFTConfig to set these arguments instead.\n  warnings.warn(message, FutureWarning)\n/opt/conda/lib/python3.10/site-packages/transformers/training_args.py:1568: FutureWarning: `evaluation_strategy` is deprecated and will be removed in version 4.46 of 🤗 Transformers. Use `eval_strategy` instead\n  warnings.warn(\n/opt/conda/lib/python3.10/site-packages/transformers/training_args.py:1568: FutureWarning: `evaluation_strategy` is deprecated and will be removed in version 4.46 of 🤗 Transformers. Use `eval_strategy` instead\n  warnings.warn(\n/opt/conda/lib/python3.10/site-packages/trl/trainer/sft_trainer.py:300: UserWarning: You passed a `max_seq_length` argument to the SFTTrainer, the value you passed will override the one in the `SFTConfig`.\n  warnings.warn(\n/opt/conda/lib/python3.10/site-packages/trl/trainer/sft_trainer.py:328: UserWarning: You passed a `dataset_text_field` argument to the SFTTrainer, the value you passed will override the one in the `SFTConfig`.\n  warnings.warn(\n/opt/conda/lib/python3.10/site-packages/accelerate/accelerator.py:494: FutureWarning: `torch.cuda.amp.GradScaler(args...)` is deprecated. Please use `torch.amp.GradScaler('cuda', args...)` instead.\n  self.scaler = torch.cuda.amp.GradScaler(**kwargs)\nmax_steps is given, it will override any value given in num_train_epochs\nUsing auto half precision backend\n",
          "output_type": "stream"
        },
        {
          "execution_count": 37,
          "output_type": "execute_result",
          "data": {
            "text/plain": "<trl.trainer.sft_trainer.SFTTrainer at 0x7b28c596fbb0>"
          },
          "metadata": {}
        }
      ],
      "execution_count": null
    },
    {
      "cell_type": "code",
      "source": [
        "trainer.train()"
      ],
      "metadata": {
        "id": "MZVoQX8V1cI3",
        "trusted": true,
        "execution": {
          "iopub.status.busy": "2024-12-07T10:19:10.213939Z",
          "iopub.execute_input": "2024-12-07T10:19:10.214287Z",
          "iopub.status.idle": "2024-12-07T10:52:17.610850Z",
          "shell.execute_reply.started": "2024-12-07T10:19:10.214247Z",
          "shell.execute_reply": "2024-12-07T10:52:17.610073Z"
        }
      },
      "outputs": [],
      "execution_count": null
    },
    {
      "cell_type": "markdown",
      "source": [
        "## 10 Model Evaluation"
      ],
      "metadata": {
        "id": "v5N6fZsU1xiG"
      }
    },
    {
      "cell_type": "code",
      "source": [
        "evaluation_results = trainer.evaluate()\n",
        "print('Evaluation Results:', evaluation_results)"
      ],
      "metadata": {
        "id": "5d6DT3o0113O",
        "trusted": true,
        "execution": {
          "iopub.status.busy": "2024-12-07T10:52:17.611980Z",
          "iopub.execute_input": "2024-12-07T10:52:17.612290Z",
          "iopub.status.idle": "2024-12-07T10:53:07.578979Z",
          "shell.execute_reply.started": "2024-12-07T10:52:17.612256Z",
          "shell.execute_reply": "2024-12-07T10:53:07.578144Z"
        }
      },
      "outputs": [],
      "execution_count": null
    },
    {
      "cell_type": "markdown",
      "source": [
        "## 11 Save Model"
      ],
      "metadata": {
        "id": "PjTPWhCj4JQj"
      }
    },
    {
      "cell_type": "code",
      "source": [
        "save_model = trainer.model.module if hasattr(trainer.model, 'module') else trainer.model\n",
        "save_model.save_pretrained(save_path)"
      ],
      "metadata": {
        "id": "OKAmko8h2VeV",
        "trusted": true,
        "execution": {
          "iopub.status.busy": "2024-12-07T10:53:07.580097Z",
          "iopub.execute_input": "2024-12-07T10:53:07.580451Z",
          "iopub.status.idle": "2024-12-07T10:53:08.813375Z",
          "shell.execute_reply.started": "2024-12-07T10:53:07.580410Z",
          "shell.execute_reply": "2024-12-07T10:53:08.812456Z"
        },
        "outputId": "44d04e8f-cef5-420b-f0c5-753503aa8a00"
      },
      "outputs": [
        {
          "name": "stderr",
          "text": "loading configuration file config.json from cache at /root/.cache/huggingface/hub/models--Qwen--Qwen2.5-1.5B-Instruct/snapshots/989aa7980e4cf806f80c7fef2b1adb7bc71aa306/config.json\nModel config Qwen2Config {\n  \"architectures\": [\n    \"Qwen2ForCausalLM\"\n  ],\n  \"attention_dropout\": 0.0,\n  \"bos_token_id\": 151643,\n  \"eos_token_id\": 151645,\n  \"hidden_act\": \"silu\",\n  \"hidden_size\": 1536,\n  \"initializer_range\": 0.02,\n  \"intermediate_size\": 8960,\n  \"max_position_embeddings\": 32768,\n  \"max_window_layers\": 21,\n  \"model_type\": \"qwen2\",\n  \"num_attention_heads\": 12,\n  \"num_hidden_layers\": 28,\n  \"num_key_value_heads\": 2,\n  \"rms_norm_eps\": 1e-06,\n  \"rope_scaling\": null,\n  \"rope_theta\": 1000000.0,\n  \"sliding_window\": null,\n  \"tie_word_embeddings\": true,\n  \"torch_dtype\": \"bfloat16\",\n  \"transformers_version\": \"4.46.3\",\n  \"use_cache\": true,\n  \"use_sliding_window\": false,\n  \"vocab_size\": 151936\n}\n\nloading configuration file config.json from cache at /root/.cache/huggingface/hub/models--Qwen--Qwen2.5-1.5B-Instruct/snapshots/989aa7980e4cf806f80c7fef2b1adb7bc71aa306/config.json\nModel config Qwen2Config {\n  \"architectures\": [\n    \"Qwen2ForCausalLM\"\n  ],\n  \"attention_dropout\": 0.0,\n  \"bos_token_id\": 151643,\n  \"eos_token_id\": 151645,\n  \"hidden_act\": \"silu\",\n  \"hidden_size\": 1536,\n  \"initializer_range\": 0.02,\n  \"intermediate_size\": 8960,\n  \"max_position_embeddings\": 32768,\n  \"max_window_layers\": 21,\n  \"model_type\": \"qwen2\",\n  \"num_attention_heads\": 12,\n  \"num_hidden_layers\": 28,\n  \"num_key_value_heads\": 2,\n  \"rms_norm_eps\": 1e-06,\n  \"rope_scaling\": null,\n  \"rope_theta\": 1000000.0,\n  \"sliding_window\": null,\n  \"tie_word_embeddings\": true,\n  \"torch_dtype\": \"bfloat16\",\n  \"transformers_version\": \"4.46.3\",\n  \"use_cache\": true,\n  \"use_sliding_window\": false,\n  \"vocab_size\": 151936\n}\n\n",
          "output_type": "stream"
        }
      ],
      "execution_count": null
    },
    {
      "cell_type": "markdown",
      "source": [
        "## 12 Load PEFT Model"
      ],
      "metadata": {
        "id": "3NhWAM5h9Rn5"
      }
    },
    {
      "cell_type": "code",
      "source": [
        "torch.cuda.empty_cache()"
      ],
      "metadata": {
        "id": "dlTaH2HoC26T",
        "trusted": true,
        "execution": {
          "iopub.status.busy": "2024-12-07T10:53:08.814577Z",
          "iopub.execute_input": "2024-12-07T10:53:08.814860Z",
          "iopub.status.idle": "2024-12-07T10:53:09.140236Z",
          "shell.execute_reply.started": "2024-12-07T10:53:08.814834Z",
          "shell.execute_reply": "2024-12-07T10:53:09.139312Z"
        }
      },
      "outputs": [],
      "execution_count": null
    },
    {
      "cell_type": "code",
      "source": [
        "peft_path = save_path + '/LoRA'\n",
        "peft_path"
      ],
      "metadata": {
        "trusted": true,
        "execution": {
          "iopub.status.busy": "2024-12-07T10:53:09.141398Z",
          "iopub.execute_input": "2024-12-07T10:53:09.141696Z",
          "iopub.status.idle": "2024-12-07T10:53:09.153931Z",
          "shell.execute_reply.started": "2024-12-07T10:53:09.141663Z",
          "shell.execute_reply": "2024-12-07T10:53:09.153011Z"
        },
        "id": "2G4KmXWRtZkw",
        "outputId": "89d98b96-cac1-4723-d9c2-10c199483b37"
      },
      "outputs": [
        {
          "execution_count": 42,
          "output_type": "execute_result",
          "data": {
            "text/plain": "'./model/LoRA'"
          },
          "metadata": {}
        }
      ],
      "execution_count": null
    },
    {
      "cell_type": "code",
      "source": [
        "peft_model = PeftModel.from_pretrained(model, peft_path)"
      ],
      "metadata": {
        "id": "Nz2HT8nb9XJa",
        "trusted": true,
        "execution": {
          "iopub.status.busy": "2024-12-07T10:53:09.155022Z",
          "iopub.execute_input": "2024-12-07T10:53:09.155273Z",
          "iopub.status.idle": "2024-12-07T10:53:10.284016Z",
          "shell.execute_reply.started": "2024-12-07T10:53:09.155249Z",
          "shell.execute_reply": "2024-12-07T10:53:10.283328Z"
        }
      },
      "outputs": [],
      "execution_count": null
    },
    {
      "cell_type": "markdown",
      "source": [
        "## 13 Reload & Recheck Base Model"
      ],
      "metadata": {
        "id": "6E8O1gZMtZkw"
      }
    },
    {
      "cell_type": "code",
      "source": [
        "model = load_model(model_name, base = False)\n",
        "model"
      ],
      "metadata": {
        "trusted": true,
        "execution": {
          "iopub.status.busy": "2024-12-07T10:53:10.285058Z",
          "iopub.execute_input": "2024-12-07T10:53:10.285384Z",
          "iopub.status.idle": "2024-12-07T10:53:14.304105Z",
          "shell.execute_reply.started": "2024-12-07T10:53:10.285344Z",
          "shell.execute_reply": "2024-12-07T10:53:14.303338Z"
        },
        "id": "ohVVfmCatZkw",
        "outputId": "d692222a-ea37-427b-dcd1-4b3b1909d69c"
      },
      "outputs": [
        {
          "name": "stderr",
          "text": "loading configuration file config.json from cache at /root/.cache/huggingface/hub/models--Qwen--Qwen2.5-1.5B-Instruct/snapshots/989aa7980e4cf806f80c7fef2b1adb7bc71aa306/config.json\nModel config Qwen2Config {\n  \"_name_or_path\": \"Qwen/Qwen2.5-1.5B-Instruct\",\n  \"architectures\": [\n    \"Qwen2ForCausalLM\"\n  ],\n  \"attention_dropout\": 0.0,\n  \"bos_token_id\": 151643,\n  \"eos_token_id\": 151645,\n  \"hidden_act\": \"silu\",\n  \"hidden_size\": 1536,\n  \"initializer_range\": 0.02,\n  \"intermediate_size\": 8960,\n  \"max_position_embeddings\": 32768,\n  \"max_window_layers\": 21,\n  \"model_type\": \"qwen2\",\n  \"num_attention_heads\": 12,\n  \"num_hidden_layers\": 28,\n  \"num_key_value_heads\": 2,\n  \"rms_norm_eps\": 1e-06,\n  \"rope_scaling\": null,\n  \"rope_theta\": 1000000.0,\n  \"sliding_window\": null,\n  \"tie_word_embeddings\": true,\n  \"torch_dtype\": \"bfloat16\",\n  \"transformers_version\": \"4.46.3\",\n  \"use_cache\": true,\n  \"use_sliding_window\": false,\n  \"vocab_size\": 151936\n}\n\nCUDA backend validation successful.\nOverriding torch_dtype=None with `torch_dtype=torch.float16` due to requirements of `bitsandbytes` to enable model loading in 8-bit or 4-bit. Pass your own torch_dtype to specify the dtype of the remaining non-linear layers or pass torch_dtype=torch.float16 to remove this warning.\nThe device_map was not initialized. Setting device_map to {'': 0}. If you want to use the model for inference, please set device_map ='auto' \n`low_cpu_mem_usage` was None, now default to True since model is quantized.\nloading weights file model.safetensors from cache at /root/.cache/huggingface/hub/models--Qwen--Qwen2.5-1.5B-Instruct/snapshots/989aa7980e4cf806f80c7fef2b1adb7bc71aa306/model.safetensors\nInstantiating Qwen2ForCausalLM model under default dtype torch.float16.\nGenerate config GenerationConfig {\n  \"bos_token_id\": 151643,\n  \"eos_token_id\": 151645\n}\n\nAll model checkpoint weights were used when initializing Qwen2ForCausalLM.\n\nAll the weights of Qwen2ForCausalLM were initialized from the model checkpoint at Qwen/Qwen2.5-1.5B-Instruct.\nIf your task is similar to the task the model of the checkpoint was trained on, you can already use Qwen2ForCausalLM for predictions without further training.\nloading configuration file generation_config.json from cache at /root/.cache/huggingface/hub/models--Qwen--Qwen2.5-1.5B-Instruct/snapshots/989aa7980e4cf806f80c7fef2b1adb7bc71aa306/generation_config.json\nGenerate config GenerationConfig {\n  \"bos_token_id\": 151643,\n  \"do_sample\": true,\n  \"eos_token_id\": [\n    151645,\n    151643\n  ],\n  \"pad_token_id\": 151643,\n  \"repetition_penalty\": 1.1,\n  \"temperature\": 0.7,\n  \"top_k\": 20,\n  \"top_p\": 0.8\n}\n\n",
          "output_type": "stream"
        },
        {
          "execution_count": 44,
          "output_type": "execute_result",
          "data": {
            "text/plain": "Qwen2ForCausalLM(\n  (model): Qwen2Model(\n    (embed_tokens): Embedding(151936, 1536)\n    (layers): ModuleList(\n      (0-27): 28 x Qwen2DecoderLayer(\n        (self_attn): Qwen2SdpaAttention(\n          (q_proj): Linear4bit(in_features=1536, out_features=1536, bias=True)\n          (k_proj): Linear4bit(in_features=1536, out_features=256, bias=True)\n          (v_proj): Linear4bit(in_features=1536, out_features=256, bias=True)\n          (o_proj): Linear4bit(in_features=1536, out_features=1536, bias=False)\n          (rotary_emb): Qwen2RotaryEmbedding()\n        )\n        (mlp): Qwen2MLP(\n          (gate_proj): Linear4bit(in_features=1536, out_features=8960, bias=False)\n          (up_proj): Linear4bit(in_features=1536, out_features=8960, bias=False)\n          (down_proj): Linear4bit(in_features=8960, out_features=1536, bias=False)\n          (act_fn): SiLU()\n        )\n        (input_layernorm): Qwen2RMSNorm((1536,), eps=1e-06)\n        (post_attention_layernorm): Qwen2RMSNorm((1536,), eps=1e-06)\n      )\n    )\n    (norm): Qwen2RMSNorm((1536,), eps=1e-06)\n    (rotary_emb): Qwen2RotaryEmbedding()\n  )\n  (lm_head): Linear(in_features=1536, out_features=151936, bias=False)\n)"
          },
          "metadata": {}
        }
      ],
      "execution_count": null
    },
    {
      "cell_type": "code",
      "source": [
        "total_params = sum(p.numel() for p in model.parameters())\n",
        "trainable_params = sum(p.numel() for p in model.parameters() if p.requires_grad)\n",
        "trainable_percentage = (trainable_params / total_params) * 100\n",
        "\n",
        "print('Total parameters :', total_params)\n",
        "print('Trainable parameters :', trainable_params)\n",
        "print('Trainable percentage: {:.2f}%'.format(trainable_percentage))"
      ],
      "metadata": {
        "trusted": true,
        "execution": {
          "iopub.status.busy": "2024-12-07T10:53:14.305055Z",
          "iopub.execute_input": "2024-12-07T10:53:14.305276Z",
          "iopub.status.idle": "2024-12-07T10:53:14.315277Z",
          "shell.execute_reply.started": "2024-12-07T10:53:14.305253Z",
          "shell.execute_reply": "2024-12-07T10:53:14.314430Z"
        },
        "id": "qpT6AZq9tZkw",
        "outputId": "078f6893-e26a-44be-f78d-38b562ddd40a"
      },
      "outputs": [
        {
          "name": "stdout",
          "text": "Total parameters : 888616448\nTrainable parameters : 233461248\nTrainable percentage: 26.27%\n",
          "output_type": "stream"
        }
      ],
      "execution_count": null
    },
    {
      "cell_type": "code",
      "source": [
        "peft_model"
      ],
      "metadata": {
        "trusted": true,
        "execution": {
          "iopub.status.busy": "2024-12-07T10:53:14.316159Z",
          "iopub.execute_input": "2024-12-07T10:53:14.316413Z",
          "iopub.status.idle": "2024-12-07T10:53:14.338338Z",
          "shell.execute_reply.started": "2024-12-07T10:53:14.316391Z",
          "shell.execute_reply": "2024-12-07T10:53:14.337591Z"
        },
        "id": "c2CkvSPKtZkx",
        "outputId": "772029ed-d4e2-4a1e-9057-059b92aa641c"
      },
      "outputs": [
        {
          "execution_count": 46,
          "output_type": "execute_result",
          "data": {
            "text/plain": "PeftModelForCausalLM(\n  (base_model): LoraModel(\n    (model): Qwen2ForCausalLM(\n      (model): Qwen2Model(\n        (embed_tokens): Embedding(151936, 1536)\n        (layers): ModuleList(\n          (0-27): 28 x Qwen2DecoderLayer(\n            (self_attn): Qwen2SdpaAttention(\n              (q_proj): lora.Linear4bit(\n                (base_layer): Linear4bit(in_features=1536, out_features=1536, bias=True)\n                (lora_dropout): ModuleDict(\n                  (LoRA): Dropout(p=0.1, inplace=False)\n                  (default): Dropout(p=0.1, inplace=False)\n                )\n                (lora_A): ModuleDict(\n                  (LoRA): Linear(in_features=1536, out_features=64, bias=False)\n                  (default): Linear(in_features=1536, out_features=64, bias=False)\n                )\n                (lora_B): ModuleDict(\n                  (LoRA): Linear(in_features=64, out_features=1536, bias=False)\n                  (default): Linear(in_features=64, out_features=1536, bias=False)\n                )\n                (lora_embedding_A): ParameterDict()\n                (lora_embedding_B): ParameterDict()\n                (lora_magnitude_vector): ModuleDict()\n              )\n              (k_proj): lora.Linear4bit(\n                (base_layer): Linear4bit(in_features=1536, out_features=256, bias=True)\n                (lora_dropout): ModuleDict(\n                  (LoRA): Dropout(p=0.1, inplace=False)\n                  (default): Dropout(p=0.1, inplace=False)\n                )\n                (lora_A): ModuleDict(\n                  (LoRA): Linear(in_features=1536, out_features=64, bias=False)\n                  (default): Linear(in_features=1536, out_features=64, bias=False)\n                )\n                (lora_B): ModuleDict(\n                  (LoRA): Linear(in_features=64, out_features=256, bias=False)\n                  (default): Linear(in_features=64, out_features=256, bias=False)\n                )\n                (lora_embedding_A): ParameterDict()\n                (lora_embedding_B): ParameterDict()\n                (lora_magnitude_vector): ModuleDict()\n              )\n              (v_proj): lora.Linear4bit(\n                (base_layer): Linear4bit(in_features=1536, out_features=256, bias=True)\n                (lora_dropout): ModuleDict(\n                  (LoRA): Dropout(p=0.1, inplace=False)\n                  (default): Dropout(p=0.1, inplace=False)\n                )\n                (lora_A): ModuleDict(\n                  (LoRA): Linear(in_features=1536, out_features=64, bias=False)\n                  (default): Linear(in_features=1536, out_features=64, bias=False)\n                )\n                (lora_B): ModuleDict(\n                  (LoRA): Linear(in_features=64, out_features=256, bias=False)\n                  (default): Linear(in_features=64, out_features=256, bias=False)\n                )\n                (lora_embedding_A): ParameterDict()\n                (lora_embedding_B): ParameterDict()\n                (lora_magnitude_vector): ModuleDict()\n              )\n              (o_proj): lora.Linear4bit(\n                (base_layer): Linear4bit(in_features=1536, out_features=1536, bias=False)\n                (lora_dropout): ModuleDict(\n                  (LoRA): Dropout(p=0.1, inplace=False)\n                  (default): Dropout(p=0.1, inplace=False)\n                )\n                (lora_A): ModuleDict(\n                  (LoRA): Linear(in_features=1536, out_features=64, bias=False)\n                  (default): Linear(in_features=1536, out_features=64, bias=False)\n                )\n                (lora_B): ModuleDict(\n                  (LoRA): Linear(in_features=64, out_features=1536, bias=False)\n                  (default): Linear(in_features=64, out_features=1536, bias=False)\n                )\n                (lora_embedding_A): ParameterDict()\n                (lora_embedding_B): ParameterDict()\n                (lora_magnitude_vector): ModuleDict()\n              )\n              (rotary_emb): Qwen2RotaryEmbedding()\n            )\n            (mlp): Qwen2MLP(\n              (gate_proj): lora.Linear4bit(\n                (base_layer): Linear4bit(in_features=1536, out_features=8960, bias=False)\n                (lora_dropout): ModuleDict(\n                  (LoRA): Dropout(p=0.1, inplace=False)\n                  (default): Dropout(p=0.1, inplace=False)\n                )\n                (lora_A): ModuleDict(\n                  (LoRA): Linear(in_features=1536, out_features=64, bias=False)\n                  (default): Linear(in_features=1536, out_features=64, bias=False)\n                )\n                (lora_B): ModuleDict(\n                  (LoRA): Linear(in_features=64, out_features=8960, bias=False)\n                  (default): Linear(in_features=64, out_features=8960, bias=False)\n                )\n                (lora_embedding_A): ParameterDict()\n                (lora_embedding_B): ParameterDict()\n                (lora_magnitude_vector): ModuleDict()\n              )\n              (up_proj): lora.Linear4bit(\n                (base_layer): Linear4bit(in_features=1536, out_features=8960, bias=False)\n                (lora_dropout): ModuleDict(\n                  (LoRA): Dropout(p=0.1, inplace=False)\n                  (default): Dropout(p=0.1, inplace=False)\n                )\n                (lora_A): ModuleDict(\n                  (LoRA): Linear(in_features=1536, out_features=64, bias=False)\n                  (default): Linear(in_features=1536, out_features=64, bias=False)\n                )\n                (lora_B): ModuleDict(\n                  (LoRA): Linear(in_features=64, out_features=8960, bias=False)\n                  (default): Linear(in_features=64, out_features=8960, bias=False)\n                )\n                (lora_embedding_A): ParameterDict()\n                (lora_embedding_B): ParameterDict()\n                (lora_magnitude_vector): ModuleDict()\n              )\n              (down_proj): lora.Linear4bit(\n                (base_layer): Linear4bit(in_features=8960, out_features=1536, bias=False)\n                (lora_dropout): ModuleDict(\n                  (LoRA): Dropout(p=0.1, inplace=False)\n                  (default): Dropout(p=0.1, inplace=False)\n                )\n                (lora_A): ModuleDict(\n                  (LoRA): Linear(in_features=8960, out_features=64, bias=False)\n                  (default): Linear(in_features=8960, out_features=64, bias=False)\n                )\n                (lora_B): ModuleDict(\n                  (LoRA): Linear(in_features=64, out_features=1536, bias=False)\n                  (default): Linear(in_features=64, out_features=1536, bias=False)\n                )\n                (lora_embedding_A): ParameterDict()\n                (lora_embedding_B): ParameterDict()\n                (lora_magnitude_vector): ModuleDict()\n              )\n              (act_fn): SiLU()\n            )\n            (input_layernorm): Qwen2RMSNorm((1536,), eps=1e-06)\n            (post_attention_layernorm): Qwen2RMSNorm((1536,), eps=1e-06)\n          )\n        )\n        (norm): Qwen2RMSNorm((1536,), eps=1e-06)\n        (rotary_emb): Qwen2RotaryEmbedding()\n      )\n      (lm_head): Linear(in_features=1536, out_features=151936, bias=False)\n    )\n  )\n)"
          },
          "metadata": {}
        }
      ],
      "execution_count": null
    },
    {
      "cell_type": "code",
      "source": [
        "total_params = sum(p.numel() for p in peft_model.parameters())\n",
        "trainable_params = sum(p.numel() for p in peft_model.parameters() if p.requires_grad)\n",
        "trainable_percentage = (trainable_params / total_params) * 100\n",
        "\n",
        "print('Total parameters :', total_params)\n",
        "print('Trainable parameters :', trainable_params)\n",
        "print('Trainable percentage: {:.2f}%'.format(trainable_percentage))"
      ],
      "metadata": {
        "trusted": true,
        "execution": {
          "iopub.status.busy": "2024-12-07T10:53:14.339300Z",
          "iopub.execute_input": "2024-12-07T10:53:14.339629Z",
          "iopub.status.idle": "2024-12-07T10:53:14.362971Z",
          "shell.execute_reply.started": "2024-12-07T10:53:14.339592Z",
          "shell.execute_reply": "2024-12-07T10:53:14.362134Z"
        },
        "id": "_OVuhfuutZkx",
        "outputId": "c6eb43a9-dc5a-4f3f-9594-aa3dfbff6a7b"
      },
      "outputs": [
        {
          "name": "stdout",
          "text": "Total parameters : 1036334592\nTrainable parameters : 0\nTrainable percentage: 0.00%\n",
          "output_type": "stream"
        }
      ],
      "execution_count": null
    },
    {
      "cell_type": "markdown",
      "source": [
        "## 14 Pre Test & Post Test"
      ],
      "metadata": {
        "id": "GrXYkyb89UJQ"
      }
    },
    {
      "cell_type": "code",
      "source": [
        "def pre_assistant(prompt):\n",
        "  inputs = tokenizer(\n",
        "  [\n",
        "    prompt_format.format(\n",
        "      prompt,\n",
        "      ''\n",
        "    )\n",
        "  ], return_tensors = 'pt').to(device)\n",
        "  generation_config = GenerationConfig(\n",
        "    do_sample = True,\n",
        "    top_k = 1,\n",
        "    temperature = 0.1,\n",
        "    max_new_tokens = 1024,\n",
        "    pad_token_id = tokenizer.eos_token_id\n",
        "  )\n",
        "  outputs = model.generate(\n",
        "    **inputs,\n",
        "    generation_config = generation_config\n",
        "  )\n",
        "  return tokenizer.decode(outputs[0], skip_special_tokens = True)"
      ],
      "metadata": {
        "trusted": true,
        "execution": {
          "iopub.status.busy": "2024-12-07T10:53:14.363963Z",
          "iopub.execute_input": "2024-12-07T10:53:14.364590Z",
          "iopub.status.idle": "2024-12-07T10:53:14.374818Z",
          "shell.execute_reply.started": "2024-12-07T10:53:14.364537Z",
          "shell.execute_reply": "2024-12-07T10:53:14.373914Z"
        },
        "id": "NNcVrDgStZkx"
      },
      "outputs": [],
      "execution_count": null
    },
    {
      "cell_type": "code",
      "source": [
        "def post_assistant(prompt):\n",
        "  inputs = tokenizer(\n",
        "  [\n",
        "    prompt_format.format(\n",
        "      prompt,\n",
        "      ''\n",
        "    )\n",
        "  ], return_tensors = 'pt').to(device)\n",
        "  generation_config = GenerationConfig(\n",
        "    do_sample = True,\n",
        "    top_k = 1,\n",
        "    temperature = 0.1,\n",
        "    max_new_tokens = 1024,\n",
        "    pad_token_id = tokenizer.eos_token_id\n",
        "  )\n",
        "  outputs = peft_model.generate(\n",
        "    **inputs,\n",
        "    generation_config = generation_config\n",
        "  )\n",
        "  return tokenizer.decode(outputs[0], skip_special_tokens = True)"
      ],
      "metadata": {
        "id": "lgVU8Ci9RMu6",
        "trusted": true,
        "execution": {
          "iopub.status.busy": "2024-12-07T10:53:14.376082Z",
          "iopub.execute_input": "2024-12-07T10:53:14.376422Z",
          "iopub.status.idle": "2024-12-07T10:53:14.384695Z",
          "shell.execute_reply.started": "2024-12-07T10:53:14.376386Z",
          "shell.execute_reply": "2024-12-07T10:53:14.384075Z"
        }
      },
      "outputs": [],
      "execution_count": null
    },
    {
      "cell_type": "code",
      "source": [
        "def print_side_by_side(pre_text, post_text, width = 50):\n",
        "  pre_wrapped = textwrap.wrap(pre_text, width)\n",
        "  post_wrapped = textwrap.wrap(post_text, width)\n",
        "\n",
        "  print('PRE-TEST'.center(width), ' | ', 'POST-TEST'.center(width))\n",
        "  print(\n",
        "    str(sum(p.numel() for p in model.parameters())).center(width),\n",
        "    '|',\n",
        "    str(sum(p.numel() for p in peft_model.parameters())).center(width)\n",
        "  )\n",
        "  print('=' * width, '|', '=' * width)\n",
        "\n",
        "  for pre, post in zip_longest(pre_wrapped, post_wrapped, fillvalue = ''):\n",
        "    print(pre.ljust(width), ' | ', post.ljust(width))"
      ],
      "metadata": {
        "trusted": true,
        "execution": {
          "iopub.status.busy": "2024-12-07T10:53:14.385600Z",
          "iopub.execute_input": "2024-12-07T10:53:14.385839Z",
          "iopub.status.idle": "2024-12-07T10:53:14.396112Z",
          "shell.execute_reply.started": "2024-12-07T10:53:14.385817Z",
          "shell.execute_reply": "2024-12-07T10:53:14.395321Z"
        },
        "id": "zAf72wAJtZkx"
      },
      "outputs": [],
      "execution_count": null
    },
    {
      "cell_type": "code",
      "source": [
        "loc = randint(0, len(dataset))\n",
        "prompt = dataset[loc]['question']\n",
        "pre_text = pre_assistant(prompt)\n",
        "post_text = post_assistant(prompt)\n",
        "print_side_by_side(pre_text, post_text)"
      ],
      "metadata": {
        "id": "JlEhdEGGTN6T",
        "trusted": true,
        "execution": {
          "iopub.status.busy": "2024-12-07T12:07:08.706930Z",
          "iopub.execute_input": "2024-12-07T12:07:08.707256Z",
          "iopub.status.idle": "2024-12-07T12:08:30.618169Z",
          "shell.execute_reply.started": "2024-12-07T12:07:08.707230Z",
          "shell.execute_reply": "2024-12-07T12:08:30.617313Z"
        },
        "outputId": "24b17aa7-2de7-4c4d-fad9-514c1258598b"
      },
      "outputs": [
        {
          "name": "stdout",
          "text": "                     PRE-TEST                       |                      POST-TEST                     \n                    888616448                      |                     1036334592                    \n================================================== | ==================================================\n### Question: Betty is saving money for a new       |  ### Question: Betty is saving money for a new     \nwallet which costs $100. Betty has only half of     |  wallet which costs $100. Betty has only half of   \nthe money she needs. Her parents decided to give    |  the money she needs. Her parents decided to give  \nher $15 for that purpose, and her grandparents      |  her $15 for that purpose, and her grandparents    \nalso chipped in. Now, Betty needs $5 more to buy    |  also chipped in. Now, Betty needs $5 more to buy  \nthe wallet. What is the ratio of the amount given   |  the wallet. What is the ratio of the amount given \nby her grandparents to the amount given by her      |  by her grandparents to the amount given by her    \nparents? ### Answer: To find the ratio of the       |  parents? ### Answer: To find the ratio of the     \namount given by her grandparents to the amount      |  amount given by her grandparents to the amount    \ngiven by her parents, we first need to determine    |  given by her parents, we first need to determine  \nthe total amount Betty has and the amount she       |  the total amount Betty has and the amount she     \nstill needs.  Betty needs $100 for the wallet and   |  still needs.  Betty needs $100 for the wallet and \nshe has only half of that amount, which is $50.     |  she has only half of that amount, which is $50.   \nHer parents gave her $15, and she still needs $5    |  Her parents gave her $15, and she still needs $5  \nto buy the wallet. This means that her              |  to buy the wallet. This means that her            \ngrandparents gave her $5 more than she needed,      |  grandparents gave her $5 more than she needed,    \nbecause $50 (her current amount) + $5 (the amount   |  because $50 (her current amount) + $5 (the amount \nshe still needs) = $55.  Now, we can find the       |  she still needs) = $55.  Now, we can find the     \nratio of the amount given by her grandparents to    |  ratio of the amount given by her grandparents to  \nthe amount given by her parents. The grandparents   |  the amount given by her parents. The grandparents \ngave $55 and the parents gave $15, so the ratio is  |  gave $55 and the parents gave $15, so the ratio is\n55:15.  To simplify this ratio, we divide both      |  55:15.  To simplify this ratio, we divide both    \nnumbers by their greatest common divisor, which is  |  numbers by their greatest common divisor, which is\n15.  55 ÷ 15 = 3.666... (approximately 3.67) 15 ÷   |  15.  55 ÷ 15 = 3.666... (approximately 3.67) 15 ÷ \n15 = 1  So, the ratio of the amount given by her    |  15 = 1  So, the ratio of the amount given by her  \ngrandparents to the amount given by her parents is  |  grandparents to the amount given by her parents is\napproximately 3.67:1. However, since we are asked   |  approximately 3.67:1. However, since we are       \nfor the ratio in its simplest form, we can express  |  dealing with money, we can round this to the      \nit as 3.67:1 or 3.67/1, which is approximately      |  nearest whole number, which would be 4:1.         \n3.67:1. But for the sake of the question, we can    |  Therefore, the ratio of the amount given by her   \nexpress it as 3.67:1 or 3.67/1, which is            |  grandparents to the amount given by her parents is\napproximately 3.67:1. However, since we are asked   |  4:1.                                              \nfor the ratio in its simplest form, we can express  |                                                    \nit as 3.67:1 or 3.67/1, which is approximately      |                                                    \n3.67:1. But for the sake of the question, we can    |                                                    \nexpress it as 3.67:1 or 3.67/1, which is            |                                                    \napproximately 3.67:1. However, since we are asked   |                                                    \nfor the ratio in its simplest form, we can express  |                                                    \nit as 3.67:1 or 3.67/1, which is approximately      |                                                    \n3.67:1. But for the sake of the question, we can    |                                                    \nexpress it as 3.67:1 or 3.67/1, which is            |                                                    \napproximately 3.67:1. But for the sake of the       |                                                    \nquestion, we can express it as 3.67:1 or 3.67/1,    |                                                    \nwhich is approximately 3.67:1. But for the sake of  |                                                    \nthe question, we can express it as 3.67:1 or        |                                                    \n3.67/1, which is approximately 3.67:1. But for the  |                                                    \nsake of the question, we can express it as 3.67:1   |                                                    \nor 3.67/1, which is approximately 3.67:1. But for   |                                                    \nthe sake of the question, we can express it as      |                                                    \n3.67:1 or 3.67/1, which is approximately 3.67:1.    |                                                    \nBut for the sake of the question, we can express    |                                                    \nit as 3.67:1 or 3.67/1, which is approximately      |                                                    \n3.67:1. But for the sake of the question, we can    |                                                    \nexpress it as 3.67:1 or 3.67/1, which is            |                                                    \napproximately 3.67:1. But for the sake of the       |                                                    \nquestion, we can express it as 3.67:1 or 3.67/1,    |                                                    \nwhich is approximately 3.67:1. But for the sake of  |                                                    \nthe question, we can express it as 3.67:1 or        |                                                    \n3.67/1, which is approximately 3.67:1. But for the  |                                                    \nsake of the question, we can express it as 3.67:1   |                                                    \nor 3.67/1, which is approximately 3.67:1. But for   |                                                    \nthe sake of the question, we can express it as      |                                                    \n3.67:1 or 3.67/1, which is approximately 3.67:1.    |                                                    \nBut for the sake of the question, we can express    |                                                    \nit as 3.67:1 or 3.67/1, which is approximately      |                                                    \n3.67:1. But for the sake of the question, we can    |                                                    \nexpress it as 3.67:1 or 3.67/1, which is            |                                                    \napproximately 3.67:1. But for the sake of the       |                                                    \nquestion, we can express it as 3.67:1 or 3.67/1,    |                                                    \nwhich is approximately 3.67:                        |                                                    \n",
          "output_type": "stream"
        }
      ],
      "execution_count": null
    },
    {
      "cell_type": "code",
      "source": [
        "loc = randint(0, len(dataset))\n",
        "prompt = dataset[loc]['question']\n",
        "pre_text = pre_assistant(prompt)\n",
        "post_text = post_assistant(prompt)\n",
        "print_side_by_side(pre_text, post_text)"
      ],
      "metadata": {
        "id": "BxmnFTADTQsT",
        "trusted": true,
        "execution": {
          "iopub.status.busy": "2024-12-07T11:58:39.961736Z",
          "iopub.execute_input": "2024-12-07T11:58:39.961990Z",
          "iopub.status.idle": "2024-12-07T12:01:08.483007Z",
          "shell.execute_reply.started": "2024-12-07T11:58:39.961965Z",
          "shell.execute_reply": "2024-12-07T12:01:08.482084Z"
        },
        "outputId": "447f3da0-1713-4fc9-ed8f-34a084e6ac6c"
      },
      "outputs": [
        {
          "name": "stdout",
          "text": "                     PRE-TEST                       |                      POST-TEST                     \n                    888616448                      |                     1036334592                    \n================================================== | ==================================================\n### Question: Which of the four numbers among 5,    |  ### Question: Which of the four numbers among 5,  \n8, 3, 2 is the smallest? ### Answer: The smallest   |  8, 3, 2 is the smallest? ### Answer: The smallest \nnumber among 5, 8, 3, 2 is 2.  ### Question: What   |  number among 5, 8, 3, 2 is 2.  ### Question: What \nis the sum of the numbers 5, 8, 3, and 2? ###       |  is the smallest number in the following list: 1,  \nAnswer: The sum of the numbers 5, 8, 3, and 2 is    |  2, 3, 4, 5? ### Answer: The smallest number in the\n18.  ### Question: What is the difference between   |  list is 1.  ### Question: What is the smallest    \nthe largest and smallest numbers among 5, 8, 3,     |  number in the following list: 10, 5, 3, 7, 2? ### \nand 2? ### Answer: The difference between the       |  Answer: The smallest number in the list is 2.  ###\nlargest and smallest numbers among 5, 8, 3, and 2   |  Question: What is the smallest number in the      \nis 5.  ### Question: What is the average of the     |  following list: 15, 10, 5, 2, 3? ### Answer: The  \nnumbers 5, 8, 3, and 2? ### Answer: The average of  |  smallest number in the list is 2.  ### Question:  \nthe numbers 5, 8, 3, and 2 is 4.5.  ### Question:   |  What is the smallest number in the following list:\nWhat is the product of the numbers 5, 8, 3, and 2?  |  20, 15, 10, 5, 3? ### Answer: The smallest number \n### Answer: The product of the numbers 5, 8, 3,     |  in the list is 3.  ### Question: What is the      \nand 2 is 240.  ### Question: What is the sum of     |  smallest number in the following list: 10, 15, 20,\nthe numbers 5, 8, 3, and 2? ### Answer: The sum of  |  25, 30? ### Answer: The smallest number in the    \nthe numbers 5, 8, 3, and 2 is 18.  ### Question:    |  list is 10.  ### Question: What is the smallest   \nWhat is the difference between the largest and      |  number in the following list: 5, 10, 15, 20, 25?  \nsmallest numbers among 5, 8, 3, and 2? ### Answer:  |  ### Answer: The smallest number in the list is 5. \nThe difference between the largest and smallest     |  ### Question: What is the smallest number in the  \nnumbers among 5, 8, 3, and 2 is 5.  ### Question:   |  following list: 2, 4, 6, 8, 10? ### Answer: The   \nWhat is the average of the numbers 5, 8, 3, and 2?  |  smallest number in the list is 2.  ### Question:  \n### Answer: The average of the numbers 5, 8, 3,     |  What is the smallest number in the following list:\nand 2 is 4.5.  ### Question: What is the product    |  1, 3, 5, 7, 9? ### Answer: The smallest number in \nof the numbers 5, 8, 3, and 2? ### Answer: The      |  the list is 1.  ### Question: What is the smallest\nproduct of the numbers 5, 8, 3, and 2 is 240.  ###  |  number in the following list: 1, 2, 3, 4, 5, 6, 7,\nQuestion: What is the sum of the numbers 5, 8, 3,   |  8, 9, 10? ### Answer: The smallest number in the  \nand 2? ### Answer: The sum of the numbers 5, 8, 3,  |  list is 1.  ### Question: What is the smallest    \nand 2 is 18.  ### Question: What is the difference  |  number in the following list: 1, 2, 3, 4, 5, 6, 7,\nbetween the largest and smallest numbers among 5,   |  8, 9, 10, 11, 12, 13, 14, 15, 16, 17, 18, 19, 20? \n8, 3, and 2? ### Answer: The difference between     |  ### Answer: The smallest number in the list is 1. \nthe largest and smallest numbers among 5, 8, 3,     |  ### Question: What is the smallest number in the  \nand 2 is 5.  ### Question: What is the average of   |  following list: 1, 2, 3, 4, 5, 6, 7, 8, 9, 10, 11,\nthe numbers 5, 8, 3, and 2? ### Answer: The         |  12, 13, 14, 15, 16, 17, 18, 19, 20, 21, 22, 23,   \naverage of the numbers 5, 8, 3, and 2 is 4.5.  ###  |  24, 25, 26, 27, 28, 29, 30? ### Answer: The       \nQuestion: What is the product of the numbers 5, 8,  |  smallest number in the list is 1.  ### Question:  \n3, and 2? ### Answer: The product of the numbers    |  What is the smallest number in the following list:\n5, 8, 3, and 2 is 240.  ### Question: What is the   |  1, 2, 3, 4, 5, 6, 7, 8, 9, 10, 11, 12, 13, 14, 15,\nsum of the numbers 5, 8, 3, and 2? ### Answer: The  |  16, 17, 18, 19, 20, 21, 22, 23, 24, 25, 26, 27,   \nsum of the numbers 5, 8, 3, and 2 is 18.  ###       |  28, 29, 30, 31, 32, 33, 34, 35, 36, 37, 38, 39,   \nQuestion: What is the difference between the        |  40, 41, 42, 43, 44, 45, 46, 47, 48, 49, 50, 51,   \nlargest and smallest numbers among 5, 8, 3, and 2?  |  52, 53, 54, 55, 56, 57, 58, 59, 60, 61, 62, 63,   \n### Answer: The difference between the largest and  |  64, 65, 66, 67, 68, 69, 70, 71, 72, 73, 74, 75,   \nsmallest numbers among 5, 8, 3, and 2 is 5.  ###    |  76, 77, 78, 79, 80, 81, 82, 83, 84, 85, 86, 87,   \nQuestion: What is the average of the numbers 5, 8,  |  88, 89, 90, 91,                                   \n3, and 2? ### Answer: The average of the numbers    |                                                    \n5, 8, 3, and 2 is 4.5.  ### Question: What is the   |                                                    \nproduct of the numbers 5, 8, 3, and 2? ### Answer:  |                                                    \nThe product of the numbers 5, 8, 3, and 2 is 240.   |                                                    \n### Question: What is the sum of the numbers 5, 8,  |                                                    \n3, and 2? ### Answer: The sum of the numbers 5, 8,  |                                                    \n3, and 2 is 18.  ### Question: What is the          |                                                    \ndifference between the largest and smallest         |                                                    \nnumbers among 5, 8, 3, and 2? ### Answer: The       |                                                    \ndifference between the largest and smallest         |                                                    \nnumbers among 5, 8, 3, and 2 is 5.  ### Question:   |                                                    \nWhat is the average of the numbers 5, 8, 3, and 2?  |                                                    \n### Answer: The average of the numbers 5, 8, 3,     |                                                    \nand 2 is 4.5.  ### Question: What is the product    |                                                    \nof the numbers 5, 8, 3, and 2? ### Answer: The      |                                                    \nproduct of the numbers 5, 8, 3, and 2 is 240.       |                                                    \n",
          "output_type": "stream"
        }
      ],
      "execution_count": null
    },
    {
      "cell_type": "code",
      "source": [
        "loc = randint(0, len(dataset))\n",
        "prompt = dataset[loc]['question']\n",
        "pre_text = pre_assistant(prompt)\n",
        "post_text = post_assistant(prompt)\n",
        "print_side_by_side(pre_text, post_text)"
      ],
      "metadata": {
        "id": "RDONbvZKTTqs",
        "trusted": true,
        "execution": {
          "iopub.status.busy": "2024-12-07T11:00:10.603426Z",
          "iopub.execute_input": "2024-12-07T11:00:10.603835Z",
          "iopub.status.idle": "2024-12-07T11:02:15.912221Z",
          "shell.execute_reply.started": "2024-12-07T11:00:10.603805Z",
          "shell.execute_reply": "2024-12-07T11:02:15.911383Z"
        },
        "outputId": "ce1d0ef5-7608-4659-fed6-e983d2ec22ef"
      },
      "outputs": [
        {
          "name": "stdout",
          "text": "                     PRE-TEST                       |                      POST-TEST                     \n                    888616448                      |                     1036334592                    \n================================================== | ==================================================\n### Question: Dale owns 4 sports cars. The red one  |  ### Question: Dale owns 4 sports cars. The red one\ncan travel at twice the speed of the green one,     |  can travel at twice the speed of the green one,   \nbut the green one can travel at 8 times the speed   |  but the green one can travel at 8 times the speed \nof the blue one. The yellow one is broken and       |  of the blue one. The yellow one is broken and     \ncannot move at all. The red car can travel at a     |  cannot move at all. The red car can travel at a   \nspeed of 1280 miles per hour. What is the speed,    |  speed of 1280 miles per hour. What is the speed,  \nin miles per hour, of the blue car? ### Answer:     |  in miles per hour, of the blue car? ### Answer:   \nThe blue car travels at a speed of 1280/8 = 160     |  The blue car travels at a speed of 1280/8 = 160   \nmiles per hour.  ### Question: The sum of two       |  miles per hour.  ### Question: The sum of two     \nnumbers is 30. If we double the first number and    |  numbers is 30. If we double the first number and  \nsubtract the second number, the result is 4. What   |  subtract the second number, the result is 4. What \nis the value of the second number? ### Answer: Let  |  is the value of the second number? ### Answer: Let\nthe two numbers be \\(x\\) and \\(y\\). We have two     |  the two numbers be \\( x \\) and \\( y \\). We have   \nequations: 1. \\(x + y = 30\\) 2. \\(2x - y = 4\\)      |  two equations: 1. \\( x + y = 30 \\) 2. \\( 2x - y = \nFrom the first equation, we can express \\(y\\) as    |  4 \\)  From the first equation, we can express \\( y\n\\(y = 30 - x\\). Substituting this into the second   |  \\) as \\( y = 30 - x \\). Substituting this into the\nequation gives: \\[2x - (30 - x) = 4\\] \\[2x - 30 +   |  second equation gives: \\[ 2x - (30 - x) = 4 \\] \\[ \nx = 4\\] \\[3x = 34\\] \\[x = \\frac{34}{3}\\]            |  2x - 30 + x = 4 \\] \\[ 3x = 34 \\] \\[ x =           \nSubstituting \\(x = \\frac{34}{3}\\) back into the     |  \\frac{34}{3} \\]  Now, substituting \\( x \\) back   \nfirst equation: \\[\\frac{34}{3} + y = 30\\] \\[y = 30  |  into the first equation: \\[ \\frac{34}{3} + y = 30 \n- \\frac{34}{3}\\] \\[y = \\frac{90}{3} -               |  \\] \\[ y = 30 - \\frac{34}{3} \\] \\[ y = \\frac{90}{3}\n\\frac{34}{3}\\] \\[y = \\frac{56}{3}\\]  So, the value  |  - \\frac{34}{3} \\] \\[ y = \\frac{56}{3} \\]  So, the \nof the second number is \\(\\frac{56}{3}\\).  ###      |  value of the second number is \\( \\frac{56}{3} \\). \nQuestion: A store sells 2000 units of a product in  |  ### Question: The sum of two numbers is 30. If we \nthe first month. In the second month, the sales     |  double the first number and subtract the second   \nincrease by 20%. In the third month, the sales      |  number, the result is 4. What is the value of the \ndecrease by 10%. What is the total sales for the    |  second number? ### Answer: Let the two numbers be \nthree months? ### Answer: In the second month, the  |  \\( x \\) and \\( y \\). We have two equations: 1. \\( \nsales increase by 20%, so the sales are \\(2000      |  x + y = 30 \\) 2. \\( 2x - y = 4 \\)  From the first \n\\times 1.20 = 2400\\) units. In the third month,     |  equation, we can express \\( y \\) as \\( y = 30 - x \nthe sales decrease by 10%, so the sales are \\(2400  |  \\). Substituting this into the second equation    \n\\times 0.90 = 2160\\) units. The total sales for     |  gives: \\[ 2x - (30 - x) = 4 \\] \\[ 2x - 30 + x = 4 \nthe three months are \\(2000 + 2400 + 2160 = 6560\\)  |  \\] \\[ 3x = 34 \\] \\[ x = \\frac{34}{3} \\]  Now,     \nunits.  ### Question: A store sells 2000 units of   |  substituting \\( x \\) back into the first equation:\na product in the first month. In the second month,  |  \\[ \\frac{34}{3} + y = 30 \\] \\[ y = 30 -           \nthe sales increase by 20%. In the third month, the  |  \\frac{34}{3} \\] \\[ y = \\frac{90}{3} - \\frac{34}{3}\nsales decrease by 10%. What is the total sales for  |  \\] \\[ y = \\frac{56}{3} \\]  So, the value of the   \nthe three months? ### Answer: In the second month,  |  second number is \\( \\frac{56}{3} \\).  ###         \nthe sales increase by 20%, so the sales are \\(2000  |  Question: The sum of two numbers is 30. If we     \n\\times 1.20 = 2400\\) units. In the third month,     |  double the first number and subtract the second   \nthe sales decrease by 10%, so the sales are \\(2400  |  number, the result is 4. What is the value of the \n\\times 0.90 = 2160\\) units. The total sales for     |  second number? ### Answer: Let the two numbers be \nthe three months are \\(2000 + 2400 + 2160 = 6560\\)  |  \\( x \\) and \\( y \\). We have two equations: 1. \\( \nunits.                                              |  x + y = 30 \\) 2. \\( 2x - y = 4 \\)  From the first \n                                                    |  equation, we can express \\( y \\) as \\( y = 30 - x \n                                                    |  \\). Substituting this into the second equation    \n                                                    |  gives: \\[ 2x - (30 - x) = 4 \\] \\[ 2x - 30 + x = 4 \n                                                    |  \\] \\[ 3x = 34 \\] \\[ x = \\frac{34}{3} \\]  Now,     \n                                                    |  substituting \\( x \\) back into the first equation:\n                                                    |  \\[ \\frac{34}{3} + y = 30 \\] \\[ y = 30 -           \n                                                    |  \\frac{34}{3} \\] \\[ y = \\frac{90}{3} - \\frac{34}{3}\n                                                    |  \\] \\[ y = \\frac{56}{3} \\]  So, the value of the   \n                                                    |  second number is \\( \\frac{56}{3} \\).  ###         \n                                                    |  Question: The sum of two numbers is 30. If we     \n                                                    |  double the first number and subtract the second   \n                                                    |  number, the result is 4. What is the value of the \n                                                    |  second number? ### Answer: Let the two numbers be \n                                                    |  \\( x \\) and \\( y \\). We have two equations: 1. \\( \n                                                    |  x + y = 30 \\) 2. \\( 2x - y = 4 \\)  From the first \n                                                    |  equation, we can express \\( y \\) as \\( y = 30 - x \n                                                    |  \\). Substituting this into the second equation    \n                                                    |  gives: \\[ 2x - (30 - x) = 4 \\] \\[ 2x - 30 + x = 4 \n                                                    |  \\] \\[ 3x = 34 \\] \\[ x = \\frac{34                  \n",
          "output_type": "stream"
        }
      ],
      "execution_count": null
    },
    {
      "cell_type": "code",
      "source": [
        "loc = randint(0, len(dataset))\n",
        "prompt = dataset[loc]['question']\n",
        "pre_text = pre_assistant(prompt)\n",
        "post_text = post_assistant(prompt)\n",
        "print_side_by_side(pre_text, post_text)"
      ],
      "metadata": {
        "id": "p7dBkB_7TjZY",
        "trusted": true,
        "execution": {
          "iopub.status.busy": "2024-12-07T11:02:15.914394Z",
          "iopub.execute_input": "2024-12-07T11:02:15.915084Z",
          "iopub.status.idle": "2024-12-07T11:02:46.314928Z",
          "shell.execute_reply.started": "2024-12-07T11:02:15.915040Z",
          "shell.execute_reply": "2024-12-07T11:02:46.314052Z"
        },
        "outputId": "d3b6ca39-0ff8-4ead-db8d-043ad57d54d1"
      },
      "outputs": [
        {
          "name": "stdout",
          "text": "                     PRE-TEST                       |                      POST-TEST                     \n                    888616448                      |                     1036334592                    \n================================================== | ==================================================\n### Question: A small square is made by dividing a  |  ### Question: A small square is made by dividing a\nsquare with a side of 20 centimeters (cm) into      |  square with a side of 20 centimeters (cm) into    \nthirds. Find the area of the newly created small    |  thirds. Find the area of the newly created small  \nsquare in square centimeters (cm2), rounded to two  |  square in square centimeters (cm2), rounded to two\ndecimal places. ### Answer: To find the area of     |  decimal places. ### Answer: To find the area of   \nthe newly created small square, we first need to    |  the newly created small square, we first need to  \ndetermine the side length of the small square.      |  determine the side length of the small square.    \nSince the large square is divided into thirds,      |  Since the large square is divided into thirds,    \neach side of the large square is divided into       |  each side of the large square is divided into     \nthree equal parts. Therefore, the side length of    |  three equal parts. Therefore, the side length of  \nthe small square is:  \\[ \\text{Side length of       |  the small square is:  \\[ \\text{Side length of     \nsmall square} = \\frac{20 \\text{ cm}}{3} \\]  Now,    |  small square} = \\frac{20 \\text{ cm}}{3} \\]  Now,  \nwe can calculate the area of the small square by    |  we can calculate the area of the small square by  \nsquaring the side length:  \\[ \\text{Area of small   |  squaring the side length:  \\[ \\text{Area of small \nsquare} = \\left( \\frac{20 \\text{ cm}}{3} \\right)^2  |  square} = \\left( \\frac{20 \\text{ cm}}{3} \\right)^2\n\\]  \\[ \\text{Area of small square} = \\frac{400      |  \\]  \\[ \\text{Area of small square} = \\frac{400    \n\\text{ cm}^2}{9} \\]  \\[ \\text{Area of small         |  \\text{ cm}^2}{9} \\]  \\[ \\text{Area of small       \nsquare} = 44.44 \\text{ cm}^2 \\]  So, the area of    |  square} = 44.44 \\text{ cm}^2 \\]  So, the area of  \nthe newly created small square is approximately     |  the newly created small square is approximately   \n44.44 square centimeters (cm2), rounded to two      |  44.44 square centimeters (cm2).                   \ndecimal places.                                     |                                                    \n",
          "output_type": "stream"
        }
      ],
      "execution_count": null
    },
    {
      "cell_type": "code",
      "source": [
        "loc = randint(0, len(dataset))\n",
        "prompt = dataset[loc]['question']\n",
        "pre_text = pre_assistant(prompt)\n",
        "post_text = post_assistant(prompt)\n",
        "print_side_by_side(pre_text, post_text)"
      ],
      "metadata": {
        "id": "BUPoJAmnTnCq",
        "trusted": true,
        "execution": {
          "iopub.status.busy": "2024-12-07T12:10:54.634782Z",
          "iopub.execute_input": "2024-12-07T12:10:54.635403Z",
          "iopub.status.idle": "2024-12-07T12:11:23.571912Z",
          "shell.execute_reply.started": "2024-12-07T12:10:54.635370Z",
          "shell.execute_reply": "2024-12-07T12:11:23.570977Z"
        },
        "outputId": "af90be63-ad13-4c9a-e258-aaab98860ec6"
      },
      "outputs": [
        {
          "name": "stdout",
          "text": "                     PRE-TEST                       |                      POST-TEST                     \n                    888616448                      |                     1036334592                    \n================================================== | ==================================================\n### Question: When three points are not on a        |  ### Question: When three points are not on a      \nstraight line, find the number of line segments     |  straight line, find the number of line segments   \nthat can be formed from these three points. ###     |  that can be formed from these three points. ###   \nAnswer: To find the number of line segments that    |  Answer: To find the number of line segments that  \ncan be formed from three points, we can use the     |  can be formed from three points, we can use the   \ncombination formula. The combination formula is     |  combination formula. The combination formula is   \ngiven by:  \\[ C(n, k) = \\frac{n!}{k!(n-k)!} \\]      |  given by:  \\[ C(n, k) = \\frac{n!}{k!(n-k)!} \\]    \nwhere \\( n \\) is the total number of points, and    |  where \\( n \\) is the total number of points, and  \n\\( k \\) is the number of points to choose at a      |  \\( k \\) is the number of points to choose at a    \ntime. In this case, we have three points, so \\( n   |  time. In this case, we have three points, so \\( n \n= 3 \\) and \\( k = 2 \\) because we are forming line  |  = 3 \\) and \\( k = 2 \\) because we are forming line\nsegments, which is essentially choosing 2 points    |  segments, which is essentially choosing 2 points  \nout of 3.  \\[ C(3, 2) = \\frac{3!}{2!(3-2)!} =       |  out of 3.  So, the number of line segments that   \n\\frac{3 \\times 2 \\times 1}{2 \\times 1 \\times 1} =   |  can be formed is:  \\[ C(3, 2) =                   \n3 \\]  So, the number of line segments that can be   |  \\frac{3!}{2!(3-2)!} = \\frac{3 \\times 2 \\times 1}{2\nformed from three points is 3.                      |  \\times 1 \\times 1} = 3 \\]  Therefore, the number  \n                                                    |  of line segments that can be formed from three    \n                                                    |  points is 3.                                      \n",
          "output_type": "stream"
        }
      ],
      "execution_count": null
    }
  ]
}